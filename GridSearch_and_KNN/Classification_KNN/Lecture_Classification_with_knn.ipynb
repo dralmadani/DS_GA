{
 "cells": [
  {
   "cell_type": "markdown",
   "metadata": {},
   "source": [
    "\n",
    "\n",
    "<img src=\"http://imgur.com/1ZcRyrc.png\" style=\"float: left; margin: 15px; height: 80px\">\n",
    "\n",
    "# Intro to Classification + KNN\n",
    "_Dr. Junaid Qazi, PhD_"
   ]
  },
  {
   "cell_type": "markdown",
   "metadata": {},
   "source": [
    "### KNN CODEALONG OBJECTIVES\n",
    "*In this notebook, we will:*\n",
    "- Quickly review types of ML problem\n",
    "- Implement a visualization of KNN on some made-up data \n",
    "- Deploy the sklearn implementation of KNN on coded data (Synthetic dataset provided - *owner Dr. Junaid Qazi*)\n",
    "- Deploy the sklearn implementation of KNN on the Iris dataset together\n",
    "- And deploy KNN on the Wisconsin Breast Cancer dataset individually -- Try this, it's optional\n",
    "---"
   ]
  },
  {
   "cell_type": "markdown",
   "metadata": {},
   "source": [
    "## Classification Review\n",
    "\n",
    "![](https://snag.gy/0Jns5x.jpg)\n",
    "\n",
    "Classifcation methods in machine learning are **supervised methods**.  That is, our training data observations have a discrete or categorical label designating their class.  \n",
    "\n",
    "**Classification is different than regression** (with continuous values) because we are now **predicting classes** / labels.  This can be thought of as a discrimination problem, modelling the differences or similarities between groups. \n",
    "\n",
    "We also assess our models differently in classification than in regression.  Generally, we are concerned with if we identified anything incorrectly, completely missed the mark, or predicted correctly on our test set during cross validation.  There are a few different things we usually talk about and look at when it pertains to classification related to these ideas such as **accuracy**, **recall**, **precision**, **F-measures**, **class imbalance**, and **Reciever Operating Characteristic (ROC)**.\n",
    "\n",
    "For our purposes right now, **we're only looking at accuracy** which is:\n",
    "\n",
    "## $$ \\frac{True Positives + True Negatives}{Total Pos + Total Neg} $$"
   ]
  },
  {
   "cell_type": "markdown",
   "metadata": {},
   "source": [
    "# K Nearest Neighbors Classification, Visually\n",
    "\n",
    "For our first exercise, we are going to look at how the kNN algorithm classifies an unknown point using a randomly generated dataset.\n",
    "\n",
    "---\n",
    "\n",
    "## kNN\n",
    "\n",
    "![](https://snag.gy/hatSE6.jpg)\n",
    "\n",
    "![](https://snag.gy/RKWYcC.jpg)\n",
    "\n",
    "The pseudocode algorithm for kNN is as follows:\n",
    "\n",
    "\n",
    "\n",
    "```\n",
    "for unclassified_point in sample:\n",
    "    for known_point in known_class_points:\n",
    "        calculate distances (euclidean or other) between known_point and unclassified_point\n",
    "    for k in range of specified_neighbors_number:\n",
    "        find k_nearest_points in known_class_points to unclassified_point\n",
    "    assign class to unclassified_point using \"votes\" from k_nearest_points\n",
    "```\n",
    "> ### Common KNN Distance Functions\n",
    "> These distance functions can be used with KNN.  Euclidean is the most common choice.\n",
    ">\n",
    "> ### Euclidean  \n",
    "> $\\sqrt{\\sum\\limits_{i=1}^k(x_i - y_i)^2}$\n",
    ">\n",
    "> ### Manhattan \n",
    "> $\\sum\\limits_{i=1}^k \\left| x_i - y_i \\right|$\n",
    ">\n",
    "> ### Minkowski\n",
    "> $\\left(\\sum_{i=1}^n |x_i-y_i|^p\\right)^{1/p}$\n",
    "\n",
    "---\n",
    "The case where **p = 1** is equivalent to the **Manhattan distance** and the case where p = 2 is equivalent to the Euclidean distance.\n",
    "\n",
    "Although p can be any real value, it is typically set to a value between 1 and 2."
   ]
  },
  {
   "cell_type": "markdown",
   "metadata": {},
   "source": [
    "<a id='euclidean'></a>\n",
    "## Euclidean distance\n",
    "\n",
    "---\n",
    "KNN typically uses one of two distance metrics: euclidean or manhattan. Other distance metrics are possible, but more rare (sometimes it makes sense to create your own distance function).\n",
    "\n",
    "\n",
    "Recal the famous Pythagorean Theorem\n",
    "![Alt text](http://ncalculators.com/images/pythagoras-theorem.gif)\n",
    "\n",
    "We can **apply the theorem to calculate distance between points**. This is called **Euclidean distance**. \n",
    "\n",
    "![Alt text](http://rosalind.info/media/Euclidean_distance.png)\n",
    "\n",
    "### $$\\text{Euclidean  distance}=\\sqrt{(x_1-x_2)^2+(y_1-y_2)^2}$$\n",
    "\n",
    "There are many different distance metrics, but Euclidean is the most common (and default in sklearn).\n",
    "\n",
    "- The default distance we tend to use is the L2 or Euclidean one. \n",
    "    - Has very nice properties (symmetic, spherical, treat all dimensions equally, works well in optimisation problems under constraints)\n",
    "    - Sensitive to extreme differences in single attribute"
   ]
  },
  {
   "cell_type": "markdown",
   "metadata": {},
   "source": [
    "## Good to know!\n",
    "---\n",
    "\n",
    "<a id='manhattan'></a>\n",
    "### Manhattan distance (A.K.A Taxicab Distance)\n",
    "\n",
    "Another way to measure distance between two points is to take the sum of the absolute value of their differences. \n",
    "\n",
    "### $$ D = \\sum_{i=1}^n | x_i - y_i | $$\n",
    "\n",
    "The name Manhattan distance comes from the fact that taxicabs in Manhattan must drive from point A to point B on streets that force traffic to flow forward or backwards and left or right -- but never diagonally. \n",
    "![](https://upload.wikimedia.org/wikipedia/commons/thumb/d/de/Manhattan_distance_bgiu.png/261px-Manhattan_distance_bgiu.png)\n",
    "![](https://pbs.twimg.com/media/CgIlqLTWEAAedKB.jpg)\n",
    "\n",
    "**Note that the Manhattan distance is a less common choice.** In practice, we can cross-validate KNN using both types of distances to see which performs best. \n",
    "\n",
    "![](http://www.improvedoutcomes.com/docs/WebSiteDocs/image/diagram_euclidean_manhattan_distance_metrics.gif)"
   ]
  },
  {
   "cell_type": "markdown",
   "metadata": {},
   "source": [
    "## A Basic Example\n",
    "\n",
    "A basic example first, using a randomly generated dataset having 2 classes.  If we were to predict new points, we need to know where our current observations exist in 2D space.\n"
   ]
  },
  {
   "cell_type": "code",
   "execution_count": 2,
   "metadata": {},
   "outputs": [],
   "source": [
    "import pandas as pd\n",
    "import seaborn as sns\n",
    "import numpy as np\n",
    "\n",
    "import matplotlib.pyplot as plt\n",
    "\n",
    "from sklearn.neighbors import KNeighborsClassifier\n",
    "from sklearn.datasets import make_biclusters\n",
    "from sklearn.model_selection import cross_val_score, train_test_split\n",
    "from sklearn.preprocessing import StandardScaler\n",
    "\n",
    "sns.set(font_scale=2.5)\n",
    "\n",
    "%matplotlib inline\n",
    "\n",
    "\n",
    "# Lines below are just to ignore warnings\n",
    "import warnings\n",
    "warnings.filterwarnings('ignore')"
   ]
  },
  {
   "cell_type": "code",
   "execution_count": 6,
   "metadata": {},
   "outputs": [],
   "source": [
    "## Geneate 2 random clusters, create dataframe\n",
    "X, classes, cols= make_biclusters(shape=(100,2), # features (row,cols)\n",
    "                                   n_clusters=2, # how many classes\n",
    "                                   noise=50,# The standard deviation of the gaussian noise.\n",
    "                                   random_state=42) # to make random same for every one\n",
    "\n",
    "# Return\n",
    "# X : array of shape=(100,2)\n",
    "# classes : array of shape (n_clusters, # classes no\n",
    "#                           X.shape[0]) # number of rows\n",
    "# cols : array of shape (n_clusters,\n",
    "#                        X.shape[1]) # data frames columns\n",
    "# The indicators for cluster membership of each column."
   ]
  },
  {
   "cell_type": "code",
   "execution_count": 7,
   "metadata": {},
   "outputs": [
    {
     "data": {
      "text/plain": [
       "array([[ 102.8573802 ,   52.18223308],\n",
       "       [  95.7611528 ,   62.60517246],\n",
       "       [ 121.88669564,  147.75731812],\n",
       "       [  17.27589719, -132.75880238],\n",
       "       [ -14.59763354,   63.68668101],\n",
       "       [  57.90933265,   25.07241658],\n",
       "       [  44.38742298,   29.10613974],\n",
       "       [  39.04288492,   58.00531634],\n",
       "       [  47.37199105,  -30.01269251],\n",
       "       [  50.52576424,   13.95206461],\n",
       "       [ -79.16471068,  -50.45426714],\n",
       "       [  39.77977319,   48.64817669],\n",
       "       [ 155.10065038,   23.56221519],\n",
       "       [  -3.04320437,  -19.9319195 ],\n",
       "       [  88.70069672,   97.6632908 ],\n",
       "       [ -76.19379988,   40.82225405],\n",
       "       [ 137.93435921,  106.87870105],\n",
       "       [  34.72154296,  104.30593818],\n",
       "       [  -8.08776932,  -51.07760973],\n",
       "       [  16.9090626 ,   74.77171264],\n",
       "       [  74.48937656,   66.8288272 ],\n",
       "       [  93.83780477,   25.24402422],\n",
       "       [ -20.51916543,   -8.88660606],\n",
       "       [  33.65627514,  -15.46442732],\n",
       "       [ 123.3703775 ,   77.72703629],\n",
       "       [  54.59961322,  -63.2559557 ],\n",
       "       [  15.72564479,   12.8558435 ],\n",
       "       [ 183.71116119,  127.06803451],\n",
       "       [ -25.7717831 ,    6.11095826],\n",
       "       [  85.27095172,   79.33973969],\n",
       "       [ -31.77798701,   14.55170006],\n",
       "       [  -8.30304542,   22.64681633],\n",
       "       [  83.58456217,  139.49796499],\n",
       "       [  14.82806922,   41.73977096],\n",
       "       [  78.45720195,  147.84284599],\n",
       "       [ -37.12034186,  -21.40230321],\n",
       "       [  49.82974101,  122.3810892 ],\n",
       "       [  34.42061074,  128.01862421],\n",
       "       [   0.95001655,   45.17662453],\n",
       "       [  59.68198621,  138.91565208],\n",
       "       [  70.19793693,  -47.15284042],\n",
       "       [  52.12458087,  -70.93752293],\n",
       "       [  29.88602335,  -31.47374805],\n",
       "       [ 100.18823115,  131.0697496 ],\n",
       "       [ -44.91039697,   58.98581724],\n",
       "       [ -26.90708308,   38.68502084],\n",
       "       [ 158.9837637 ,  134.06315557],\n",
       "       [  54.98234879,  -75.40766448],\n",
       "       [ 141.72241799,   70.89266347],\n",
       "       [  -0.27639312,  -26.68244019],\n",
       "       [ -31.17386975,  -10.35829451],\n",
       "       [  47.51848412, -130.62745063],\n",
       "       [  44.08805195,   10.9319158 ],\n",
       "       [ -21.3434397 ,  -10.60807109],\n",
       "       [  19.71165109,  127.97440155],\n",
       "       [ 161.81957065,  148.03165719],\n",
       "       [-106.9810328 ,  -35.16719009],\n",
       "       [  77.28732274,   96.02150486],\n",
       "       [ -74.75269354,  -26.72082268],\n",
       "       [ 144.42328762,   47.41350627],\n",
       "       [  95.19528008,  112.55533579],\n",
       "       [ 148.87421478,  139.18664546],\n",
       "       [  82.61285534,  119.45199255],\n",
       "       [ -18.39128621,  -12.83150913],\n",
       "       [ -83.6752311 ,   -0.92754023],\n",
       "       [  87.51741873,  126.59169837],\n",
       "       [ -14.45684282,  -19.77582258],\n",
       "       [  51.28866889,   76.15106763],\n",
       "       [  99.40903501,   51.53224665],\n",
       "       [  55.11744301,  107.11197372],\n",
       "       [  47.83942448,  132.28934082],\n",
       "       [   8.7776647 ,   68.59310668],\n",
       "       [ 134.22133037,   56.79748228],\n",
       "       [-101.11574666,   10.7469415 ],\n",
       "       [  98.13233055,  148.43546302],\n",
       "       [  38.0746587 ,  133.92912951],\n",
       "       [ 156.41782743,  126.44632985],\n",
       "       [ -46.01954025,  168.61481268],\n",
       "       [  69.9160217 ,   49.26195662],\n",
       "       [ 164.76507352,   55.47289541],\n",
       "       [ 139.24375836,  180.89453526],\n",
       "       [  56.9752501 ,   27.07073474],\n",
       "       [  37.18556419,  -39.46291643],\n",
       "       [  -3.79018725,  -51.89149383],\n",
       "       [ -26.25849036,  -29.0439067 ],\n",
       "       [  73.93382355,  100.6816717 ],\n",
       "       [   6.72144413,  -56.52761523],\n",
       "       [ -46.20414189,  -28.56900829],\n",
       "       [  37.74988986,   44.71661651],\n",
       "       [ 100.25255908,  232.28539553],\n",
       "       [ 132.58132847,   89.35766813],\n",
       "       [  52.20697977,  160.53412829],\n",
       "       [ 122.46228776,  156.03338611],\n",
       "       [ 142.59106682,  116.78859978],\n",
       "       [ -44.0295633 ,  -67.33390487],\n",
       "       [ 165.18057525,  165.82455287],\n",
       "       [ 222.52242339,  163.7586138 ],\n",
       "       [  19.46744566,  -11.47252269],\n",
       "       [ 134.41677732,   72.94117596],\n",
       "       [ -49.62930897,  -53.62659172]])"
      ]
     },
     "execution_count": 7,
     "metadata": {},
     "output_type": "execute_result"
    }
   ],
   "source": [
    "X"
   ]
  },
  {
   "cell_type": "code",
   "execution_count": 8,
   "metadata": {},
   "outputs": [
    {
     "data": {
      "text/plain": [
       "array([[False, False, False,  True,  True,  True,  True, False,  True,\n",
       "         True,  True,  True, False,  True, False,  True, False, False,\n",
       "         True,  True, False, False,  True,  True, False,  True,  True,\n",
       "        False,  True, False,  True,  True, False,  True, False,  True,\n",
       "        False, False,  True,  True,  True,  True,  True, False,  True,\n",
       "         True, False,  True, False,  True,  True,  True,  True,  True,\n",
       "         True, False,  True, False,  True, False, False, False, False,\n",
       "         True,  True, False,  True, False, False, False, False,  True,\n",
       "        False,  True, False, False, False,  True, False, False, False,\n",
       "        False,  True,  True,  True, False,  True,  True,  True, False,\n",
       "        False, False, False, False,  True, False, False,  True, False,\n",
       "         True],\n",
       "       [ True,  True,  True, False, False, False, False,  True, False,\n",
       "        False, False, False,  True, False,  True, False,  True,  True,\n",
       "        False, False,  True,  True, False, False,  True, False, False,\n",
       "         True, False,  True, False, False,  True, False,  True, False,\n",
       "         True,  True, False, False, False, False, False,  True, False,\n",
       "        False,  True, False,  True, False, False, False, False, False,\n",
       "        False,  True, False,  True, False,  True,  True,  True,  True,\n",
       "        False, False,  True, False,  True,  True,  True,  True, False,\n",
       "         True, False,  True,  True,  True, False,  True,  True,  True,\n",
       "         True, False, False, False,  True, False, False, False,  True,\n",
       "         True,  True,  True,  True, False,  True,  True, False,  True,\n",
       "        False]])"
      ]
     },
     "execution_count": 8,
     "metadata": {},
     "output_type": "execute_result"
    }
   ],
   "source": [
    "classes"
   ]
  },
  {
   "cell_type": "code",
   "execution_count": 9,
   "metadata": {},
   "outputs": [
    {
     "data": {
      "text/plain": [
       "(100, 100, 2)"
      ]
     },
     "execution_count": 9,
     "metadata": {},
     "output_type": "execute_result"
    }
   ],
   "source": [
    "len(classes[0]), len(X), len(classes)"
   ]
  },
  {
   "cell_type": "code",
   "execution_count": 10,
   "metadata": {},
   "outputs": [
    {
     "data": {
      "text/html": [
       "<div>\n",
       "<style scoped>\n",
       "    .dataframe tbody tr th:only-of-type {\n",
       "        vertical-align: middle;\n",
       "    }\n",
       "\n",
       "    .dataframe tbody tr th {\n",
       "        vertical-align: top;\n",
       "    }\n",
       "\n",
       "    .dataframe thead th {\n",
       "        text-align: right;\n",
       "    }\n",
       "</style>\n",
       "<table border=\"1\" class=\"dataframe\">\n",
       "  <thead>\n",
       "    <tr style=\"text-align: right;\">\n",
       "      <th></th>\n",
       "      <th>hight</th>\n",
       "      <th>width</th>\n",
       "      <th>target</th>\n",
       "    </tr>\n",
       "  </thead>\n",
       "  <tbody>\n",
       "    <tr>\n",
       "      <th>0</th>\n",
       "      <td>102.857380</td>\n",
       "      <td>52.182233</td>\n",
       "      <td>False</td>\n",
       "    </tr>\n",
       "    <tr>\n",
       "      <th>1</th>\n",
       "      <td>95.761153</td>\n",
       "      <td>62.605172</td>\n",
       "      <td>False</td>\n",
       "    </tr>\n",
       "    <tr>\n",
       "      <th>2</th>\n",
       "      <td>121.886696</td>\n",
       "      <td>147.757318</td>\n",
       "      <td>False</td>\n",
       "    </tr>\n",
       "    <tr>\n",
       "      <th>3</th>\n",
       "      <td>17.275897</td>\n",
       "      <td>-132.758802</td>\n",
       "      <td>True</td>\n",
       "    </tr>\n",
       "    <tr>\n",
       "      <th>4</th>\n",
       "      <td>-14.597634</td>\n",
       "      <td>63.686681</td>\n",
       "      <td>True</td>\n",
       "    </tr>\n",
       "  </tbody>\n",
       "</table>\n",
       "</div>"
      ],
      "text/plain": [
       "        hight       width  target\n",
       "0  102.857380   52.182233   False\n",
       "1   95.761153   62.605172   False\n",
       "2  121.886696  147.757318   False\n",
       "3   17.275897 -132.758802    True\n",
       "4  -14.597634   63.686681    True"
      ]
     },
     "execution_count": 10,
     "metadata": {},
     "output_type": "execute_result"
    }
   ],
   "source": [
    "df = pd.DataFrame(X, columns=['hight','width']) #vthese name without reason\n",
    "df['target']= classes[0]\n",
    "df.head()"
   ]
  },
  {
   "cell_type": "code",
   "execution_count": 11,
   "metadata": {},
   "outputs": [],
   "source": [
    "# Well, instead of True/False, lets replace with class 1 and class 0 -- a practice for map and lambda!\n",
    "df['target'] = df['target'].map(lambda t: 'class 1' if t==0 else 'class 0')"
   ]
  },
  {
   "cell_type": "code",
   "execution_count": 12,
   "metadata": {},
   "outputs": [
    {
     "data": {
      "text/html": [
       "<div>\n",
       "<style scoped>\n",
       "    .dataframe tbody tr th:only-of-type {\n",
       "        vertical-align: middle;\n",
       "    }\n",
       "\n",
       "    .dataframe tbody tr th {\n",
       "        vertical-align: top;\n",
       "    }\n",
       "\n",
       "    .dataframe thead th {\n",
       "        text-align: right;\n",
       "    }\n",
       "</style>\n",
       "<table border=\"1\" class=\"dataframe\">\n",
       "  <thead>\n",
       "    <tr style=\"text-align: right;\">\n",
       "      <th></th>\n",
       "      <th>hight</th>\n",
       "      <th>width</th>\n",
       "      <th>target</th>\n",
       "    </tr>\n",
       "  </thead>\n",
       "  <tbody>\n",
       "    <tr>\n",
       "      <th>0</th>\n",
       "      <td>102.857380</td>\n",
       "      <td>52.182233</td>\n",
       "      <td>class 1</td>\n",
       "    </tr>\n",
       "    <tr>\n",
       "      <th>1</th>\n",
       "      <td>95.761153</td>\n",
       "      <td>62.605172</td>\n",
       "      <td>class 1</td>\n",
       "    </tr>\n",
       "    <tr>\n",
       "      <th>2</th>\n",
       "      <td>121.886696</td>\n",
       "      <td>147.757318</td>\n",
       "      <td>class 1</td>\n",
       "    </tr>\n",
       "    <tr>\n",
       "      <th>3</th>\n",
       "      <td>17.275897</td>\n",
       "      <td>-132.758802</td>\n",
       "      <td>class 0</td>\n",
       "    </tr>\n",
       "    <tr>\n",
       "      <th>4</th>\n",
       "      <td>-14.597634</td>\n",
       "      <td>63.686681</td>\n",
       "      <td>class 0</td>\n",
       "    </tr>\n",
       "  </tbody>\n",
       "</table>\n",
       "</div>"
      ],
      "text/plain": [
       "        hight       width   target\n",
       "0  102.857380   52.182233  class 1\n",
       "1   95.761153   62.605172  class 1\n",
       "2  121.886696  147.757318  class 1\n",
       "3   17.275897 -132.758802  class 0\n",
       "4  -14.597634   63.686681  class 0"
      ]
     },
     "execution_count": 12,
     "metadata": {},
     "output_type": "execute_result"
    }
   ],
   "source": [
    "df.head()"
   ]
  },
  {
   "cell_type": "markdown",
   "metadata": {},
   "source": [
    "### Predicting a \"new\" unknown point\n",
    "\n",
    "Predicting a new point using the **KNN** algorithm, is as follows:\n",
    "\n",
    "1. Calculate the distance of the new point (labeled: \"X\")\n",
    "1. $K$ closest points, **vote for the ownership** of the new point\n",
    "1. New point assigned to majority vote class\n",
    "\n",
    ">  _Let's hold our questions about what happens two classes have the same votes!  We'll get to the edge cases soon!_\n"
   ]
  },
  {
   "cell_type": "code",
   "execution_count": 13,
   "metadata": {},
   "outputs": [
    {
     "data": {
      "image/png": "[encoded data removed]",
      "text/plain": [
       "<Figure size 760.5x576 with 1 Axes>"
      ]
     },
     "metadata": {
      "needs_background": "light"
     },
     "output_type": "display_data"
    }
   ],
   "source": [
    "# Plot scatter with 2 classes\n",
    "sns.lmplot('width',\n",
    "           'hight',\n",
    "           markers=['s','p'],   ## different maker for each hue in sns.lmplot ( shape of points )\n",
    "           data=df,\n",
    "           fit_reg=False, # try True here are see the difference\n",
    "           hue='target',\n",
    "           height=8,\n",
    "           scatter_kws={'s':50}); ##  change the size of the markers"
   ]
  },
  {
   "cell_type": "markdown",
   "metadata": {},
   "source": [
    "**Let's add a new point in the plot, notice a cross.**"
   ]
  },
  {
   "cell_type": "code",
   "execution_count": 15,
   "metadata": {},
   "outputs": [
    {
     "data": {
      "image/png": "[encoded data removed]",
      "text/plain": [
       "<Figure size 760.5x576 with 1 Axes>"
      ]
     },
     "metadata": {
      "needs_background": "light"
     },
     "output_type": "display_data"
    }
   ],
   "source": [
    "# Plot scatter with 2 classes\n",
    "sns.lmplot('width',\n",
    "           'hight',\n",
    "           markers=['s','p'], # shape of point \n",
    "           data=df,\n",
    "           fit_reg=False,\n",
    "           hue='target', # clore the point depending what? here we make it depinding target\n",
    "           height=8,\n",
    "           scatter_kws={'s':50});\n",
    "\n",
    "# Plot our new point\n",
    "plt.title('New unkown point $X$')\n",
    "plt.scatter(0, 65, color=\"red\", marker=\"x\", s=170);\n",
    "\n",
    "# Think about the distance lines to all points to new unknown point!\n",
    "# can you think about plotting these lines?"
   ]
  },
  {
   "cell_type": "markdown",
   "metadata": {},
   "source": [
    "### Calculate the distances from every point to our unknown point \"X\""
   ]
  },
  {
   "cell_type": "code",
   "execution_count": 16,
   "metadata": {},
   "outputs": [],
   "source": [
    "from sklearn.metrics import pairwise_distances\n",
    "# Wooow! \"pairwise_distances\" Compute the distance matrix from a vector array X and optional Y."
   ]
  },
  {
   "cell_type": "code",
   "execution_count": 17,
   "metadata": {},
   "outputs": [
    {
     "data": {
      "text/plain": [
       "array([ 64.46833862,  69.75425535, 158.32978621, 141.07618367,\n",
       "       101.94006378,  26.05577933,  35.6657497 ,  63.54831664,\n",
       "        34.80672939,  20.10382072, 152.73865548,  54.79694275,\n",
       "        93.13058136,  70.90246171, 100.49796712, 146.9766837 ,\n",
       "       129.39272581, 108.61175673,  89.1669459 ,  88.9018969 ,\n",
       "        67.49918823,  38.32596695,  85.9796454 ,  34.95107438,\n",
       "        97.2038741 ,  64.10525701,  50.92381362, 173.89256794,\n",
       "        90.97725221,  81.88837388,  97.86588142,  76.72167071,\n",
       "       140.73048066,  65.26431734, 148.45404473, 104.33898027,\n",
       "       123.31775116, 131.62016256,  78.37938366, 139.01740777,\n",
       "        47.43847498,  72.09652264,  47.15493794, 135.71105655,\n",
       "       124.73821386,  99.71681282, 163.72500579,  76.07015971,\n",
       "       104.46099347,  70.51921804,  96.7300754 , 131.79201135,\n",
       "        23.59695647,  86.99264769, 135.75154511, 176.88244908,\n",
       "       175.53975875,  96.8044818 , 142.28428486,  92.49918482,\n",
       "       116.53522452, 162.50478817, 120.74349339,  84.37271029,\n",
       "       148.67812439, 128.57873947,  81.88084654,  77.37561439,\n",
       "        61.96413588, 107.5669087 , 133.39773254,  88.6902772 ,\n",
       "        89.54075369, 166.46302304, 152.0882573 , 136.60887869,\n",
       "       156.03170673, 201.88187976,  49.50664237, 114.15039212,\n",
       "       195.53763971,  28.23510741,  48.28006434,  86.16737778,\n",
       "        95.76878708, 101.07725867,  81.18966288, 114.81528386,\n",
       "        52.36548763, 234.94520191, 112.03583718, 161.04306167,\n",
       "       166.27787615, 140.21394613, 128.14562193, 193.73675437,\n",
       "       227.22279257,  46.95564164, 100.69311855, 126.55311065])"
      ]
     },
     "execution_count": 17,
     "metadata": {},
     "output_type": "execute_result"
    }
   ],
   "source": [
    "# Compute the distance from new point to all datframe points -- <shift+tab> docstring\n",
    "p_distance = pairwise_distances([[0,65]], df[['width','hight']])#[0]\n",
    "p_distance = p_distance[0] # it's only one columns\n",
    "p_distance"
   ]
  },
  {
   "cell_type": "code",
   "execution_count": 19,
   "metadata": {
    "scrolled": true
   },
   "outputs": [
    {
     "data": {
      "text/html": [
       "<div>\n",
       "<style scoped>\n",
       "    .dataframe tbody tr th:only-of-type {\n",
       "        vertical-align: middle;\n",
       "    }\n",
       "\n",
       "    .dataframe tbody tr th {\n",
       "        vertical-align: top;\n",
       "    }\n",
       "\n",
       "    .dataframe thead th {\n",
       "        text-align: right;\n",
       "    }\n",
       "</style>\n",
       "<table border=\"1\" class=\"dataframe\">\n",
       "  <thead>\n",
       "    <tr style=\"text-align: right;\">\n",
       "      <th></th>\n",
       "      <th>hight</th>\n",
       "      <th>width</th>\n",
       "      <th>target</th>\n",
       "      <th>distance</th>\n",
       "    </tr>\n",
       "  </thead>\n",
       "  <tbody>\n",
       "    <tr>\n",
       "      <th>9</th>\n",
       "      <td>50.525764</td>\n",
       "      <td>13.952065</td>\n",
       "      <td>class 0</td>\n",
       "      <td>20.103821</td>\n",
       "    </tr>\n",
       "    <tr>\n",
       "      <th>52</th>\n",
       "      <td>44.088052</td>\n",
       "      <td>10.931916</td>\n",
       "      <td>class 0</td>\n",
       "      <td>23.596956</td>\n",
       "    </tr>\n",
       "    <tr>\n",
       "      <th>5</th>\n",
       "      <td>57.909333</td>\n",
       "      <td>25.072417</td>\n",
       "      <td>class 0</td>\n",
       "      <td>26.055779</td>\n",
       "    </tr>\n",
       "    <tr>\n",
       "      <th>81</th>\n",
       "      <td>56.975250</td>\n",
       "      <td>27.070735</td>\n",
       "      <td>class 1</td>\n",
       "      <td>28.235107</td>\n",
       "    </tr>\n",
       "    <tr>\n",
       "      <th>8</th>\n",
       "      <td>47.371991</td>\n",
       "      <td>-30.012693</td>\n",
       "      <td>class 0</td>\n",
       "      <td>34.806729</td>\n",
       "    </tr>\n",
       "  </tbody>\n",
       "</table>\n",
       "</div>"
      ],
      "text/plain": [
       "        hight      width   target   distance\n",
       "9   50.525764  13.952065  class 0  20.103821\n",
       "52  44.088052  10.931916  class 0  23.596956\n",
       "5   57.909333  25.072417  class 0  26.055779\n",
       "81  56.975250  27.070735  class 1  28.235107\n",
       "8   47.371991 -30.012693  class 0  34.806729"
      ]
     },
     "execution_count": 19,
     "metadata": {},
     "output_type": "execute_result"
    }
   ],
   "source": [
    "# adding new column\n",
    "df['distance'] = p_distance # its a new columns\n",
    "df.sort_values('distance').head()\n",
    "## what is pairwise_distances"
   ]
  },
  {
   "cell_type": "markdown",
   "metadata": {},
   "source": [
    "**Let's plot all the distances to the new point and see how it looks like.**"
   ]
  },
  {
   "cell_type": "code",
   "execution_count": 20,
   "metadata": {},
   "outputs": [
    {
     "data": {
      "image/png": "[encoded data removed]",
      "text/plain": [
       "<Figure size 760.5x576 with 1 Axes>"
      ]
     },
     "metadata": {
      "needs_background": "light"
     },
     "output_type": "display_data"
    }
   ],
   "source": [
    "import matplotlib.pyplot as plt\n",
    "\n",
    "\n",
    "# Plot scatter with 2 classes\n",
    "sns.lmplot('width',\n",
    "           'hight',\n",
    "           markers=['s','p'],   ## here\n",
    "           data=df,\n",
    "           fit_reg=False,\n",
    "           hue='target',\n",
    "           height=8,\n",
    "           scatter_kws={'s':50}); ## here\n",
    "\n",
    "# Plot our new point\n",
    "plt.title('New unkown point $X$')\n",
    "plt.scatter(0, 65, color=\"red\", marker=\"x\", s=170);\n",
    "\n",
    "# Plot distnace lines to all points to new unknown point!\n",
    "for index, width, hight, target, distance in df.to_records(): # New to you, we will be able to loop in it\n",
    "    plt.plot([0,hight], [65,width], '--' , alpha=.25, color='r' ) #[x1,x2] [y1,y2]\n"
   ]
  },
  {
   "cell_type": "code",
   "execution_count": 21,
   "metadata": {},
   "outputs": [
    {
     "data": {
      "text/plain": [
       "rec.array([(0, 102.8573802 ,   52.18223308, 'class 1',  64.46833862),\n",
       "           (1,  95.7611528 ,   62.60517246, 'class 1',  69.75425535),\n",
       "           (2, 121.88669564,  147.75731812, 'class 1', 158.32978621),\n",
       "           (3,  17.27589719, -132.75880238, 'class 0', 141.07618367),\n",
       "           (4, -14.59763354,   63.68668101, 'class 0', 101.94006378),\n",
       "           (5,  57.90933265,   25.07241658, 'class 0',  26.05577933),\n",
       "           (6,  44.38742298,   29.10613974, 'class 0',  35.6657497 ),\n",
       "           (7,  39.04288492,   58.00531634, 'class 1',  63.54831664),\n",
       "           (8,  47.37199105,  -30.01269251, 'class 0',  34.80672939),\n",
       "           (9,  50.52576424,   13.95206461, 'class 0',  20.10382072)],\n",
       "          dtype=[('index', '<i8'), ('hight', '<f8'), ('width', '<f8'), ('target', 'O'), ('distance', '<f8')])"
      ]
     },
     "execution_count": 21,
     "metadata": {},
     "output_type": "execute_result"
    }
   ],
   "source": [
    "# Convert DataFrame to a NumPy record array.\n",
    "df.to_records()[0:10]"
   ]
  },
  {
   "cell_type": "markdown",
   "metadata": {},
   "source": [
    "### Select only the \"k\" closest points\n",
    "The closest \"k\" points are considered for voting.  In this case let's select 13, for our \"K\"."
   ]
  },
  {
   "cell_type": "code",
   "execution_count": 27,
   "metadata": {},
   "outputs": [
    {
     "data": {
      "image/png": "[encoded data removed]",
      "text/plain": [
       "<Figure size 1048.5x864 with 1 Axes>"
      ]
     },
     "metadata": {
      "needs_background": "light"
     },
     "output_type": "display_data"
    }
   ],
   "source": [
    "# Plot scatter with 2 classes\n",
    "sns.lmplot('width',\n",
    "           'hight',\n",
    "           markers=['s','p'],   ## here\n",
    "           data=df,\n",
    "           fit_reg=False,\n",
    "           hue='target',\n",
    "           height=12,\n",
    "           scatter_kws={'s':50}); ## here\n",
    "\n",
    "# Plot our new point\n",
    "plt.title('New unkown point $X$')\n",
    "plt.scatter(0, 65, color=\"red\", marker=\"x\", s=170);\n",
    "\n",
    "\n",
    "k = 13\n",
    "# we can simply use head with k to grab first 13 rows!\n",
    "for index, width, hight, target, distance in df.sort_values(\"distance\").head(k).to_records():\n",
    "    plt.plot([0,hight], [65,width], '--' , alpha=.25, color='r' )"
   ]
  },
  {
   "cell_type": "markdown",
   "metadata": {},
   "source": [
    "# So, what will be the class of the new datapoint?"
   ]
  },
  {
   "cell_type": "code",
   "execution_count": 28,
   "metadata": {},
   "outputs": [],
   "source": [
    "from sklearn.neighbors import KNeighborsClassifier \n",
    "from sklearn.model_selection import train_test_split"
   ]
  },
  {
   "cell_type": "code",
   "execution_count": 29,
   "metadata": {},
   "outputs": [],
   "source": [
    "cdata = pd.read_csv(\"Coded_Data.csv\",index_col=0)"
   ]
  },
  {
   "cell_type": "code",
   "execution_count": 30,
   "metadata": {},
   "outputs": [
    {
     "data": {
      "text/html": [
       "<div>\n",
       "<style scoped>\n",
       "    .dataframe tbody tr th:only-of-type {\n",
       "        vertical-align: middle;\n",
       "    }\n",
       "\n",
       "    .dataframe tbody tr th {\n",
       "        vertical-align: top;\n",
       "    }\n",
       "\n",
       "    .dataframe thead th {\n",
       "        text-align: right;\n",
       "    }\n",
       "</style>\n",
       "<table border=\"1\" class=\"dataframe\">\n",
       "  <thead>\n",
       "    <tr style=\"text-align: right;\">\n",
       "      <th></th>\n",
       "      <th>Cd_1</th>\n",
       "      <th>Cd_2</th>\n",
       "      <th>Cd_3</th>\n",
       "      <th>Cd_4</th>\n",
       "      <th>Cd_5</th>\n",
       "      <th>Cd_6</th>\n",
       "      <th>Cd_7</th>\n",
       "      <th>Cd_8</th>\n",
       "      <th>Cd_9</th>\n",
       "      <th>Cd_10</th>\n",
       "      <th>Result</th>\n",
       "    </tr>\n",
       "  </thead>\n",
       "  <tbody>\n",
       "    <tr>\n",
       "      <th>1</th>\n",
       "      <td>10002447.0</td>\n",
       "      <td>63.4</td>\n",
       "      <td>33.0</td>\n",
       "      <td>46.2</td>\n",
       "      <td>10737.1</td>\n",
       "      <td>6.069523</td>\n",
       "      <td>44.3</td>\n",
       "      <td>36.1</td>\n",
       "      <td>0.037124</td>\n",
       "      <td>65.0</td>\n",
       "      <td>Y</td>\n",
       "    </tr>\n",
       "    <tr>\n",
       "      <th>2</th>\n",
       "      <td>1428768.0</td>\n",
       "      <td>54.7</td>\n",
       "      <td>31.1</td>\n",
       "      <td>50.5</td>\n",
       "      <td>15064.0</td>\n",
       "      <td>27.981961</td>\n",
       "      <td>39.4</td>\n",
       "      <td>56.8</td>\n",
       "      <td>0.005303</td>\n",
       "      <td>78.8</td>\n",
       "      <td>N</td>\n",
       "    </tr>\n",
       "    <tr>\n",
       "      <th>3</th>\n",
       "      <td>1315450.5</td>\n",
       "      <td>65.5</td>\n",
       "      <td>53.5</td>\n",
       "      <td>52.3</td>\n",
       "      <td>4070.0</td>\n",
       "      <td>16.128381</td>\n",
       "      <td>94.9</td>\n",
       "      <td>64.7</td>\n",
       "      <td>0.004882</td>\n",
       "      <td>67.9</td>\n",
       "      <td>N</td>\n",
       "    </tr>\n",
       "    <tr>\n",
       "      <th>4</th>\n",
       "      <td>1591740.0</td>\n",
       "      <td>75.6</td>\n",
       "      <td>37.9</td>\n",
       "      <td>50.5</td>\n",
       "      <td>22490.0</td>\n",
       "      <td>0.386872</td>\n",
       "      <td>82.3</td>\n",
       "      <td>77.3</td>\n",
       "      <td>0.005908</td>\n",
       "      <td>60.9</td>\n",
       "      <td>Y</td>\n",
       "    </tr>\n",
       "    <tr>\n",
       "      <th>5</th>\n",
       "      <td>2727404.4</td>\n",
       "      <td>51.8</td>\n",
       "      <td>36.4</td>\n",
       "      <td>40.9</td>\n",
       "      <td>28460.7</td>\n",
       "      <td>15.509855</td>\n",
       "      <td>65.1</td>\n",
       "      <td>36.2</td>\n",
       "      <td>0.010123</td>\n",
       "      <td>74.9</td>\n",
       "      <td>Y</td>\n",
       "    </tr>\n",
       "  </tbody>\n",
       "</table>\n",
       "</div>"
      ],
      "text/plain": [
       "         Cd_1  Cd_2  Cd_3  Cd_4     Cd_5       Cd_6  Cd_7  Cd_8      Cd_9  \\\n",
       "1  10002447.0  63.4  33.0  46.2  10737.1   6.069523  44.3  36.1  0.037124   \n",
       "2   1428768.0  54.7  31.1  50.5  15064.0  27.981961  39.4  56.8  0.005303   \n",
       "3   1315450.5  65.5  53.5  52.3   4070.0  16.128381  94.9  64.7  0.004882   \n",
       "4   1591740.0  75.6  37.9  50.5  22490.0   0.386872  82.3  77.3  0.005908   \n",
       "5   2727404.4  51.8  36.4  40.9  28460.7  15.509855  65.1  36.2  0.010123   \n",
       "\n",
       "   Cd_10 Result  \n",
       "1   65.0      Y  \n",
       "2   78.8      N  \n",
       "3   67.9      N  \n",
       "4   60.9      Y  \n",
       "5   74.9      Y  "
      ]
     },
     "execution_count": 30,
     "metadata": {},
     "output_type": "execute_result"
    }
   ],
   "source": [
    "cdata.head()"
   ]
  },
  {
   "cell_type": "code",
   "execution_count": 44,
   "metadata": {},
   "outputs": [
    {
     "data": {
      "text/plain": [
       "N    0.5\n",
       "Y    0.5\n",
       "Name: Result, dtype: float64"
      ]
     },
     "execution_count": 44,
     "metadata": {},
     "output_type": "execute_result"
    }
   ],
   "source": [
    "#طريقة لحساب البيس لاين baseline \n",
    "y.value_counts(normalize= True)"
   ]
  },
  {
   "cell_type": "code",
   "execution_count": 42,
   "metadata": {},
   "outputs": [],
   "source": [
    "X = cdata.drop('Result', axis = 1) # features in X\n",
    "y = cdata['Result'] # targets/labels in y"
   ]
  },
  {
   "cell_type": "code",
   "execution_count": 38,
   "metadata": {},
   "outputs": [],
   "source": [
    "# splitting data # bzلازم نسويها دائماً بهذا الترتيب  ونضع نسبة للاختبار ٣٠ ٪ تقريباً\n",
    "X_train, X_test, y_train, y_test = train_test_split(X, y, test_size=0.30, random_state=42, stratify = y)"
   ]
  },
  {
   "cell_type": "code",
   "execution_count": 40,
   "metadata": {},
   "outputs": [
    {
     "data": {
      "text/plain": [
       "1000"
      ]
     },
     "execution_count": 40,
     "metadata": {},
     "output_type": "execute_result"
    }
   ],
   "source": [
    "len(X)"
   ]
  },
  {
   "cell_type": "code",
   "execution_count": 41,
   "metadata": {},
   "outputs": [
    {
     "data": {
      "text/plain": [
       "(700, 700)"
      ]
     },
     "execution_count": 41,
     "metadata": {},
     "output_type": "execute_result"
    }
   ],
   "source": [
    "len (X_train), len(y_train)"
   ]
  },
  {
   "cell_type": "code",
   "execution_count": 45,
   "metadata": {},
   "outputs": [],
   "source": [
    "# creating model instance \"knn\" \n",
    "knn = KNeighborsClassifier(n_neighbors=1)  # K = 1 meean the neerist one (me)\n",
    "# splitting data \n",
    "\n",
    "knn.fit(X_train, y_train)\n",
    "predictions = knn.predict(X_test)"
   ]
  },
  {
   "cell_type": "code",
   "execution_count": null,
   "metadata": {},
   "outputs": [],
   "source": []
  },
  {
   "cell_type": "code",
   "execution_count": 46,
   "metadata": {},
   "outputs": [
    {
     "data": {
      "text/plain": [
       "0.44333333333333336"
      ]
     },
     "execution_count": 46,
     "metadata": {},
     "output_type": "execute_result"
    }
   ],
   "source": [
    "#Returns the mean accuracy on the given test data and labels.\n",
    "knn.score(X_test, y_test)#, knn.score(X_train, y_train)"
   ]
  },
  {
   "cell_type": "markdown",
   "metadata": {},
   "source": [
    "## The metrics below, we will discuss in details in the evaluation lecture after LogR model along with other ways!"
   ]
  },
  {
   "cell_type": "code",
   "execution_count": 24,
   "metadata": {},
   "outputs": [],
   "source": [
    "from sklearn.metrics import classification_report, confusion_matrix"
   ]
  },
  {
   "cell_type": "code",
   "execution_count": 25,
   "metadata": {},
   "outputs": [
    {
     "name": "stdout",
     "output_type": "stream",
     "text": [
      "Our k = 1 (n_neighbors=1) here\n",
      "\n",
      "[[52 90]\n",
      " [81 77]]\n",
      "              precision    recall  f1-score   support\n",
      "\n",
      "           N       0.39      0.37      0.38       142\n",
      "           Y       0.46      0.49      0.47       158\n",
      "\n",
      "    accuracy                           0.43       300\n",
      "   macro avg       0.43      0.43      0.43       300\n",
      "weighted avg       0.43      0.43      0.43       300\n",
      "\n"
     ]
    }
   ],
   "source": [
    "print('Our k = 1 (n_neighbors=1) here\\n')\n",
    "print(confusion_matrix(y_test, predictions))\n",
    "print(classification_report(y_test,predictions))"
   ]
  },
  {
   "cell_type": "code",
   "execution_count": 26,
   "metadata": {},
   "outputs": [],
   "source": [
    "### Elbow method to chose the k value"
   ]
  },
  {
   "cell_type": "code",
   "execution_count": 27,
   "metadata": {},
   "outputs": [],
   "source": [
    "# Initializing an empty list to get the error rate for every k \n",
    "err_rate = []\n",
    "\n",
    "# Let's run a for loop for k from 1 to 15, we can use range() method\n",
    "for i in range(1,30):\n",
    "    \n",
    "    # Initializing knn for k = i\n",
    "    knn_er = KNeighborsClassifier(n_neighbors=i)\n",
    "    \n",
    "    # fitting knn \n",
    "    knn_er.fit(X_train,y_train)\n",
    "    \n",
    "    # predicting for k = i\n",
    "    prediction_i = knn_er.predict(X_test)\n",
    "    \n",
    "    # error rate for k = i -- appending to the list 'err_rate'\n",
    "    # Avg of predictions and y_test if both not equal\n",
    "    err_rate.append(np.mean(prediction_i != y_test))"
   ]
  },
  {
   "cell_type": "code",
   "execution_count": 28,
   "metadata": {},
   "outputs": [
    {
     "data": {
      "text/plain": [
       "Text(0, 0.5, 'Error_Rate')"
      ]
     },
     "execution_count": 28,
     "metadata": {},
     "output_type": "execute_result"
    },
    {
     "data": {
      "image/png": "[encoded data removed]",
      "text/plain": [
       "<Figure size 576x288 with 1 Axes>"
      ]
     },
     "metadata": {
      "needs_background": "light"
     },
     "output_type": "display_data"
    }
   ],
   "source": [
    "plt.figure(figsize=(8,4))\n",
    "plt.plot(range(1,30), err_rate, color='green', marker='o', markerfacecolor='blue')\n",
    "plt.title('Error Rate vs. K Value')\n",
    "plt.xlabel('K_Value')\n",
    "plt.ylabel('Error_Rate')"
   ]
  },
  {
   "cell_type": "code",
   "execution_count": 29,
   "metadata": {},
   "outputs": [],
   "source": [
    "# creating model instance \"knn\" \n",
    "knn = KNeighborsClassifier(n_neighbors=4) \n",
    "# splitting data \n",
    "\n",
    "knn.fit(X_train, y_train)\n",
    "predictions = knn.predict(X_test)"
   ]
  },
  {
   "cell_type": "code",
   "execution_count": 30,
   "metadata": {
    "scrolled": true
   },
   "outputs": [
    {
     "name": "stdout",
     "output_type": "stream",
     "text": [
      "Our k = 4 (n_neighbors=1) here\n",
      "\n",
      "[[ 89  53]\n",
      " [101  57]]\n",
      "              precision    recall  f1-score   support\n",
      "\n",
      "           N       0.47      0.63      0.54       142\n",
      "           Y       0.52      0.36      0.43       158\n",
      "\n",
      "    accuracy                           0.49       300\n",
      "   macro avg       0.49      0.49      0.48       300\n",
      "weighted avg       0.49      0.49      0.48       300\n",
      "\n"
     ]
    }
   ],
   "source": [
    "print('Our k = 4 (n_neighbors=1) here\\n')\n",
    "print(confusion_matrix(y_test, predictions))\n",
    "print(classification_report(y_test,predictions))"
   ]
  },
  {
   "cell_type": "markdown",
   "metadata": {},
   "source": [
    "### Plotting Accuracy - Alternative way."
   ]
  },
  {
   "cell_type": "code",
   "execution_count": 31,
   "metadata": {},
   "outputs": [
    {
     "data": {
      "image/png": "[encoded data removed]",
      "text/plain": [
       "<Figure size 432x288 with 1 Axes>"
      ]
     },
     "metadata": {
      "needs_background": "light"
     },
     "output_type": "display_data"
    }
   ],
   "source": [
    "Ks = []\n",
    "scores = []\n",
    "for k in range(1 , X_train.shape[0]):\n",
    "    knn_diff_k = KNeighborsClassifier(n_neighbors=k)\n",
    "    knn_diff_k.fit(X_train , y_train)\n",
    "    Ks.append(k)\n",
    "    scores.append(knn_diff_k.score(X_test , y_test))\n",
    "    \n",
    "#plotting k and test scores\n",
    "df_score = pd.DataFrame({'K' : Ks , 'test_score' :scores })\n",
    "df_score.plot(x = 'K' , y = 'test_score');"
   ]
  },
  {
   "cell_type": "markdown",
   "metadata": {},
   "source": [
    "## Well, the model is improved a bit!\n",
    "To Do:\n",
    "* Import StandardScaler and re-train your model using scaled features, compare the results. "
   ]
  },
  {
   "cell_type": "markdown",
   "metadata": {},
   "source": [
    "<br><br><br><br><br><br>"
   ]
  },
  {
   "cell_type": "markdown",
   "metadata": {},
   "source": [
    "### What about all those edge cases?\n",
    "\n",
    "Well that's a grand question!\n",
    "\n",
    "#### What if we have an equal amount of votes per class, to predict a point?\n",
    "- We can **weight the samples that are closer a point** to have more value in the voting process.\n",
    "- Using an **odd quantity for $k$ can help** avoid classes having the same score towards predicted points.\n",
    "\n",
    "#### KNN seems pretty simple.  Is it?\n",
    "\n",
    "If we're considering uniform distance value of distance (no weighted assumptions), with larger datasets, calculating the distances to known vs unknown points becomes **very inefficient with larger datasets**.  Even with weighted distances, KNN is still not very efficient."
   ]
  },
  {
   "cell_type": "markdown",
   "metadata": {},
   "source": [
    "## ADVANTAGES AND DRAWBACKS\n",
    "\n",
    "### Benefits\n",
    "- Simple to understand and explain\n",
    "- Model training is fast\n",
    "- Can be used for classification and regression\n",
    "- Non-linear, which may be common (imagine age vs income)\n",
    "\n",
    "### Drawbacks\n",
    "- Must store all of the training data\n",
    "- Prediction phase can be slow when n is large\n",
    "- Sensitive to irrelevant features\n",
    "- Sensitive to the scale of the data\n",
    "- Accuracy is (generally) not competitive with the best supervised learning methods"
   ]
  },
  {
   "cell_type": "markdown",
   "metadata": {},
   "source": [
    "<br><br><br><br><br><br><br><br>\n",
    "\n",
    "## KNN on IRIS dataset in sklearn\n",
    "\n",
    "We will load up a multinomial dataset having 3 classes.\n",
    "- Inspect dataset using a pairplot in multiple dimensions\n",
    "- Implement KNN in sklearn\n",
    "- Search range of $K$ for optimal accuracy "
   ]
  },
  {
   "cell_type": "code",
   "execution_count": 32,
   "metadata": {},
   "outputs": [],
   "source": [
    "sns.set(font_scale=1.5) ## update font_scale to something more readable"
   ]
  },
  {
   "cell_type": "code",
   "execution_count": 33,
   "metadata": {},
   "outputs": [],
   "source": [
    "# load iris dataset\n",
    "iris = sns.load_dataset(\"iris\")"
   ]
  },
  {
   "cell_type": "code",
   "execution_count": 34,
   "metadata": {},
   "outputs": [
    {
     "data": {
      "text/html": [
       "<div>\n",
       "<style scoped>\n",
       "    .dataframe tbody tr th:only-of-type {\n",
       "        vertical-align: middle;\n",
       "    }\n",
       "\n",
       "    .dataframe tbody tr th {\n",
       "        vertical-align: top;\n",
       "    }\n",
       "\n",
       "    .dataframe thead th {\n",
       "        text-align: right;\n",
       "    }\n",
       "</style>\n",
       "<table border=\"1\" class=\"dataframe\">\n",
       "  <thead>\n",
       "    <tr style=\"text-align: right;\">\n",
       "      <th></th>\n",
       "      <th>sepal_length</th>\n",
       "      <th>sepal_width</th>\n",
       "      <th>petal_length</th>\n",
       "      <th>petal_width</th>\n",
       "      <th>species</th>\n",
       "    </tr>\n",
       "  </thead>\n",
       "  <tbody>\n",
       "    <tr>\n",
       "      <th>0</th>\n",
       "      <td>5.1</td>\n",
       "      <td>3.5</td>\n",
       "      <td>1.4</td>\n",
       "      <td>0.2</td>\n",
       "      <td>setosa</td>\n",
       "    </tr>\n",
       "    <tr>\n",
       "      <th>1</th>\n",
       "      <td>4.9</td>\n",
       "      <td>3.0</td>\n",
       "      <td>1.4</td>\n",
       "      <td>0.2</td>\n",
       "      <td>setosa</td>\n",
       "    </tr>\n",
       "    <tr>\n",
       "      <th>2</th>\n",
       "      <td>4.7</td>\n",
       "      <td>3.2</td>\n",
       "      <td>1.3</td>\n",
       "      <td>0.2</td>\n",
       "      <td>setosa</td>\n",
       "    </tr>\n",
       "    <tr>\n",
       "      <th>3</th>\n",
       "      <td>4.6</td>\n",
       "      <td>3.1</td>\n",
       "      <td>1.5</td>\n",
       "      <td>0.2</td>\n",
       "      <td>setosa</td>\n",
       "    </tr>\n",
       "    <tr>\n",
       "      <th>4</th>\n",
       "      <td>5.0</td>\n",
       "      <td>3.6</td>\n",
       "      <td>1.4</td>\n",
       "      <td>0.2</td>\n",
       "      <td>setosa</td>\n",
       "    </tr>\n",
       "  </tbody>\n",
       "</table>\n",
       "</div>"
      ],
      "text/plain": [
       "   sepal_length  sepal_width  petal_length  petal_width species\n",
       "0           5.1          3.5           1.4          0.2  setosa\n",
       "1           4.9          3.0           1.4          0.2  setosa\n",
       "2           4.7          3.2           1.3          0.2  setosa\n",
       "3           4.6          3.1           1.5          0.2  setosa\n",
       "4           5.0          3.6           1.4          0.2  setosa"
      ]
     },
     "execution_count": 34,
     "metadata": {},
     "output_type": "execute_result"
    }
   ],
   "source": [
    "iris.head()"
   ]
  },
  {
   "cell_type": "code",
   "execution_count": 35,
   "metadata": {},
   "outputs": [
    {
     "data": {
      "text/plain": [
       "versicolor    50\n",
       "virginica     50\n",
       "setosa        50\n",
       "Name: species, dtype: int64"
      ]
     },
     "execution_count": 35,
     "metadata": {},
     "output_type": "execute_result"
    }
   ],
   "source": [
    "iris.species.value_counts()"
   ]
  },
  {
   "cell_type": "code",
   "execution_count": 36,
   "metadata": {},
   "outputs": [],
   "source": [
    "#iris ="
   ]
  },
  {
   "cell_type": "markdown",
   "metadata": {},
   "source": [
    "###  Which features seem to create the clearest difference between classes?"
   ]
  },
  {
   "cell_type": "code",
   "execution_count": 37,
   "metadata": {},
   "outputs": [
    {
     "data": {
      "text/html": [
       "<div>\n",
       "<style scoped>\n",
       "    .dataframe tbody tr th:only-of-type {\n",
       "        vertical-align: middle;\n",
       "    }\n",
       "\n",
       "    .dataframe tbody tr th {\n",
       "        vertical-align: top;\n",
       "    }\n",
       "\n",
       "    .dataframe thead th {\n",
       "        text-align: right;\n",
       "    }\n",
       "</style>\n",
       "<table border=\"1\" class=\"dataframe\">\n",
       "  <thead>\n",
       "    <tr style=\"text-align: right;\">\n",
       "      <th></th>\n",
       "      <th>sepal_length</th>\n",
       "      <th>sepal_width</th>\n",
       "      <th>petal_length</th>\n",
       "      <th>petal_width</th>\n",
       "    </tr>\n",
       "  </thead>\n",
       "  <tbody>\n",
       "    <tr>\n",
       "      <th>sepal_length</th>\n",
       "      <td>1.000000</td>\n",
       "      <td>-0.117570</td>\n",
       "      <td>0.871754</td>\n",
       "      <td>0.817941</td>\n",
       "    </tr>\n",
       "    <tr>\n",
       "      <th>sepal_width</th>\n",
       "      <td>-0.117570</td>\n",
       "      <td>1.000000</td>\n",
       "      <td>-0.428440</td>\n",
       "      <td>-0.366126</td>\n",
       "    </tr>\n",
       "    <tr>\n",
       "      <th>petal_length</th>\n",
       "      <td>0.871754</td>\n",
       "      <td>-0.428440</td>\n",
       "      <td>1.000000</td>\n",
       "      <td>0.962865</td>\n",
       "    </tr>\n",
       "    <tr>\n",
       "      <th>petal_width</th>\n",
       "      <td>0.817941</td>\n",
       "      <td>-0.366126</td>\n",
       "      <td>0.962865</td>\n",
       "      <td>1.000000</td>\n",
       "    </tr>\n",
       "  </tbody>\n",
       "</table>\n",
       "</div>"
      ],
      "text/plain": [
       "              sepal_length  sepal_width  petal_length  petal_width\n",
       "sepal_length      1.000000    -0.117570      0.871754     0.817941\n",
       "sepal_width      -0.117570     1.000000     -0.428440    -0.366126\n",
       "petal_length      0.871754    -0.428440      1.000000     0.962865\n",
       "petal_width       0.817941    -0.366126      0.962865     1.000000"
      ]
     },
     "execution_count": 37,
     "metadata": {},
     "output_type": "execute_result"
    }
   ],
   "source": [
    "# check correlation\n",
    "iris.corr()"
   ]
  },
  {
   "cell_type": "code",
   "execution_count": 38,
   "metadata": {},
   "outputs": [],
   "source": [
    "# plot pairplot for all features\n"
   ]
  },
  {
   "cell_type": "code",
   "execution_count": 39,
   "metadata": {},
   "outputs": [],
   "source": [
    "# Predictors X, and target y for our model\n"
   ]
  },
  {
   "cell_type": "markdown",
   "metadata": {},
   "source": [
    "### Quick context:\n",
    "**Petal** is the bright colorful bit of the flower.  \n",
    "**Sepal** is the green bit that protects the petal before it blooms, and supports it afterwards.\n",
    "\n",
    "<img src=\"Petal-sepal.jpg\" alt=\"Image courtesy of Wikipedia\" height=\"350\" width=\"350\">"
   ]
  },
  {
   "cell_type": "code",
   "execution_count": 40,
   "metadata": {},
   "outputs": [],
   "source": [
    "# Do train test split with 10% as test data\n"
   ]
  },
  {
   "cell_type": "code",
   "execution_count": 41,
   "metadata": {},
   "outputs": [],
   "source": [
    "# Do Scaling for data\n"
   ]
  },
  {
   "cell_type": "code",
   "execution_count": 42,
   "metadata": {},
   "outputs": [],
   "source": [
    "# Intialize our model\n"
   ]
  },
  {
   "cell_type": "code",
   "execution_count": 43,
   "metadata": {},
   "outputs": [],
   "source": [
    "# Score our model"
   ]
  },
  {
   "cell_type": "code",
   "execution_count": 44,
   "metadata": {},
   "outputs": [],
   "source": [
    "# get best K\n"
   ]
  },
  {
   "cell_type": "code",
   "execution_count": 45,
   "metadata": {},
   "outputs": [],
   "source": [
    "# save your best model, load it and see if you are getting same score"
   ]
  },
  {
   "cell_type": "markdown",
   "metadata": {},
   "source": [
    "# Self-Study\n",
    "### Time Permitting - Explore Bias / Variance with \"K\" with new data on  your own!\n",
    "\n",
    "Generally fewer number of neighbors will make your model learn to predict on the specific variance of our data (as a result of variance) and the boundaries / edges of classes will look more jagged but too many neighbors will not capture the general characteristics of your data (smoother edges and less distinction between classes -- less variance -- less distinction between classes). \n",
    "\n",
    "- Lower k will increase variance and decrease bias\n",
    "- Higher k will decrease variance and increase bias.\n",
    "\n",
    "A good way to choose K is to iterate on a few different models score, but also look at precion / recall / F1 in addition to score for each K to see how it  performs on accuracy, but also the other metrics that relate to each class.  Not only is overall accuracy important to understand, but also the rate of misclassfication / performance per each class.\n",
    "\n",
    "> <img src=\"https://snag.gy/26k4Qa.jpg\" width=\"500\">\n",
    "> Mainly, you're looking to find that \"sweet spot\" between bias and variance.  With a K too high or low, you're going to hit one side or the other of this trade-off.\n"
   ]
  },
  {
   "cell_type": "markdown",
   "metadata": {},
   "source": [
    "<img src=\"1nearestneigh.png\" alt=\"1 nearest neigh\" height=\"350\" width=\"350\">\n",
    "<img src=\"20nearestneigh.png\" alt=\"20 nearest neigh\" height=\"350\" width=\"350\">"
   ]
  },
  {
   "cell_type": "markdown",
   "metadata": {},
   "source": [
    "### Good to know:  Note on parametric vs. nonparametric methods\n",
    "\n",
    "Thus far, all of our tests and methods have been **parametric**. That is, we have assumed a certain **distribution for our data**. In linear regression our parameters are the coefficients in our model, and our estimate of the target is calculated from these parameters.\n",
    "\n",
    "There are alternatives in the case where we cannot assume a particular distribution for our data or choose not to. These methods are **nonparametric** \n",
    "\n",
    "=> When we make **no assumptions** about the distribution for our data, we call our data **nonparametric**. For nearly every parametric test, there is a nonparametric analog available. The KNN model is an example of a **nonparametric model**. You can see that there are no coefficients for the different predictors and our estimate is not represented by a formula of our predictor variables."
   ]
  },
  {
   "cell_type": "markdown",
   "metadata": {},
   "source": [
    "## Reading -- Optional\n",
    "[Calculating Euclidean and Manhattan distance](https://math.stackexchange.com/questions/139600/how-do-i-calculate-euclidean-and-manhattan-distance-by-hand)<br>\n",
    "[Dealing with ties](https://stats.stackexchange.com/questions/45580/dealing-with-ties-weights-and-voting-in-knn)<br>\n",
    "[Dealing with ties](https://stats.stackexchange.com/questions/25926/dealing-with-lots-of-ties-in-knn-model)<br>\n",
    "[How scikitlearn resolve ties-please explore the documentation for any update](https://stats.stackexchange.com/questions/144718/how-does-scikit-learn-resolve-ties-in-the-knn-classification)<br>\n",
    "[Breaking Ties in K-NN Classification -- A very good read on LinkedIn](https://www.linkedin.com/pulse/breaking-ties-k-nn-classification-nicholas-pylypiw)<br>\n",
    "[Manhattan Distance - NIST](https://xlinux.nist.gov/dads/HTML/manhattanDistance.html)"
   ]
  }
 ],
 "metadata": {
  "kernelspec": {
   "display_name": "Python 3",
   "language": "python",
   "name": "python3"
  },
  "language_info": {
   "codemirror_mode": {
    "name": "ipython",
    "version": 3
   },
   "file_extension": ".py",
   "mimetype": "text/x-python",
   "name": "python",
   "nbconvert_exporter": "python",
   "pygments_lexer": "ipython3",
   "version": "3.7.3"
  },
  "varInspector": {
   "cols": {
    "lenName": 16,
    "lenType": 16,
    "lenVar": 40
   },
   "kernels_config": {
    "python": {
     "delete_cmd_postfix": "",
     "delete_cmd_prefix": "del ",
     "library": "var_list.py",
     "varRefreshCmd": "print(var_dic_list())"
    },
    "r": {
     "delete_cmd_postfix": ") ",
     "delete_cmd_prefix": "rm(",
     "library": "var_list.r",
     "varRefreshCmd": "cat(var_dic_list()) "
    }
   },
   "types_to_exclude": [
    "module",
    "function",
    "builtin_function_or_method",
    "instance",
    "_Feature"
   ],
   "window_display": false
  },
  "widgets": {
   "state": {
    "5a2c6c956e8844c898e05f2beac13f88": {
     "views": [
      {
       "cell_index": 74
      }
     ]
    }
   },
   "version": "1.2.0"
  }
 },
 "nbformat": 4,
 "nbformat_minor": 4
}
