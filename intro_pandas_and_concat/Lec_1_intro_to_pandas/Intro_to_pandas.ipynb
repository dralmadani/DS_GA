{
 "cells": [
  {
   "cell_type": "markdown",
   "metadata": {},
   "source": [
    "### Few important libraries for Data Science in python echo system.<br>\n",
    "\n",
    "Data analysis and visualization:\n",
    "* [NumPy](https://numpy.org) -- Data Analysis \n",
    "* [pandas](https://pandas.pydata.org) -- Data Analysis and Visualizations\n",
    "* [Matplotlib](https://matplotlib.org) -- Visualization \n",
    "* [Seaborn](https://seaborn.pydata.org) -- Statistical Data Visualization\n",
    "\n",
    "Machine Learning/Deep Learning\n",
    "* [scikit-learn](https://scikit-learn.org/stable/) -- Machine Learning\n",
    "* [tensorflow](https://www.tensorflow.org) -- Deep Learning\n",
    "* [keras](https://keras.io) -- Deep Learning\n",
    "\n",
    "## Let's talk about pandas today!"
   ]
  },
  {
   "cell_type": "markdown",
   "metadata": {
    "slideshow": {
     "slide_type": "slide"
    }
   },
   "source": [
    "![](https://snag.gy/h9Xwf1.jpg)"
   ]
  },
  {
   "cell_type": "markdown",
   "metadata": {
    "nbpresent": {
     "id": "3433c1f4-195d-4a6b-8ad6-961d54c4c96d"
    },
    "slideshow": {
     "slide_type": "slide"
    }
   },
   "source": [
    "<img src=\"http://imgur.com/1ZcRyrc.png\" style=\"float: left; margin: 20px; height: 55px\">\n",
    "\n",
    "\n",
    "# Introduction to Pandas\n",
    "\n",
    "\n",
    "*Instructor: Dr. Junaid Qazi, PhD*\n",
    "___\n",
    "\n",
    "Pandas is the most popular Python package for managing data sets. It's used extensively by data scientists.\n",
    "\n",
    "### Learning Objectives\n",
    "\n",
    "- Define the anatomy of DataFrames.\n",
    "- Explore data with DataFrames.\n",
    "- Practice plotting with pandas."
   ]
  },
  {
   "cell_type": "markdown",
   "metadata": {
    "slideshow": {
     "slide_type": "slide"
    }
   },
   "source": [
    "### Lesson Guide\n",
    "\n",
    "- [Introduction to `pandas`](#introduction)\n",
    "- [Loading CSV Files](#loading_csvs)\n",
    "- [Exploring Your Data](#exploring_data)\n",
    "- [Data Dimensions](#data_dimensions)\n",
    "- [DataFrames vs. Series](#dataframe_series)\n",
    "- [Using the `.info()` Function](#info)\n",
    "- [Using the `.describe()` Function](#describe)\n",
    "- [Independent Practice](#independent_practice)\n",
    "- [Pandas Indexing](#indexing)\n",
    "- [Creating DataFrames](#creating_dataframes)\n",
    "- [Checking Data Types](#dtypes)\n",
    "- [Renaming and Assignment](#renaming_assignment)\n",
    "- [Basic `pandas` Plotting](#basic_plotting)\n",
    "- [Logical Filtering](#filtering)\n",
    "- [Review](#review)"
   ]
  },
  {
   "cell_type": "markdown",
   "metadata": {},
   "source": [
    "(see it SALAM)Helpful Resources:<br> \n",
    "[Series and DataFrames - Notes](https://drive.google.com/open?id=15DgNk4jiRbDjgNgRYHZft4geq8S-QF4E)<br>\n",
    "[Series Lecture](https://drive.google.com/open?id=1AiWVAT3K1YCZX4_HFB7abmxpfVyqa6MX)<br>\n",
    "[DataFrame Lecture](https://drive.google.com/open?id=1JKGxA5RbPL9ISkfmkBnJmbMQu7a5oiw-)"
   ]
  },
  {
   "cell_type": "markdown",
   "metadata": {
    "slideshow": {
     "slide_type": "slide"
    }
   },
   "source": [
    "<a id='introduction'></a>\n",
    "\n",
    "### What is a dataframe?\n",
    "\n",
    "---\n",
    "The concept of a data frame comes from the world of statistical software used in empirical research; \n",
    "- Generally refers to **\"tabular\"** data: a data structure representing cases (rows), each of which consists of a number of observations or measurements (columns)\n",
    "- Each row is treated as a single observation of multiple \"variables\" \n",
    "- The row (\"record\") datatype can be heterogenous (a tuple of different types) \n",
    "- The column datatype must be homogenous. \n",
    "- Data frames usually contain some metadata in addition to data; for example, column and row names (unlike Numpy by default)"
   ]
  },
  {
   "cell_type": "markdown",
   "metadata": {
    "slideshow": {
     "slide_type": "slide"
    }
   },
   "source": [
    "<a id='introduction'></a>\n",
    "\n",
    "### What is `pandas`?\n",
    "\n",
    "---\n",
    "\n",
    "- A data analysis library — **P**anel **D**ata **S**ystem.\n",
    "- It was created by Wes McKinney and open sourced by AQR Capital Management, LLC in 2009.\n",
    "- It's implemented in highly optimized Python/[Cython](https://en.wikipedia.org/wiki/Cython).\n",
    "- It's the most important and commonly used tool to start data analysis projects within the Python scientific ecosystem."
   ]
  },
  {
   "cell_type": "markdown",
   "metadata": {
    "slideshow": {
     "slide_type": "slide"
    }
   },
   "source": [
    "### Pandas Use Cases\n",
    "\n",
    "---\n",
    "\n",
    "- Cleaning data/munging.\n",
    "- Exploratory analysis.\n",
    "- Structuring data for plots or tabular display.\n",
    "- Joining disparate sources.\n",
    "- Modeling.\n",
    "- Filtering, extracting, or transforming. \n"
   ]
  },
  {
   "cell_type": "markdown",
   "metadata": {
    "slideshow": {
     "slide_type": "slide"
    }
   },
   "source": [
    "![](https://snag.gy/tpiLCH.jpg)"
   ]
  },
  {
   "cell_type": "markdown",
   "metadata": {
    "slideshow": {
     "slide_type": "slide"
    }
   },
   "source": [
    "![](https://snag.gy/1V0Ol4.jpg)"
   ]
  },
  {
   "cell_type": "markdown",
   "metadata": {
    "slideshow": {
     "slide_type": "subslide"
    }
   },
   "source": [
    "### Common Outputs\n",
    "\n",
    "---\n",
    "\n",
    "With `pandas` you can:\n",
    "\n",
    "- Export to databases.\n",
    "- Integrate with `matplotlib`.\n",
    "- Collaborate in common formats (plus a variety of others).\n",
    "- Integrate with Python built-ins (**and `numpy`!**).\n"
   ]
  },
  {
   "cell_type": "markdown",
   "metadata": {
    "slideshow": {
     "slide_type": "-"
    }
   },
   "source": [
    "## You can follow along and take notes using the `Intro_to_pandas_Code_along.ipynb`"
   ]
  },
  {
   "cell_type": "markdown",
   "metadata": {
    "nbpresent": {
     "id": "2114073e-4f4f-48bf-9dc8-890433270e90"
    },
    "slideshow": {
     "slide_type": "slide"
    }
   },
   "source": [
    "### Importing `pandas`\n",
    "\n",
    "---\n",
    "\n",
    "Import `pandas` at the top of your notebook like so:"
   ]
  },
  {
   "cell_type": "code",
   "execution_count": 2,
   "metadata": {
    "nbpresent": {
     "id": "37d682c1-2ae6-4c1d-8d54-1e7272ccfcef"
    },
    "slideshow": {
     "slide_type": "-"
    }
   },
   "outputs": [],
   "source": [
    "import pandas as pd"
   ]
  },
  {
   "cell_type": "markdown",
   "metadata": {
    "nbpresent": {
     "id": "e9917673-4eb8-403d-95ba-3068360f3dcd"
    },
    "slideshow": {
     "slide_type": "fragment"
    }
   },
   "source": [
    "Recall that the **`import pandas as pd`** syntax nicknames the `pandas` module as **`pd`** for convenience."
   ]
  },
  {
   "cell_type": "markdown",
   "metadata": {
    "nbpresent": {
     "id": "b29851ac-daa2-46fb-90f0-125e0c4683e1"
    },
    "slideshow": {
     "slide_type": "slide"
    }
   },
   "source": [
    "<a id='loading_csvs'></a>\n",
    "\n",
    "### Loading a CSV into a DataFrame\n",
    "\n",
    "---\n",
    "\n",
    "`pandas` can load many types of files, but one of the **most commonly** used for storing data is a ```.csv```. As an example, let's load a data set on drug use by age from the ```./datasets``` directory:"
   ]
  },
  {
   "cell_type": "code",
   "execution_count": 3,
   "metadata": {
    "nbpresent": {
     "id": "7e4ab5c8-5104-4004-9cd3-e781101e8703"
    },
    "slideshow": {
     "slide_type": "-"
    }
   },
   "outputs": [],
   "source": [
    "drug = pd.read_csv('drug-use-by-age.csv')"
   ]
  },
  {
   "cell_type": "markdown",
   "metadata": {
    "nbpresent": {
     "id": "7c254479-e114-4b53-bb64-d9d5783d69ab"
    },
    "slideshow": {
     "slide_type": "fragment"
    }
   },
   "source": [
    "This creates a `pandas` object called a **DataFrame**. DataFrames are powerful containers, featuring many built-in functions for exploring and manipulating data.\n",
    "\n",
    "We will barely scratch the surface of DataFrame functionality in this lesson, but, throughout this course, you will become an expert at using them."
   ]
  },
  {
   "cell_type": "markdown",
   "metadata": {
    "nbpresent": {
     "id": "b44c04a3-0bd8-4961-a930-092e872469d0"
    },
    "slideshow": {
     "slide_type": "slide"
    }
   },
   "source": [
    "<a id='exploring_data'></a>\n",
    "\n",
    "### Exploring Data using DataFrames\n",
    "\n",
    "---\n",
    "\n",
    "***DataFrames come with built-in functionality that makes data exploration easy.*** \n",
    "\n",
    "To start, let's look at the \"header\" of your data using the ```.head()``` function. If run alone in a notebook cell, it will show you the first handful of columns in the data set, along with the first five rows."
   ]
  },
  {
   "cell_type": "code",
   "execution_count": 7,
   "metadata": {
    "nbpresent": {
     "id": "f332b800-d5b7-4ee9-8d36-77ecd7c4465c"
    },
    "scrolled": true,
    "slideshow": {
     "slide_type": "fragment"
    }
   },
   "outputs": [
    {
     "data": {
      "text/html": [
       "<div>\n",
       "<style scoped>\n",
       "    .dataframe tbody tr th:only-of-type {\n",
       "        vertical-align: middle;\n",
       "    }\n",
       "\n",
       "    .dataframe tbody tr th {\n",
       "        vertical-align: top;\n",
       "    }\n",
       "\n",
       "    .dataframe thead th {\n",
       "        text-align: right;\n",
       "    }\n",
       "</style>\n",
       "<table border=\"1\" class=\"dataframe\">\n",
       "  <thead>\n",
       "    <tr style=\"text-align: right;\">\n",
       "      <th></th>\n",
       "      <th>age</th>\n",
       "      <th>n</th>\n",
       "      <th>alcohol-use</th>\n",
       "      <th>alcohol-frequency</th>\n",
       "      <th>marijuana-use</th>\n",
       "      <th>marijuana-frequency</th>\n",
       "      <th>cocaine-use</th>\n",
       "      <th>cocaine-frequency</th>\n",
       "      <th>crack-use</th>\n",
       "      <th>crack-frequency</th>\n",
       "      <th>...</th>\n",
       "      <th>oxycontin-use</th>\n",
       "      <th>oxycontin-frequency</th>\n",
       "      <th>tranquilizer-use</th>\n",
       "      <th>tranquilizer-frequency</th>\n",
       "      <th>stimulant-use</th>\n",
       "      <th>stimulant-frequency</th>\n",
       "      <th>meth-use</th>\n",
       "      <th>meth-frequency</th>\n",
       "      <th>sedative-use</th>\n",
       "      <th>sedative-frequency</th>\n",
       "    </tr>\n",
       "  </thead>\n",
       "  <tbody>\n",
       "    <tr>\n",
       "      <th>0</th>\n",
       "      <td>12</td>\n",
       "      <td>2798</td>\n",
       "      <td>3.9</td>\n",
       "      <td>3.0</td>\n",
       "      <td>1.1</td>\n",
       "      <td>4.0</td>\n",
       "      <td>0.1</td>\n",
       "      <td>5.0</td>\n",
       "      <td>0.0</td>\n",
       "      <td>-</td>\n",
       "      <td>...</td>\n",
       "      <td>0.1</td>\n",
       "      <td>24.5</td>\n",
       "      <td>0.2</td>\n",
       "      <td>52.0</td>\n",
       "      <td>0.2</td>\n",
       "      <td>2.0</td>\n",
       "      <td>0.0</td>\n",
       "      <td>-</td>\n",
       "      <td>0.2</td>\n",
       "      <td>13.0</td>\n",
       "    </tr>\n",
       "    <tr>\n",
       "      <th>1</th>\n",
       "      <td>13</td>\n",
       "      <td>2757</td>\n",
       "      <td>8.5</td>\n",
       "      <td>6.0</td>\n",
       "      <td>3.4</td>\n",
       "      <td>15.0</td>\n",
       "      <td>0.1</td>\n",
       "      <td>1.0</td>\n",
       "      <td>0.0</td>\n",
       "      <td>3.0</td>\n",
       "      <td>...</td>\n",
       "      <td>0.1</td>\n",
       "      <td>41.0</td>\n",
       "      <td>0.3</td>\n",
       "      <td>25.5</td>\n",
       "      <td>0.3</td>\n",
       "      <td>4.0</td>\n",
       "      <td>0.1</td>\n",
       "      <td>5.0</td>\n",
       "      <td>0.1</td>\n",
       "      <td>19.0</td>\n",
       "    </tr>\n",
       "    <tr>\n",
       "      <th>2</th>\n",
       "      <td>14</td>\n",
       "      <td>2792</td>\n",
       "      <td>18.1</td>\n",
       "      <td>5.0</td>\n",
       "      <td>8.7</td>\n",
       "      <td>24.0</td>\n",
       "      <td>0.1</td>\n",
       "      <td>5.5</td>\n",
       "      <td>0.0</td>\n",
       "      <td>-</td>\n",
       "      <td>...</td>\n",
       "      <td>0.4</td>\n",
       "      <td>4.5</td>\n",
       "      <td>0.9</td>\n",
       "      <td>5.0</td>\n",
       "      <td>0.8</td>\n",
       "      <td>12.0</td>\n",
       "      <td>0.1</td>\n",
       "      <td>24.0</td>\n",
       "      <td>0.2</td>\n",
       "      <td>16.5</td>\n",
       "    </tr>\n",
       "    <tr>\n",
       "      <th>3</th>\n",
       "      <td>15</td>\n",
       "      <td>2956</td>\n",
       "      <td>29.2</td>\n",
       "      <td>6.0</td>\n",
       "      <td>14.5</td>\n",
       "      <td>25.0</td>\n",
       "      <td>0.5</td>\n",
       "      <td>4.0</td>\n",
       "      <td>0.1</td>\n",
       "      <td>9.5</td>\n",
       "      <td>...</td>\n",
       "      <td>0.8</td>\n",
       "      <td>3.0</td>\n",
       "      <td>2.0</td>\n",
       "      <td>4.5</td>\n",
       "      <td>1.5</td>\n",
       "      <td>6.0</td>\n",
       "      <td>0.3</td>\n",
       "      <td>10.5</td>\n",
       "      <td>0.4</td>\n",
       "      <td>30.0</td>\n",
       "    </tr>\n",
       "    <tr>\n",
       "      <th>4</th>\n",
       "      <td>16</td>\n",
       "      <td>3058</td>\n",
       "      <td>40.1</td>\n",
       "      <td>10.0</td>\n",
       "      <td>22.5</td>\n",
       "      <td>30.0</td>\n",
       "      <td>1.0</td>\n",
       "      <td>7.0</td>\n",
       "      <td>0.0</td>\n",
       "      <td>1.0</td>\n",
       "      <td>...</td>\n",
       "      <td>1.1</td>\n",
       "      <td>4.0</td>\n",
       "      <td>2.4</td>\n",
       "      <td>11.0</td>\n",
       "      <td>1.8</td>\n",
       "      <td>9.5</td>\n",
       "      <td>0.3</td>\n",
       "      <td>36.0</td>\n",
       "      <td>0.2</td>\n",
       "      <td>3.0</td>\n",
       "    </tr>\n",
       "  </tbody>\n",
       "</table>\n",
       "<p>5 rows × 28 columns</p>\n",
       "</div>"
      ],
      "text/plain": [
       "  age     n  alcohol-use  alcohol-frequency  marijuana-use  \\\n",
       "0  12  2798          3.9                3.0            1.1   \n",
       "1  13  2757          8.5                6.0            3.4   \n",
       "2  14  2792         18.1                5.0            8.7   \n",
       "3  15  2956         29.2                6.0           14.5   \n",
       "4  16  3058         40.1               10.0           22.5   \n",
       "\n",
       "   marijuana-frequency  cocaine-use cocaine-frequency  crack-use  \\\n",
       "0                  4.0          0.1               5.0        0.0   \n",
       "1                 15.0          0.1               1.0        0.0   \n",
       "2                 24.0          0.1               5.5        0.0   \n",
       "3                 25.0          0.5               4.0        0.1   \n",
       "4                 30.0          1.0               7.0        0.0   \n",
       "\n",
       "  crack-frequency  ...  oxycontin-use oxycontin-frequency  tranquilizer-use  \\\n",
       "0               -  ...            0.1                24.5               0.2   \n",
       "1             3.0  ...            0.1                41.0               0.3   \n",
       "2               -  ...            0.4                 4.5               0.9   \n",
       "3             9.5  ...            0.8                 3.0               2.0   \n",
       "4             1.0  ...            1.1                 4.0               2.4   \n",
       "\n",
       "   tranquilizer-frequency  stimulant-use stimulant-frequency  meth-use  \\\n",
       "0                    52.0            0.2                 2.0       0.0   \n",
       "1                    25.5            0.3                 4.0       0.1   \n",
       "2                     5.0            0.8                12.0       0.1   \n",
       "3                     4.5            1.5                 6.0       0.3   \n",
       "4                    11.0            1.8                 9.5       0.3   \n",
       "\n",
       "   meth-frequency  sedative-use sedative-frequency  \n",
       "0               -           0.2               13.0  \n",
       "1             5.0           0.1               19.0  \n",
       "2            24.0           0.2               16.5  \n",
       "3            10.5           0.4               30.0  \n",
       "4            36.0           0.2                3.0  \n",
       "\n",
       "[5 rows x 28 columns]"
      ]
     },
     "execution_count": 7,
     "metadata": {},
     "output_type": "execute_result"
    }
   ],
   "source": [
    "drug.head() # default 5 rows <shift+tab> for documentation"
   ]
  },
  {
   "cell_type": "markdown",
   "metadata": {
    "nbpresent": {
     "id": "1e6c6b41-692a-43fd-b4e6-81ee125dad7e"
    },
    "slideshow": {
     "slide_type": "slide"
    }
   },
   "source": [
    "If we want to see the last part of our data, we can use the ```.tail()``` function equivalently."
   ]
  },
  {
   "cell_type": "code",
   "execution_count": 4,
   "metadata": {
    "nbpresent": {
     "id": "0077c2a2-48f2-4c30-9181-34d2fc466bc9"
    },
    "slideshow": {
     "slide_type": "-"
    }
   },
   "outputs": [
    {
     "data": {
      "text/html": [
       "<div>\n",
       "<style scoped>\n",
       "    .dataframe tbody tr th:only-of-type {\n",
       "        vertical-align: middle;\n",
       "    }\n",
       "\n",
       "    .dataframe tbody tr th {\n",
       "        vertical-align: top;\n",
       "    }\n",
       "\n",
       "    .dataframe thead th {\n",
       "        text-align: right;\n",
       "    }\n",
       "</style>\n",
       "<table border=\"1\" class=\"dataframe\">\n",
       "  <thead>\n",
       "    <tr style=\"text-align: right;\">\n",
       "      <th></th>\n",
       "      <th>age</th>\n",
       "      <th>n</th>\n",
       "      <th>alcohol-use</th>\n",
       "      <th>alcohol-frequency</th>\n",
       "      <th>marijuana-use</th>\n",
       "      <th>marijuana-frequency</th>\n",
       "      <th>cocaine-use</th>\n",
       "      <th>cocaine-frequency</th>\n",
       "      <th>crack-use</th>\n",
       "      <th>crack-frequency</th>\n",
       "      <th>...</th>\n",
       "      <th>oxycontin-use</th>\n",
       "      <th>oxycontin-frequency</th>\n",
       "      <th>tranquilizer-use</th>\n",
       "      <th>tranquilizer-frequency</th>\n",
       "      <th>stimulant-use</th>\n",
       "      <th>stimulant-frequency</th>\n",
       "      <th>meth-use</th>\n",
       "      <th>meth-frequency</th>\n",
       "      <th>sedative-use</th>\n",
       "      <th>sedative-frequency</th>\n",
       "    </tr>\n",
       "  </thead>\n",
       "  <tbody>\n",
       "    <tr>\n",
       "      <th>12</th>\n",
       "      <td>26-29</td>\n",
       "      <td>2628</td>\n",
       "      <td>80.7</td>\n",
       "      <td>52.0</td>\n",
       "      <td>20.8</td>\n",
       "      <td>52.0</td>\n",
       "      <td>3.2</td>\n",
       "      <td>5.0</td>\n",
       "      <td>0.4</td>\n",
       "      <td>6.0</td>\n",
       "      <td>...</td>\n",
       "      <td>1.2</td>\n",
       "      <td>13.5</td>\n",
       "      <td>4.2</td>\n",
       "      <td>10.0</td>\n",
       "      <td>2.3</td>\n",
       "      <td>7.0</td>\n",
       "      <td>0.6</td>\n",
       "      <td>30.0</td>\n",
       "      <td>0.4</td>\n",
       "      <td>4.0</td>\n",
       "    </tr>\n",
       "    <tr>\n",
       "      <th>13</th>\n",
       "      <td>30-34</td>\n",
       "      <td>2864</td>\n",
       "      <td>77.5</td>\n",
       "      <td>52.0</td>\n",
       "      <td>16.4</td>\n",
       "      <td>72.0</td>\n",
       "      <td>2.1</td>\n",
       "      <td>8.0</td>\n",
       "      <td>0.5</td>\n",
       "      <td>15.0</td>\n",
       "      <td>...</td>\n",
       "      <td>0.9</td>\n",
       "      <td>46.0</td>\n",
       "      <td>3.6</td>\n",
       "      <td>8.0</td>\n",
       "      <td>1.4</td>\n",
       "      <td>12.0</td>\n",
       "      <td>0.4</td>\n",
       "      <td>54.0</td>\n",
       "      <td>0.4</td>\n",
       "      <td>10.0</td>\n",
       "    </tr>\n",
       "    <tr>\n",
       "      <th>14</th>\n",
       "      <td>35-49</td>\n",
       "      <td>7391</td>\n",
       "      <td>75.0</td>\n",
       "      <td>52.0</td>\n",
       "      <td>10.4</td>\n",
       "      <td>48.0</td>\n",
       "      <td>1.5</td>\n",
       "      <td>15.0</td>\n",
       "      <td>0.5</td>\n",
       "      <td>48.0</td>\n",
       "      <td>...</td>\n",
       "      <td>0.3</td>\n",
       "      <td>12.0</td>\n",
       "      <td>1.9</td>\n",
       "      <td>6.0</td>\n",
       "      <td>0.6</td>\n",
       "      <td>24.0</td>\n",
       "      <td>0.2</td>\n",
       "      <td>104.0</td>\n",
       "      <td>0.3</td>\n",
       "      <td>10.0</td>\n",
       "    </tr>\n",
       "    <tr>\n",
       "      <th>15</th>\n",
       "      <td>50-64</td>\n",
       "      <td>3923</td>\n",
       "      <td>67.2</td>\n",
       "      <td>52.0</td>\n",
       "      <td>7.3</td>\n",
       "      <td>52.0</td>\n",
       "      <td>0.9</td>\n",
       "      <td>36.0</td>\n",
       "      <td>0.4</td>\n",
       "      <td>62.0</td>\n",
       "      <td>...</td>\n",
       "      <td>0.4</td>\n",
       "      <td>5.0</td>\n",
       "      <td>1.4</td>\n",
       "      <td>10.0</td>\n",
       "      <td>0.3</td>\n",
       "      <td>24.0</td>\n",
       "      <td>0.2</td>\n",
       "      <td>30.0</td>\n",
       "      <td>0.2</td>\n",
       "      <td>104.0</td>\n",
       "    </tr>\n",
       "    <tr>\n",
       "      <th>16</th>\n",
       "      <td>65+</td>\n",
       "      <td>2448</td>\n",
       "      <td>49.3</td>\n",
       "      <td>52.0</td>\n",
       "      <td>1.2</td>\n",
       "      <td>36.0</td>\n",
       "      <td>0.0</td>\n",
       "      <td>-</td>\n",
       "      <td>0.0</td>\n",
       "      <td>-</td>\n",
       "      <td>...</td>\n",
       "      <td>0.0</td>\n",
       "      <td>-</td>\n",
       "      <td>0.2</td>\n",
       "      <td>5.0</td>\n",
       "      <td>0.0</td>\n",
       "      <td>364.0</td>\n",
       "      <td>0.0</td>\n",
       "      <td>-</td>\n",
       "      <td>0.0</td>\n",
       "      <td>15.0</td>\n",
       "    </tr>\n",
       "  </tbody>\n",
       "</table>\n",
       "<p>5 rows × 28 columns</p>\n",
       "</div>"
      ],
      "text/plain": [
       "      age     n  alcohol-use  alcohol-frequency  marijuana-use  \\\n",
       "12  26-29  2628         80.7               52.0           20.8   \n",
       "13  30-34  2864         77.5               52.0           16.4   \n",
       "14  35-49  7391         75.0               52.0           10.4   \n",
       "15  50-64  3923         67.2               52.0            7.3   \n",
       "16    65+  2448         49.3               52.0            1.2   \n",
       "\n",
       "    marijuana-frequency  cocaine-use cocaine-frequency  crack-use  \\\n",
       "12                 52.0          3.2               5.0        0.4   \n",
       "13                 72.0          2.1               8.0        0.5   \n",
       "14                 48.0          1.5              15.0        0.5   \n",
       "15                 52.0          0.9              36.0        0.4   \n",
       "16                 36.0          0.0                 -        0.0   \n",
       "\n",
       "   crack-frequency  ...  oxycontin-use oxycontin-frequency  tranquilizer-use  \\\n",
       "12             6.0  ...            1.2                13.5               4.2   \n",
       "13            15.0  ...            0.9                46.0               3.6   \n",
       "14            48.0  ...            0.3                12.0               1.9   \n",
       "15            62.0  ...            0.4                 5.0               1.4   \n",
       "16               -  ...            0.0                   -               0.2   \n",
       "\n",
       "    tranquilizer-frequency  stimulant-use stimulant-frequency  meth-use  \\\n",
       "12                    10.0            2.3                 7.0       0.6   \n",
       "13                     8.0            1.4                12.0       0.4   \n",
       "14                     6.0            0.6                24.0       0.2   \n",
       "15                    10.0            0.3                24.0       0.2   \n",
       "16                     5.0            0.0               364.0       0.0   \n",
       "\n",
       "    meth-frequency  sedative-use sedative-frequency  \n",
       "12            30.0           0.4                4.0  \n",
       "13            54.0           0.4               10.0  \n",
       "14           104.0           0.3               10.0  \n",
       "15            30.0           0.2              104.0  \n",
       "16               -           0.0               15.0  \n",
       "\n",
       "[5 rows x 28 columns]"
      ]
     },
     "execution_count": 4,
     "metadata": {},
     "output_type": "execute_result"
    }
   ],
   "source": [
    "drug.tail() # default n = 5"
   ]
  },
  {
   "cell_type": "markdown",
   "metadata": {
    "nbpresent": {
     "id": "2c901f72-6d15-4e6b-9592-de89ff0b4dfa"
    },
    "slideshow": {
     "slide_type": "slide"
    }
   },
   "source": [
    "<a id='data_dimensions'></a>\n",
    "\n",
    "### Data Dimensions\n",
    "\n",
    "---\n",
    "\n",
    "It's always good to look at the dimensions of your data. The ```.shape``` property will tell you how many rows and columns are contained within your DataFrame."
   ]
  },
  {
   "cell_type": "code",
   "execution_count": 9,
   "metadata": {
    "nbpresent": {
     "id": "9a9b6f73-3b89-41e7-99eb-14e7afa83467"
    },
    "slideshow": {
     "slide_type": "-"
    }
   },
   "outputs": [
    {
     "data": {
      "text/plain": [
       "(17, 28)"
      ]
     },
     "execution_count": 9,
     "metadata": {},
     "output_type": "execute_result"
    }
   ],
   "source": [
    "drug.shape"
   ]
  },
  {
   "cell_type": "markdown",
   "metadata": {
    "nbpresent": {
     "id": "042513d6-a8a3-4ec3-aaf3-e6acb8854820"
    },
    "slideshow": {
     "slide_type": "fragment"
    }
   },
   "source": [
    "As you can see, we have 17 rows and 28 columns, so we can consider this a small data set.\n",
    "\n",
    "You'll also notice that this function operates the same as `.shape` for `numpy` arrays/matricies. `pandas` makes use of **numpy** under its hood for optimization and speed."
   ]
  },
  {
   "cell_type": "markdown",
   "metadata": {
    "nbpresent": {
     "id": "31d5c9db-bf27-4798-ae2d-081e17102bbb"
    },
    "slideshow": {
     "slide_type": "slide"
    }
   },
   "source": [
    "You can look up the names of your columns using the ```.columns``` property.\n"
   ]
  },
  {
   "cell_type": "code",
   "execution_count": 10,
   "metadata": {
    "nbpresent": {
     "id": "b2da21bb-5a29-441d-a0b7-949ecf9938c8"
    },
    "slideshow": {
     "slide_type": "fragment"
    }
   },
   "outputs": [
    {
     "data": {
      "text/plain": [
       "Index(['age', 'n', 'alcohol-use', 'alcohol-frequency', 'marijuana-use',\n",
       "       'marijuana-frequency', 'cocaine-use', 'cocaine-frequency', 'crack-use',\n",
       "       'crack-frequency', 'heroin-use', 'heroin-frequency', 'hallucinogen-use',\n",
       "       'hallucinogen-frequency', 'inhalant-use', 'inhalant-frequency',\n",
       "       'pain-releiver-use', 'pain-releiver-frequency', 'oxycontin-use',\n",
       "       'oxycontin-frequency', 'tranquilizer-use', 'tranquilizer-frequency',\n",
       "       'stimulant-use', 'stimulant-frequency', 'meth-use', 'meth-frequency',\n",
       "       'sedative-use', 'sedative-frequency'],\n",
       "      dtype='object')"
      ]
     },
     "execution_count": 10,
     "metadata": {},
     "output_type": "execute_result"
    }
   ],
   "source": [
    "drug.columns"
   ]
  },
  {
   "cell_type": "markdown",
   "metadata": {
    "nbpresent": {
     "id": "fc25fdf8-5959-4d0e-ab9d-ab6da5c83209"
    },
    "slideshow": {
     "slide_type": "slide"
    }
   },
   "source": [
    "**Accessing a specific column** is easy. You can use bracket syntax just like you would with Python dictionaries, using the column's string name to extract it."
   ]
  },
  {
   "cell_type": "code",
   "execution_count": 7,
   "metadata": {
    "nbpresent": {
     "id": "c1d9b4d1-263d-4ca1-acf6-d18ad31c16e6"
    },
    "slideshow": {
     "slide_type": "fragment"
    }
   },
   "outputs": [
    {
     "data": {
      "text/plain": [
       "0    0.0\n",
       "1    0.0\n",
       "Name: crack-use, dtype: float64"
      ]
     },
     "execution_count": 7,
     "metadata": {},
     "output_type": "execute_result"
    }
   ],
   "source": [
    "drug['crack-use'].head(2) # passing string -- col name"
   ]
  },
  {
   "cell_type": "markdown",
   "metadata": {
    "nbpresent": {
     "id": "d1473cb4-9805-4831-aca8-71c68c271729"
    },
    "slideshow": {
     "slide_type": "fragment"
    }
   },
   "source": [
    "As you can see, we can also use the ```.head()``` function on a single column, which is represented as a `pandas` Series object."
   ]
  },
  {
   "cell_type": "markdown",
   "metadata": {
    "nbpresent": {
     "id": "e5d6b43d-4118-465d-bea3-83a2caf96b8e"
    },
    "slideshow": {
     "slide_type": "slide"
    }
   },
   "source": [
    "With a list of strings, you can also access a column (as a DataFrame instead of a Series)."
   ]
  },
  {
   "cell_type": "code",
   "execution_count": 8,
   "metadata": {
    "nbpresent": {
     "id": "4c713e8f-a430-4d4a-afe4-90f13bde08c2"
    },
    "slideshow": {
     "slide_type": "fragment"
    }
   },
   "outputs": [
    {
     "data": {
      "text/html": [
       "<div>\n",
       "<style scoped>\n",
       "    .dataframe tbody tr th:only-of-type {\n",
       "        vertical-align: middle;\n",
       "    }\n",
       "\n",
       "    .dataframe tbody tr th {\n",
       "        vertical-align: top;\n",
       "    }\n",
       "\n",
       "    .dataframe thead th {\n",
       "        text-align: right;\n",
       "    }\n",
       "</style>\n",
       "<table border=\"1\" class=\"dataframe\">\n",
       "  <thead>\n",
       "    <tr style=\"text-align: right;\">\n",
       "      <th></th>\n",
       "      <th>crack-use</th>\n",
       "    </tr>\n",
       "  </thead>\n",
       "  <tbody>\n",
       "    <tr>\n",
       "      <th>0</th>\n",
       "      <td>0.0</td>\n",
       "    </tr>\n",
       "    <tr>\n",
       "      <th>1</th>\n",
       "      <td>0.0</td>\n",
       "    </tr>\n",
       "  </tbody>\n",
       "</table>\n",
       "</div>"
      ],
      "text/plain": [
       "   crack-use\n",
       "0        0.0\n",
       "1        0.0"
      ]
     },
     "execution_count": 8,
     "metadata": {},
     "output_type": "execute_result"
    }
   ],
   "source": [
    "drug[['crack-use']].head(2) # passing list of string/s -- col name/s #SALAM should us uaw [[ ]] not only [] "
   ]
  },
  {
   "cell_type": "code",
   "execution_count": 9,
   "metadata": {
    "nbpresent": {
     "id": "46dc97d4-6326-417d-8745-64c49ef65ec2"
    },
    "slideshow": {
     "slide_type": "fragment"
    }
   },
   "outputs": [
    {
     "data": {
      "text/html": [
       "<div>\n",
       "<style scoped>\n",
       "    .dataframe tbody tr th:only-of-type {\n",
       "        vertical-align: middle;\n",
       "    }\n",
       "\n",
       "    .dataframe tbody tr th {\n",
       "        vertical-align: top;\n",
       "    }\n",
       "\n",
       "    .dataframe thead th {\n",
       "        text-align: right;\n",
       "    }\n",
       "</style>\n",
       "<table border=\"1\" class=\"dataframe\">\n",
       "  <thead>\n",
       "    <tr style=\"text-align: right;\">\n",
       "      <th></th>\n",
       "      <th>age</th>\n",
       "      <th>crack-use</th>\n",
       "    </tr>\n",
       "  </thead>\n",
       "  <tbody>\n",
       "    <tr>\n",
       "      <th>0</th>\n",
       "      <td>12</td>\n",
       "      <td>0.0</td>\n",
       "    </tr>\n",
       "    <tr>\n",
       "      <th>1</th>\n",
       "      <td>13</td>\n",
       "      <td>0.0</td>\n",
       "    </tr>\n",
       "  </tbody>\n",
       "</table>\n",
       "</div>"
      ],
      "text/plain": [
       "  age  crack-use\n",
       "0  12        0.0\n",
       "1  13        0.0"
      ]
     },
     "execution_count": 9,
     "metadata": {},
     "output_type": "execute_result"
    }
   ],
   "source": [
    "drug[['age','crack-use']].head(2) # list containing more than one col names"
   ]
  },
  {
   "cell_type": "markdown",
   "metadata": {
    "nbpresent": {
     "id": "0c73f9d4-b242-441c-b606-40c05b450f25"
    },
    "slideshow": {
     "slide_type": "slide"
    }
   },
   "source": [
    "<a id='dataframe_series'></a>\n",
    "\n",
    "### DataFrame vs. Series\n",
    "\n",
    "---\n",
    "\n",
    "There is an important difference between using a list of strings versus only using a string with a column's name: When you use a list containing the string, it returns another **DataFrame**. But, when you only use the string, it returns a `pandas` **Series** object."
   ]
  },
  {
   "cell_type": "code",
   "execution_count": 10,
   "metadata": {
    "nbpresent": {
     "id": "a8526589-1116-4c85-be23-5cba34430f32"
    },
    "slideshow": {
     "slide_type": "fragment"
    }
   },
   "outputs": [
    {
     "name": "stdout",
     "output_type": "stream",
     "text": [
      "<class 'pandas.core.series.Series'>\n",
      "<class 'pandas.core.frame.DataFrame'>\n"
     ]
    }
   ],
   "source": [
    "print(type(drug['age'])) # its col name -- a string\n",
    "\n",
    "print(type(drug[['age']])) # notice, its list of col name/s"
   ]
  },
  {
   "cell_type": "markdown",
   "metadata": {
    "nbpresent": {
     "id": "9aee722a-59c8-4c66-ba6e-58c629b5740b"
    },
    "slideshow": {
     "slide_type": "fragment"
    }
   },
   "source": [
    "**Breakout (2min):** What's the difference between `pandas`' Series and DataFrame objects?\n",
    "\n",
    "Essentially, a **Series** object contains the data for a single column, and a **DataFrame** object is a matrix-like (2D-array) container for those Series (1D-array) objects that comprise your data."
   ]
  },
  {
   "cell_type": "markdown",
   "metadata": {
    "nbpresent": {
     "id": "892f7841-512b-4f7b-b741-5b2c094a31d2"
    },
    "slideshow": {
     "slide_type": "slide"
    }
   },
   "source": [
    "*As long as your column names don't contain any spaces or other specialized characters (underscores are OK), you can access a column as a property (`using dot operator`) of a DataFrame.*  \n",
    "\n",
    "**Get in the habit of referencing your Series columns using `df['my_column']` rather than with object notation (`df.my_column`)**."
   ]
  },
  {
   "cell_type": "code",
   "execution_count": 11,
   "metadata": {
    "nbpresent": {
     "id": "2957ddaf-3796-4486-a784-3e08ecb7e5b7"
    },
    "slideshow": {
     "slide_type": "fragment"
    }
   },
   "outputs": [
    {
     "data": {
      "text/plain": [
       "0    12\n",
       "1    13\n",
       "Name: age, dtype: object"
      ]
     },
     "execution_count": 11,
     "metadata": {},
     "output_type": "execute_result"
    }
   ],
   "source": [
    "drug['age'].head(2) # default n = 5"
   ]
  },
  {
   "cell_type": "markdown",
   "metadata": {
    "nbpresent": {
     "id": "5cd69bd7-4bff-4fb5-b575-8919901fa6b6"
    },
    "slideshow": {
     "slide_type": "fragment"
    }
   },
   "source": [
    "Remember: This will be a **Series** object, not a DataFrame."
   ]
  },
  {
   "cell_type": "markdown",
   "metadata": {
    "slideshow": {
     "slide_type": "slide"
    }
   },
   "source": [
    "<a id='info'></a>\n",
    "\n",
    "### Examining Your Data With `.info()`\n",
    "\n",
    "---\n",
    "\n",
    "When getting acquainted with a new data set, `.info()` should be the first thing you examine.\n",
    "\n",
    "**Types** are very important. They affect the way data will be represented in our machine learning models, how data can be joined, whether or not math operators can be applied, and instances in which you can encounter unexpected results.\n",
    "\n",
    "> _**Typical problems** that arise when working with new data sets include_:\n",
    "> - Missing values.\n",
    "> - Unexpected types (string/object instead of int/float).\n",
    "> - Dirty data (commas, dollar signs, unexpected characters, etc.).\n",
    "> - Blank values that are actually \"non-null\" or single white-space characters.\n",
    "\n",
    "`.info()` is a function available on every **DataFrame** object. It provides information about:\n",
    "\n",
    "- The name of the column/variable attribute.\n",
    "- The type of index (RangeIndex is default).\n",
    "- The count of non-null values by column/attribute.\n",
    "- The type of data contained in the column/attribute.\n",
    "- The unique counts of **dtypes** (`pandas` data types).\n",
    "- The memory usage of our data set.\n"
   ]
  },
  {
   "cell_type": "code",
   "execution_count": 12,
   "metadata": {
    "slideshow": {
     "slide_type": "slide"
    }
   },
   "outputs": [
    {
     "name": "stdout",
     "output_type": "stream",
     "text": [
      "<class 'pandas.core.frame.DataFrame'>\n",
      "RangeIndex: 17 entries, 0 to 16\n",
      "Data columns (total 28 columns):\n",
      "age                        17 non-null object\n",
      "n                          17 non-null int64\n",
      "alcohol-use                17 non-null float64\n",
      "alcohol-frequency          17 non-null float64\n",
      "marijuana-use              17 non-null float64\n",
      "marijuana-frequency        17 non-null float64\n",
      "cocaine-use                17 non-null float64\n",
      "cocaine-frequency          17 non-null object\n",
      "crack-use                  17 non-null float64\n",
      "crack-frequency            17 non-null object\n",
      "heroin-use                 17 non-null float64\n",
      "heroin-frequency           17 non-null object\n",
      "hallucinogen-use           17 non-null float64\n",
      "hallucinogen-frequency     17 non-null float64\n",
      "inhalant-use               17 non-null float64\n",
      "inhalant-frequency         17 non-null object\n",
      "pain-releiver-use          17 non-null float64\n",
      "pain-releiver-frequency    17 non-null float64\n",
      "oxycontin-use              17 non-null float64\n",
      "oxycontin-frequency        17 non-null object\n",
      "tranquilizer-use           17 non-null float64\n",
      "tranquilizer-frequency     17 non-null float64\n",
      "stimulant-use              17 non-null float64\n",
      "stimulant-frequency        17 non-null float64\n",
      "meth-use                   17 non-null float64\n",
      "meth-frequency             17 non-null object\n",
      "sedative-use               17 non-null float64\n",
      "sedative-frequency         17 non-null float64\n",
      "dtypes: float64(20), int64(1), object(7)\n",
      "memory usage: 3.8+ KB\n"
     ]
    }
   ],
   "source": [
    "drug.info()"
   ]
  },
  {
   "cell_type": "markdown",
   "metadata": {
    "nbpresent": {
     "id": "3f0c0568-5a2d-4559-ac13-7170a5c43846"
    },
    "slideshow": {
     "slide_type": "slide"
    }
   },
   "source": [
    "<a id='describe'></a>\n",
    "\n",
    "### Summarizing Data with `.describe()`\n",
    "\n",
    "---\n",
    "\n",
    "The ```.describe()``` function is useful for taking a quick look at your data. It returns some **basic descriptive statistics**."
   ]
  },
  {
   "cell_type": "code",
   "execution_count": 13,
   "metadata": {
    "scrolled": false
   },
   "outputs": [
    {
     "data": {
      "text/html": [
       "<div>\n",
       "<style scoped>\n",
       "    .dataframe tbody tr th:only-of-type {\n",
       "        vertical-align: middle;\n",
       "    }\n",
       "\n",
       "    .dataframe tbody tr th {\n",
       "        vertical-align: top;\n",
       "    }\n",
       "\n",
       "    .dataframe thead th {\n",
       "        text-align: right;\n",
       "    }\n",
       "</style>\n",
       "<table border=\"1\" class=\"dataframe\">\n",
       "  <thead>\n",
       "    <tr style=\"text-align: right;\">\n",
       "      <th></th>\n",
       "      <th>n</th>\n",
       "      <th>alcohol-use</th>\n",
       "      <th>alcohol-frequency</th>\n",
       "      <th>marijuana-use</th>\n",
       "      <th>marijuana-frequency</th>\n",
       "      <th>cocaine-use</th>\n",
       "      <th>crack-use</th>\n",
       "      <th>heroin-use</th>\n",
       "      <th>hallucinogen-use</th>\n",
       "      <th>hallucinogen-frequency</th>\n",
       "      <th>...</th>\n",
       "      <th>pain-releiver-use</th>\n",
       "      <th>pain-releiver-frequency</th>\n",
       "      <th>oxycontin-use</th>\n",
       "      <th>tranquilizer-use</th>\n",
       "      <th>tranquilizer-frequency</th>\n",
       "      <th>stimulant-use</th>\n",
       "      <th>stimulant-frequency</th>\n",
       "      <th>meth-use</th>\n",
       "      <th>sedative-use</th>\n",
       "      <th>sedative-frequency</th>\n",
       "    </tr>\n",
       "  </thead>\n",
       "  <tbody>\n",
       "    <tr>\n",
       "      <th>count</th>\n",
       "      <td>17.000000</td>\n",
       "      <td>17.000000</td>\n",
       "      <td>17.000000</td>\n",
       "      <td>17.000000</td>\n",
       "      <td>17.000000</td>\n",
       "      <td>17.000000</td>\n",
       "      <td>17.000000</td>\n",
       "      <td>17.000000</td>\n",
       "      <td>17.000000</td>\n",
       "      <td>17.000000</td>\n",
       "      <td>...</td>\n",
       "      <td>17.000000</td>\n",
       "      <td>17.000000</td>\n",
       "      <td>17.000000</td>\n",
       "      <td>17.000000</td>\n",
       "      <td>17.000000</td>\n",
       "      <td>17.000000</td>\n",
       "      <td>17.000000</td>\n",
       "      <td>17.000000</td>\n",
       "      <td>17.000000</td>\n",
       "      <td>17.000000</td>\n",
       "    </tr>\n",
       "    <tr>\n",
       "      <th>mean</th>\n",
       "      <td>3251.058824</td>\n",
       "      <td>55.429412</td>\n",
       "      <td>33.352941</td>\n",
       "      <td>18.923529</td>\n",
       "      <td>42.941176</td>\n",
       "      <td>2.176471</td>\n",
       "      <td>0.294118</td>\n",
       "      <td>0.352941</td>\n",
       "      <td>3.394118</td>\n",
       "      <td>8.411765</td>\n",
       "      <td>...</td>\n",
       "      <td>6.270588</td>\n",
       "      <td>14.705882</td>\n",
       "      <td>0.935294</td>\n",
       "      <td>2.805882</td>\n",
       "      <td>11.735294</td>\n",
       "      <td>1.917647</td>\n",
       "      <td>31.147059</td>\n",
       "      <td>0.382353</td>\n",
       "      <td>0.282353</td>\n",
       "      <td>19.382353</td>\n",
       "    </tr>\n",
       "    <tr>\n",
       "      <th>std</th>\n",
       "      <td>1297.890426</td>\n",
       "      <td>26.878866</td>\n",
       "      <td>21.318833</td>\n",
       "      <td>11.959752</td>\n",
       "      <td>18.362566</td>\n",
       "      <td>1.816772</td>\n",
       "      <td>0.235772</td>\n",
       "      <td>0.333762</td>\n",
       "      <td>2.792506</td>\n",
       "      <td>15.000245</td>\n",
       "      <td>...</td>\n",
       "      <td>3.166379</td>\n",
       "      <td>6.935098</td>\n",
       "      <td>0.608216</td>\n",
       "      <td>1.753379</td>\n",
       "      <td>11.485205</td>\n",
       "      <td>1.407673</td>\n",
       "      <td>85.973790</td>\n",
       "      <td>0.262762</td>\n",
       "      <td>0.138000</td>\n",
       "      <td>24.833527</td>\n",
       "    </tr>\n",
       "    <tr>\n",
       "      <th>min</th>\n",
       "      <td>2223.000000</td>\n",
       "      <td>3.900000</td>\n",
       "      <td>3.000000</td>\n",
       "      <td>1.100000</td>\n",
       "      <td>4.000000</td>\n",
       "      <td>0.000000</td>\n",
       "      <td>0.000000</td>\n",
       "      <td>0.000000</td>\n",
       "      <td>0.100000</td>\n",
       "      <td>2.000000</td>\n",
       "      <td>...</td>\n",
       "      <td>0.600000</td>\n",
       "      <td>7.000000</td>\n",
       "      <td>0.000000</td>\n",
       "      <td>0.200000</td>\n",
       "      <td>4.500000</td>\n",
       "      <td>0.000000</td>\n",
       "      <td>2.000000</td>\n",
       "      <td>0.000000</td>\n",
       "      <td>0.000000</td>\n",
       "      <td>3.000000</td>\n",
       "    </tr>\n",
       "    <tr>\n",
       "      <th>25%</th>\n",
       "      <td>2469.000000</td>\n",
       "      <td>40.100000</td>\n",
       "      <td>10.000000</td>\n",
       "      <td>8.700000</td>\n",
       "      <td>30.000000</td>\n",
       "      <td>0.500000</td>\n",
       "      <td>0.000000</td>\n",
       "      <td>0.100000</td>\n",
       "      <td>0.600000</td>\n",
       "      <td>3.000000</td>\n",
       "      <td>...</td>\n",
       "      <td>3.900000</td>\n",
       "      <td>12.000000</td>\n",
       "      <td>0.400000</td>\n",
       "      <td>1.400000</td>\n",
       "      <td>6.000000</td>\n",
       "      <td>0.600000</td>\n",
       "      <td>7.000000</td>\n",
       "      <td>0.200000</td>\n",
       "      <td>0.200000</td>\n",
       "      <td>6.500000</td>\n",
       "    </tr>\n",
       "    <tr>\n",
       "      <th>50%</th>\n",
       "      <td>2798.000000</td>\n",
       "      <td>64.600000</td>\n",
       "      <td>48.000000</td>\n",
       "      <td>20.800000</td>\n",
       "      <td>52.000000</td>\n",
       "      <td>2.000000</td>\n",
       "      <td>0.400000</td>\n",
       "      <td>0.200000</td>\n",
       "      <td>3.200000</td>\n",
       "      <td>3.000000</td>\n",
       "      <td>...</td>\n",
       "      <td>6.200000</td>\n",
       "      <td>12.000000</td>\n",
       "      <td>1.100000</td>\n",
       "      <td>3.500000</td>\n",
       "      <td>10.000000</td>\n",
       "      <td>1.800000</td>\n",
       "      <td>10.000000</td>\n",
       "      <td>0.400000</td>\n",
       "      <td>0.300000</td>\n",
       "      <td>10.000000</td>\n",
       "    </tr>\n",
       "    <tr>\n",
       "      <th>75%</th>\n",
       "      <td>3058.000000</td>\n",
       "      <td>77.500000</td>\n",
       "      <td>52.000000</td>\n",
       "      <td>28.400000</td>\n",
       "      <td>52.000000</td>\n",
       "      <td>4.000000</td>\n",
       "      <td>0.500000</td>\n",
       "      <td>0.600000</td>\n",
       "      <td>5.200000</td>\n",
       "      <td>4.000000</td>\n",
       "      <td>...</td>\n",
       "      <td>9.000000</td>\n",
       "      <td>15.000000</td>\n",
       "      <td>1.400000</td>\n",
       "      <td>4.200000</td>\n",
       "      <td>11.000000</td>\n",
       "      <td>3.000000</td>\n",
       "      <td>12.000000</td>\n",
       "      <td>0.600000</td>\n",
       "      <td>0.400000</td>\n",
       "      <td>17.500000</td>\n",
       "    </tr>\n",
       "    <tr>\n",
       "      <th>max</th>\n",
       "      <td>7391.000000</td>\n",
       "      <td>84.200000</td>\n",
       "      <td>52.000000</td>\n",
       "      <td>34.000000</td>\n",
       "      <td>72.000000</td>\n",
       "      <td>4.900000</td>\n",
       "      <td>0.600000</td>\n",
       "      <td>1.100000</td>\n",
       "      <td>8.600000</td>\n",
       "      <td>52.000000</td>\n",
       "      <td>...</td>\n",
       "      <td>10.000000</td>\n",
       "      <td>36.000000</td>\n",
       "      <td>1.700000</td>\n",
       "      <td>5.400000</td>\n",
       "      <td>52.000000</td>\n",
       "      <td>4.100000</td>\n",
       "      <td>364.000000</td>\n",
       "      <td>0.900000</td>\n",
       "      <td>0.500000</td>\n",
       "      <td>104.000000</td>\n",
       "    </tr>\n",
       "  </tbody>\n",
       "</table>\n",
       "<p>8 rows × 21 columns</p>\n",
       "</div>"
      ],
      "text/plain": [
       "                 n  alcohol-use  alcohol-frequency  marijuana-use  \\\n",
       "count    17.000000    17.000000          17.000000      17.000000   \n",
       "mean   3251.058824    55.429412          33.352941      18.923529   \n",
       "std    1297.890426    26.878866          21.318833      11.959752   \n",
       "min    2223.000000     3.900000           3.000000       1.100000   \n",
       "25%    2469.000000    40.100000          10.000000       8.700000   \n",
       "50%    2798.000000    64.600000          48.000000      20.800000   \n",
       "75%    3058.000000    77.500000          52.000000      28.400000   \n",
       "max    7391.000000    84.200000          52.000000      34.000000   \n",
       "\n",
       "       marijuana-frequency  cocaine-use  crack-use  heroin-use  \\\n",
       "count            17.000000    17.000000  17.000000   17.000000   \n",
       "mean             42.941176     2.176471   0.294118    0.352941   \n",
       "std              18.362566     1.816772   0.235772    0.333762   \n",
       "min               4.000000     0.000000   0.000000    0.000000   \n",
       "25%              30.000000     0.500000   0.000000    0.100000   \n",
       "50%              52.000000     2.000000   0.400000    0.200000   \n",
       "75%              52.000000     4.000000   0.500000    0.600000   \n",
       "max              72.000000     4.900000   0.600000    1.100000   \n",
       "\n",
       "       hallucinogen-use  hallucinogen-frequency  ...  pain-releiver-use  \\\n",
       "count         17.000000               17.000000  ...          17.000000   \n",
       "mean           3.394118                8.411765  ...           6.270588   \n",
       "std            2.792506               15.000245  ...           3.166379   \n",
       "min            0.100000                2.000000  ...           0.600000   \n",
       "25%            0.600000                3.000000  ...           3.900000   \n",
       "50%            3.200000                3.000000  ...           6.200000   \n",
       "75%            5.200000                4.000000  ...           9.000000   \n",
       "max            8.600000               52.000000  ...          10.000000   \n",
       "\n",
       "       pain-releiver-frequency  oxycontin-use  tranquilizer-use  \\\n",
       "count                17.000000      17.000000         17.000000   \n",
       "mean                 14.705882       0.935294          2.805882   \n",
       "std                   6.935098       0.608216          1.753379   \n",
       "min                   7.000000       0.000000          0.200000   \n",
       "25%                  12.000000       0.400000          1.400000   \n",
       "50%                  12.000000       1.100000          3.500000   \n",
       "75%                  15.000000       1.400000          4.200000   \n",
       "max                  36.000000       1.700000          5.400000   \n",
       "\n",
       "       tranquilizer-frequency  stimulant-use  stimulant-frequency   meth-use  \\\n",
       "count               17.000000      17.000000            17.000000  17.000000   \n",
       "mean                11.735294       1.917647            31.147059   0.382353   \n",
       "std                 11.485205       1.407673            85.973790   0.262762   \n",
       "min                  4.500000       0.000000             2.000000   0.000000   \n",
       "25%                  6.000000       0.600000             7.000000   0.200000   \n",
       "50%                 10.000000       1.800000            10.000000   0.400000   \n",
       "75%                 11.000000       3.000000            12.000000   0.600000   \n",
       "max                 52.000000       4.100000           364.000000   0.900000   \n",
       "\n",
       "       sedative-use  sedative-frequency  \n",
       "count     17.000000           17.000000  \n",
       "mean       0.282353           19.382353  \n",
       "std        0.138000           24.833527  \n",
       "min        0.000000            3.000000  \n",
       "25%        0.200000            6.500000  \n",
       "50%        0.300000           10.000000  \n",
       "75%        0.400000           17.500000  \n",
       "max        0.500000          104.000000  \n",
       "\n",
       "[8 rows x 21 columns]"
      ]
     },
     "execution_count": 13,
     "metadata": {},
     "output_type": "execute_result"
    }
   ],
   "source": [
    "drug.describe()"
   ]
  },
  {
   "cell_type": "code",
   "execution_count": 14,
   "metadata": {},
   "outputs": [
    {
     "data": {
      "text/plain": [
       "Index(['n', 'alcohol-use', 'alcohol-frequency', 'marijuana-use',\n",
       "       'marijuana-frequency', 'cocaine-use', 'crack-use', 'heroin-use',\n",
       "       'hallucinogen-use', 'hallucinogen-frequency', 'inhalant-use',\n",
       "       'pain-releiver-use', 'pain-releiver-frequency', 'oxycontin-use',\n",
       "       'tranquilizer-use', 'tranquilizer-frequency', 'stimulant-use',\n",
       "       'stimulant-frequency', 'meth-use', 'sedative-use',\n",
       "       'sedative-frequency'],\n",
       "      dtype='object')"
      ]
     },
     "execution_count": 14,
     "metadata": {},
     "output_type": "execute_result"
    }
   ],
   "source": [
    "drug.describe().columns # notice age, "
   ]
  },
  {
   "cell_type": "code",
   "execution_count": 22,
   "metadata": {},
   "outputs": [
    {
     "data": {
      "text/plain": [
       "['age',\n",
       " 'cocaine-frequency',\n",
       " 'crack-frequency',\n",
       " 'heroin-frequency',\n",
       " 'inhalant-frequency',\n",
       " 'oxycontin-frequency',\n",
       " 'meth-frequency']"
      ]
     },
     "execution_count": 22,
     "metadata": {},
     "output_type": "execute_result"
    }
   ],
   "source": [
    "#SALAM it's name \"list comprehension \" you can read about it (our objectve to minmaze the code)\n",
    "# let's check the missing cols in describe!\n",
    "# recall on list comprehension from the python lecture! \n",
    "[x for x in drug.columns if x not in drug.describe().columns]"
   ]
  },
  {
   "cell_type": "markdown",
   "metadata": {},
   "source": [
    "Why the above cols did not appear in the `describe()`?"
   ]
  },
  {
   "cell_type": "markdown",
   "metadata": {},
   "source": [
    "Let's try `.describe()` function on a single column `crack-use`."
   ]
  },
  {
   "cell_type": "code",
   "execution_count": 16,
   "metadata": {
    "nbpresent": {
     "id": "4d3ae9ac-b23b-4c49-9f0a-126c842419e8"
    },
    "slideshow": {
     "slide_type": "fragment"
    }
   },
   "outputs": [
    {
     "data": {
      "text/plain": [
       "count    17.000000\n",
       "mean      0.294118\n",
       "std       0.235772\n",
       "min       0.000000\n",
       "25%       0.000000\n",
       "50%       0.400000\n",
       "75%       0.500000\n",
       "max       0.600000\n",
       "Name: crack-use, dtype: float64"
      ]
     },
     "execution_count": 16,
     "metadata": {},
     "output_type": "execute_result"
    }
   ],
   "source": [
    "drug['crack-use'].describe()"
   ]
  },
  {
   "cell_type": "code",
   "execution_count": 23,
   "metadata": {},
   "outputs": [
    {
     "data": {
      "text/plain": [
       "count      17\n",
       "unique     11\n",
       "top       4.0\n",
       "freq        5\n",
       "Name: inhalant-frequency, dtype: object"
      ]
     },
     "execution_count": 23,
     "metadata": {},
     "output_type": "execute_result"
    }
   ],
   "source": [
    "# try this!\n",
    "drug['inhalant-frequency'].describe()"
   ]
  },
  {
   "cell_type": "markdown",
   "metadata": {
    "nbpresent": {
     "id": "18836c37-de0e-4200-8eb8-3c9084da3b6b"
    },
    "slideshow": {
     "slide_type": "fragment"
    }
   },
   "source": [
    "You can also use it on multiple columns, such as ```crack-use``` and ```alcohol-frequency```."
   ]
  },
  {
   "cell_type": "code",
   "execution_count": 18,
   "metadata": {
    "nbpresent": {
     "id": "59ba0259-fb6c-4bd1-b274-2035540493be"
    }
   },
   "outputs": [
    {
     "data": {
      "text/html": [
       "<div>\n",
       "<style scoped>\n",
       "    .dataframe tbody tr th:only-of-type {\n",
       "        vertical-align: middle;\n",
       "    }\n",
       "\n",
       "    .dataframe tbody tr th {\n",
       "        vertical-align: top;\n",
       "    }\n",
       "\n",
       "    .dataframe thead th {\n",
       "        text-align: right;\n",
       "    }\n",
       "</style>\n",
       "<table border=\"1\" class=\"dataframe\">\n",
       "  <thead>\n",
       "    <tr style=\"text-align: right;\">\n",
       "      <th></th>\n",
       "      <th>crack-use</th>\n",
       "      <th>alcohol-frequency</th>\n",
       "    </tr>\n",
       "  </thead>\n",
       "  <tbody>\n",
       "    <tr>\n",
       "      <th>count</th>\n",
       "      <td>17.000000</td>\n",
       "      <td>17.000000</td>\n",
       "    </tr>\n",
       "    <tr>\n",
       "      <th>mean</th>\n",
       "      <td>0.294118</td>\n",
       "      <td>33.352941</td>\n",
       "    </tr>\n",
       "    <tr>\n",
       "      <th>std</th>\n",
       "      <td>0.235772</td>\n",
       "      <td>21.318833</td>\n",
       "    </tr>\n",
       "    <tr>\n",
       "      <th>min</th>\n",
       "      <td>0.000000</td>\n",
       "      <td>3.000000</td>\n",
       "    </tr>\n",
       "    <tr>\n",
       "      <th>25%</th>\n",
       "      <td>0.000000</td>\n",
       "      <td>10.000000</td>\n",
       "    </tr>\n",
       "    <tr>\n",
       "      <th>50%</th>\n",
       "      <td>0.400000</td>\n",
       "      <td>48.000000</td>\n",
       "    </tr>\n",
       "    <tr>\n",
       "      <th>75%</th>\n",
       "      <td>0.500000</td>\n",
       "      <td>52.000000</td>\n",
       "    </tr>\n",
       "    <tr>\n",
       "      <th>max</th>\n",
       "      <td>0.600000</td>\n",
       "      <td>52.000000</td>\n",
       "    </tr>\n",
       "  </tbody>\n",
       "</table>\n",
       "</div>"
      ],
      "text/plain": [
       "       crack-use  alcohol-frequency\n",
       "count  17.000000          17.000000\n",
       "mean    0.294118          33.352941\n",
       "std     0.235772          21.318833\n",
       "min     0.000000           3.000000\n",
       "25%     0.000000          10.000000\n",
       "50%     0.400000          48.000000\n",
       "75%     0.500000          52.000000\n",
       "max     0.600000          52.000000"
      ]
     },
     "execution_count": 18,
     "metadata": {},
     "output_type": "execute_result"
    }
   ],
   "source": [
    "drug[['crack-use','alcohol-frequency']].describe()"
   ]
  },
  {
   "cell_type": "markdown",
   "metadata": {
    "nbpresent": {
     "id": "969967d8-7094-4960-8c4b-5583fed79648"
    },
    "slideshow": {
     "slide_type": "slide"
    }
   },
   "source": [
    "```.describe()``` gives us the following statistics:\n",
    "\n",
    "- **Count**, which is equivalent to the number of cells (rows).\n",
    "- **Mean**, or, the average of the values in the column.\n",
    "- **Std**, which is the standard deviation.\n",
    "- **Min**, a.k.a., the minimum value.\n",
    "- **25%**, or, the 25th percentile of the values.\n",
    "- **50%**, or, the 50th percentile of the values ( which is the equivalent to the median).\n",
    "- **75%**, or, the 75th percentile of the values.\n",
    "- **Max**, which is the maximum value.\n",
    "\n",
    "<img src=\"https://snag.gy/AH6E8I.jpg\">"
   ]
  },
  {
   "cell_type": "markdown",
   "metadata": {
    "nbpresent": {
     "id": "5bc97eed-d555-4e31-bbd6-d2f7bc26a1d4"
    },
    "slideshow": {
     "slide_type": "slide"
    }
   },
   "source": [
    "There are also built-in math functions that will work on all columns of a DataFrame at once, as well as subsets of the data.\n",
    "\n",
    "For example, I can use the ```.mean()``` function on the ```drug``` DataFrame to get the mean for every column."
   ]
  },
  {
   "cell_type": "code",
   "execution_count": 19,
   "metadata": {
    "nbpresent": {
     "id": "adde643c-6657-4d32-bf3d-4406a9ae3303"
    }
   },
   "outputs": [
    {
     "data": {
      "text/plain": [
       "n                          3251.058824\n",
       "alcohol-use                  55.429412\n",
       "alcohol-frequency            33.352941\n",
       "marijuana-use                18.923529\n",
       "marijuana-frequency          42.941176\n",
       "cocaine-use                   2.176471\n",
       "crack-use                     0.294118\n",
       "heroin-use                    0.352941\n",
       "hallucinogen-use              3.394118\n",
       "hallucinogen-frequency        8.411765\n",
       "inhalant-use                  1.388235\n",
       "pain-releiver-use             6.270588\n",
       "pain-releiver-frequency      14.705882\n",
       "oxycontin-use                 0.935294\n",
       "tranquilizer-use              2.805882\n",
       "tranquilizer-frequency       11.735294\n",
       "stimulant-use                 1.917647\n",
       "stimulant-frequency          31.147059\n",
       "meth-use                      0.382353\n",
       "sedative-use                  0.282353\n",
       "sedative-frequency           19.382353\n",
       "dtype: float64"
      ]
     },
     "execution_count": 19,
     "metadata": {},
     "output_type": "execute_result"
    }
   ],
   "source": [
    "drug.mean()"
   ]
  },
  {
   "cell_type": "markdown",
   "metadata": {
    "slideshow": {
     "slide_type": "slide"
    }
   },
   "source": [
    "<a id='independent_practice'></a>\n",
    "\n",
    "### Independent Practice\n",
    "\n",
    "---\n",
    "\n",
    "Now that we know a little bit about basic DataFrame use, let's practice on a new data set.\n",
    "\n",
    "1. Find and load the `diamonds` data set into a DataFrame (in the `datasets` directory).\n",
    "2. Print out the columns.\n",
    "3. What does the data set look like in terms of dimensions?\n",
    "4. Check the types of each column.\n",
    "  a. What is the most common type?\n",
    "  b. How many entries are there?\n",
    "  c. How much memory does this data set consume?\n",
    "5. Examine the summary statistics of the data set."
   ]
  },
  {
   "cell_type": "code",
   "execution_count": 20,
   "metadata": {
    "slideshow": {
     "slide_type": "fragment"
    }
   },
   "outputs": [],
   "source": [
    "#csv_file = \"../datasets/diamonds/diamonds.csv\"\n",
    "csv_file = \"diamonds.csv\" # SALAM common way to read a file espically if I want to read many file \n",
    "diamonds = pd.read_csv(csv_file)"
   ]
  },
  {
   "cell_type": "markdown",
   "metadata": {
    "nbpresent": {
     "id": "5d655b68-e149-48cf-9739-b2f01fa13b88"
    },
    "slideshow": {
     "slide_type": "slide"
    }
   },
   "source": [
    "<a id='indexing'></a>\n",
    "\n",
    "### `pandas` Indexing \n",
    "\n",
    "---\n",
    "\n",
    "More often than not, we want to operate on or extract specific portions of our data. When we perform indexing on a DataFrame or Series, we can specify a certain section of the data.\n",
    "\n",
    "`pandas` has three properties you can use for indexing:\n",
    "\n",
    "- **`.loc`** indexes with the _labels_ for rows and columns.\n",
    "- **`.iloc`** indexes with the _integer positions_ for rows and columns.\n"
   ]
  },
  {
   "cell_type": "markdown",
   "metadata": {
    "nbpresent": {
     "id": "7b01d33b-a550-4b6c-8a23-f6bcc9b20b13"
    },
    "slideshow": {
     "slide_type": "slide"
    }
   },
   "source": [
    "To help clarify these differences, let's first reset the row labels to letters using the ```.index``` attribute:"
   ]
  },
  {
   "cell_type": "code",
   "execution_count": 21,
   "metadata": {
    "nbpresent": {
     "id": "4162fb31-3624-4996-b1ec-a7a7eb23c5e5"
    },
    "slideshow": {
     "slide_type": "-"
    }
   },
   "outputs": [],
   "source": [
    "new_index_values = ['A','B','C','D','E','F','G','H','I','J','K','L','M','N','O','P','Q']\n",
    "drug.index=new_index_values"
   ]
  },
  {
   "cell_type": "code",
   "execution_count": 22,
   "metadata": {
    "nbpresent": {
     "id": "ca418139-0ea6-461f-8a78-fb9f1bbdbbe3"
    },
    "slideshow": {
     "slide_type": "fragment"
    }
   },
   "outputs": [
    {
     "data": {
      "text/html": [
       "<div>\n",
       "<style scoped>\n",
       "    .dataframe tbody tr th:only-of-type {\n",
       "        vertical-align: middle;\n",
       "    }\n",
       "\n",
       "    .dataframe tbody tr th {\n",
       "        vertical-align: top;\n",
       "    }\n",
       "\n",
       "    .dataframe thead th {\n",
       "        text-align: right;\n",
       "    }\n",
       "</style>\n",
       "<table border=\"1\" class=\"dataframe\">\n",
       "  <thead>\n",
       "    <tr style=\"text-align: right;\">\n",
       "      <th></th>\n",
       "      <th>age</th>\n",
       "      <th>n</th>\n",
       "      <th>alcohol-use</th>\n",
       "      <th>alcohol-frequency</th>\n",
       "      <th>marijuana-use</th>\n",
       "      <th>marijuana-frequency</th>\n",
       "      <th>cocaine-use</th>\n",
       "      <th>cocaine-frequency</th>\n",
       "      <th>crack-use</th>\n",
       "      <th>crack-frequency</th>\n",
       "      <th>...</th>\n",
       "      <th>oxycontin-use</th>\n",
       "      <th>oxycontin-frequency</th>\n",
       "      <th>tranquilizer-use</th>\n",
       "      <th>tranquilizer-frequency</th>\n",
       "      <th>stimulant-use</th>\n",
       "      <th>stimulant-frequency</th>\n",
       "      <th>meth-use</th>\n",
       "      <th>meth-frequency</th>\n",
       "      <th>sedative-use</th>\n",
       "      <th>sedative-frequency</th>\n",
       "    </tr>\n",
       "  </thead>\n",
       "  <tbody>\n",
       "    <tr>\n",
       "      <th>A</th>\n",
       "      <td>12</td>\n",
       "      <td>2798</td>\n",
       "      <td>3.9</td>\n",
       "      <td>3.0</td>\n",
       "      <td>1.1</td>\n",
       "      <td>4.0</td>\n",
       "      <td>0.1</td>\n",
       "      <td>5.0</td>\n",
       "      <td>0.0</td>\n",
       "      <td>-</td>\n",
       "      <td>...</td>\n",
       "      <td>0.1</td>\n",
       "      <td>24.5</td>\n",
       "      <td>0.2</td>\n",
       "      <td>52.0</td>\n",
       "      <td>0.2</td>\n",
       "      <td>2.0</td>\n",
       "      <td>0.0</td>\n",
       "      <td>-</td>\n",
       "      <td>0.2</td>\n",
       "      <td>13.0</td>\n",
       "    </tr>\n",
       "    <tr>\n",
       "      <th>B</th>\n",
       "      <td>13</td>\n",
       "      <td>2757</td>\n",
       "      <td>8.5</td>\n",
       "      <td>6.0</td>\n",
       "      <td>3.4</td>\n",
       "      <td>15.0</td>\n",
       "      <td>0.1</td>\n",
       "      <td>1.0</td>\n",
       "      <td>0.0</td>\n",
       "      <td>3.0</td>\n",
       "      <td>...</td>\n",
       "      <td>0.1</td>\n",
       "      <td>41.0</td>\n",
       "      <td>0.3</td>\n",
       "      <td>25.5</td>\n",
       "      <td>0.3</td>\n",
       "      <td>4.0</td>\n",
       "      <td>0.1</td>\n",
       "      <td>5.0</td>\n",
       "      <td>0.1</td>\n",
       "      <td>19.0</td>\n",
       "    </tr>\n",
       "    <tr>\n",
       "      <th>C</th>\n",
       "      <td>14</td>\n",
       "      <td>2792</td>\n",
       "      <td>18.1</td>\n",
       "      <td>5.0</td>\n",
       "      <td>8.7</td>\n",
       "      <td>24.0</td>\n",
       "      <td>0.1</td>\n",
       "      <td>5.5</td>\n",
       "      <td>0.0</td>\n",
       "      <td>-</td>\n",
       "      <td>...</td>\n",
       "      <td>0.4</td>\n",
       "      <td>4.5</td>\n",
       "      <td>0.9</td>\n",
       "      <td>5.0</td>\n",
       "      <td>0.8</td>\n",
       "      <td>12.0</td>\n",
       "      <td>0.1</td>\n",
       "      <td>24.0</td>\n",
       "      <td>0.2</td>\n",
       "      <td>16.5</td>\n",
       "    </tr>\n",
       "    <tr>\n",
       "      <th>D</th>\n",
       "      <td>15</td>\n",
       "      <td>2956</td>\n",
       "      <td>29.2</td>\n",
       "      <td>6.0</td>\n",
       "      <td>14.5</td>\n",
       "      <td>25.0</td>\n",
       "      <td>0.5</td>\n",
       "      <td>4.0</td>\n",
       "      <td>0.1</td>\n",
       "      <td>9.5</td>\n",
       "      <td>...</td>\n",
       "      <td>0.8</td>\n",
       "      <td>3.0</td>\n",
       "      <td>2.0</td>\n",
       "      <td>4.5</td>\n",
       "      <td>1.5</td>\n",
       "      <td>6.0</td>\n",
       "      <td>0.3</td>\n",
       "      <td>10.5</td>\n",
       "      <td>0.4</td>\n",
       "      <td>30.0</td>\n",
       "    </tr>\n",
       "    <tr>\n",
       "      <th>E</th>\n",
       "      <td>16</td>\n",
       "      <td>3058</td>\n",
       "      <td>40.1</td>\n",
       "      <td>10.0</td>\n",
       "      <td>22.5</td>\n",
       "      <td>30.0</td>\n",
       "      <td>1.0</td>\n",
       "      <td>7.0</td>\n",
       "      <td>0.0</td>\n",
       "      <td>1.0</td>\n",
       "      <td>...</td>\n",
       "      <td>1.1</td>\n",
       "      <td>4.0</td>\n",
       "      <td>2.4</td>\n",
       "      <td>11.0</td>\n",
       "      <td>1.8</td>\n",
       "      <td>9.5</td>\n",
       "      <td>0.3</td>\n",
       "      <td>36.0</td>\n",
       "      <td>0.2</td>\n",
       "      <td>3.0</td>\n",
       "    </tr>\n",
       "  </tbody>\n",
       "</table>\n",
       "<p>5 rows × 28 columns</p>\n",
       "</div>"
      ],
      "text/plain": [
       "  age     n  alcohol-use  alcohol-frequency  marijuana-use  \\\n",
       "A  12  2798          3.9                3.0            1.1   \n",
       "B  13  2757          8.5                6.0            3.4   \n",
       "C  14  2792         18.1                5.0            8.7   \n",
       "D  15  2956         29.2                6.0           14.5   \n",
       "E  16  3058         40.1               10.0           22.5   \n",
       "\n",
       "   marijuana-frequency  cocaine-use cocaine-frequency  crack-use  \\\n",
       "A                  4.0          0.1               5.0        0.0   \n",
       "B                 15.0          0.1               1.0        0.0   \n",
       "C                 24.0          0.1               5.5        0.0   \n",
       "D                 25.0          0.5               4.0        0.1   \n",
       "E                 30.0          1.0               7.0        0.0   \n",
       "\n",
       "  crack-frequency  ...  oxycontin-use oxycontin-frequency  tranquilizer-use  \\\n",
       "A               -  ...            0.1                24.5               0.2   \n",
       "B             3.0  ...            0.1                41.0               0.3   \n",
       "C               -  ...            0.4                 4.5               0.9   \n",
       "D             9.5  ...            0.8                 3.0               2.0   \n",
       "E             1.0  ...            1.1                 4.0               2.4   \n",
       "\n",
       "   tranquilizer-frequency  stimulant-use stimulant-frequency  meth-use  \\\n",
       "A                    52.0            0.2                 2.0       0.0   \n",
       "B                    25.5            0.3                 4.0       0.1   \n",
       "C                     5.0            0.8                12.0       0.1   \n",
       "D                     4.5            1.5                 6.0       0.3   \n",
       "E                    11.0            1.8                 9.5       0.3   \n",
       "\n",
       "   meth-frequency  sedative-use sedative-frequency  \n",
       "A               -           0.2               13.0  \n",
       "B             5.0           0.1               19.0  \n",
       "C            24.0           0.2               16.5  \n",
       "D            10.5           0.4               30.0  \n",
       "E            36.0           0.2                3.0  \n",
       "\n",
       "[5 rows x 28 columns]"
      ]
     },
     "execution_count": 22,
     "metadata": {},
     "output_type": "execute_result"
    }
   ],
   "source": [
    "drug.head()"
   ]
  },
  {
   "cell_type": "markdown",
   "metadata": {
    "nbpresent": {
     "id": "956f0a2a-51b8-4910-b220-3aa00d8e3848"
    },
    "slideshow": {
     "slide_type": "slide"
    }
   },
   "source": [
    "Using the **`.loc`** indexer, we can pull out rows **B through F** and the **`marijuana-use` and `marijuana-frequency`** columns."
   ]
  },
  {
   "cell_type": "code",
   "execution_count": 23,
   "metadata": {
    "nbpresent": {
     "id": "a59893a2-95e8-41cc-b5d9-e0a1fe0800d8"
    }
   },
   "outputs": [],
   "source": [
    "subset = drug.loc[['B','C','D','E','F'], ['marijuana-use','marijuana-frequency']] #SALAM pass only 5 rows name and 2 cloulme "
   ]
  },
  {
   "cell_type": "code",
   "execution_count": 24,
   "metadata": {
    "nbpresent": {
     "id": "dc4ccdda-2932-48c7-a7d7-1f1b1f30826c"
    }
   },
   "outputs": [
    {
     "data": {
      "text/html": [
       "<div>\n",
       "<style scoped>\n",
       "    .dataframe tbody tr th:only-of-type {\n",
       "        vertical-align: middle;\n",
       "    }\n",
       "\n",
       "    .dataframe tbody tr th {\n",
       "        vertical-align: top;\n",
       "    }\n",
       "\n",
       "    .dataframe thead th {\n",
       "        text-align: right;\n",
       "    }\n",
       "</style>\n",
       "<table border=\"1\" class=\"dataframe\">\n",
       "  <thead>\n",
       "    <tr style=\"text-align: right;\">\n",
       "      <th></th>\n",
       "      <th>marijuana-use</th>\n",
       "      <th>marijuana-frequency</th>\n",
       "    </tr>\n",
       "  </thead>\n",
       "  <tbody>\n",
       "    <tr>\n",
       "      <th>B</th>\n",
       "      <td>3.4</td>\n",
       "      <td>15.0</td>\n",
       "    </tr>\n",
       "    <tr>\n",
       "      <th>C</th>\n",
       "      <td>8.7</td>\n",
       "      <td>24.0</td>\n",
       "    </tr>\n",
       "    <tr>\n",
       "      <th>D</th>\n",
       "      <td>14.5</td>\n",
       "      <td>25.0</td>\n",
       "    </tr>\n",
       "    <tr>\n",
       "      <th>E</th>\n",
       "      <td>22.5</td>\n",
       "      <td>30.0</td>\n",
       "    </tr>\n",
       "    <tr>\n",
       "      <th>F</th>\n",
       "      <td>28.0</td>\n",
       "      <td>36.0</td>\n",
       "    </tr>\n",
       "  </tbody>\n",
       "</table>\n",
       "</div>"
      ],
      "text/plain": [
       "   marijuana-use  marijuana-frequency\n",
       "B            3.4                 15.0\n",
       "C            8.7                 24.0\n",
       "D           14.5                 25.0\n",
       "E           22.5                 30.0\n",
       "F           28.0                 36.0"
      ]
     },
     "execution_count": 24,
     "metadata": {},
     "output_type": "execute_result"
    }
   ],
   "source": [
    "subset"
   ]
  },
  {
   "cell_type": "markdown",
   "metadata": {
    "nbpresent": {
     "id": "f11ab893-74b1-4e2d-bdd9-0c9ed30df508"
    },
    "slideshow": {
     "slide_type": "slide"
    }
   },
   "source": [
    "We can do the same thing with the **`.iloc`** indexer, but we have to use **integers for the location**."
   ]
  },
  {
   "cell_type": "code",
   "execution_count": 25,
   "metadata": {
    "nbpresent": {
     "id": "569889dd-4d0c-4286-91d0-36aff19306cd"
    }
   },
   "outputs": [],
   "source": [
    "subset = drug.iloc[[1,2,3,4,5], [4,5]] # SALAM using index location not name (it usful to crap a part of DF )"
   ]
  },
  {
   "cell_type": "code",
   "execution_count": 26,
   "metadata": {
    "nbpresent": {
     "id": "2c2199b3-4aef-415b-b449-b7d18027bd4c"
    }
   },
   "outputs": [
    {
     "data": {
      "text/html": [
       "<div>\n",
       "<style scoped>\n",
       "    .dataframe tbody tr th:only-of-type {\n",
       "        vertical-align: middle;\n",
       "    }\n",
       "\n",
       "    .dataframe tbody tr th {\n",
       "        vertical-align: top;\n",
       "    }\n",
       "\n",
       "    .dataframe thead th {\n",
       "        text-align: right;\n",
       "    }\n",
       "</style>\n",
       "<table border=\"1\" class=\"dataframe\">\n",
       "  <thead>\n",
       "    <tr style=\"text-align: right;\">\n",
       "      <th></th>\n",
       "      <th>marijuana-use</th>\n",
       "      <th>marijuana-frequency</th>\n",
       "    </tr>\n",
       "  </thead>\n",
       "  <tbody>\n",
       "    <tr>\n",
       "      <th>B</th>\n",
       "      <td>3.4</td>\n",
       "      <td>15.0</td>\n",
       "    </tr>\n",
       "    <tr>\n",
       "      <th>C</th>\n",
       "      <td>8.7</td>\n",
       "      <td>24.0</td>\n",
       "    </tr>\n",
       "    <tr>\n",
       "      <th>D</th>\n",
       "      <td>14.5</td>\n",
       "      <td>25.0</td>\n",
       "    </tr>\n",
       "    <tr>\n",
       "      <th>E</th>\n",
       "      <td>22.5</td>\n",
       "      <td>30.0</td>\n",
       "    </tr>\n",
       "    <tr>\n",
       "      <th>F</th>\n",
       "      <td>28.0</td>\n",
       "      <td>36.0</td>\n",
       "    </tr>\n",
       "  </tbody>\n",
       "</table>\n",
       "</div>"
      ],
      "text/plain": [
       "   marijuana-use  marijuana-frequency\n",
       "B            3.4                 15.0\n",
       "C            8.7                 24.0\n",
       "D           14.5                 25.0\n",
       "E           22.5                 30.0\n",
       "F           28.0                 36.0"
      ]
     },
     "execution_count": 26,
     "metadata": {},
     "output_type": "execute_result"
    }
   ],
   "source": [
    "subset"
   ]
  },
  {
   "cell_type": "code",
   "execution_count": 25,
   "metadata": {},
   "outputs": [],
   "source": [
    "# try \n",
    "#drug.iloc[[3,5], [6,7]]"
   ]
  },
  {
   "cell_type": "markdown",
   "metadata": {
    "nbpresent": {
     "id": "a54d822b-89ae-4a54-924c-edc201b2a0e9"
    },
    "slideshow": {
     "slide_type": "fragment"
    }
   },
   "source": [
    "If you try to index the rows or columns with integers using **`.loc`**, you will get an error."
   ]
  },
  {
   "cell_type": "code",
   "execution_count": 28,
   "metadata": {
    "nbpresent": {
     "id": "c43c0432-35b9-425b-96ba-14019a451501"
    }
   },
   "outputs": [],
   "source": [
    "#subset.loc[0,:]"
   ]
  },
  {
   "cell_type": "markdown",
   "metadata": {
    "nbpresent": {
     "id": "1cfa2f3c-b792-4b5b-95a7-4bc6d2298ca6"
    },
    "slideshow": {
     "slide_type": "slide"
    }
   },
   "source": [
    "Note that you can  reorder the columns just by **reordering the indices** you enter when you perform the indexing operation!"
   ]
  },
  {
   "cell_type": "code",
   "execution_count": 29,
   "metadata": {
    "nbpresent": {
     "id": "f97deb4c-fe65-4ebf-9e59-bee182aede55"
    }
   },
   "outputs": [
    {
     "data": {
      "text/html": [
       "<div>\n",
       "<style scoped>\n",
       "    .dataframe tbody tr th:only-of-type {\n",
       "        vertical-align: middle;\n",
       "    }\n",
       "\n",
       "    .dataframe tbody tr th {\n",
       "        vertical-align: top;\n",
       "    }\n",
       "\n",
       "    .dataframe thead th {\n",
       "        text-align: right;\n",
       "    }\n",
       "</style>\n",
       "<table border=\"1\" class=\"dataframe\">\n",
       "  <thead>\n",
       "    <tr style=\"text-align: right;\">\n",
       "      <th></th>\n",
       "      <th>marijuana-frequency</th>\n",
       "      <th>marijuana-use</th>\n",
       "    </tr>\n",
       "  </thead>\n",
       "  <tbody>\n",
       "    <tr>\n",
       "      <th>B</th>\n",
       "      <td>15.0</td>\n",
       "      <td>3.4</td>\n",
       "    </tr>\n",
       "    <tr>\n",
       "      <th>C</th>\n",
       "      <td>24.0</td>\n",
       "      <td>8.7</td>\n",
       "    </tr>\n",
       "    <tr>\n",
       "      <th>D</th>\n",
       "      <td>25.0</td>\n",
       "      <td>14.5</td>\n",
       "    </tr>\n",
       "    <tr>\n",
       "      <th>E</th>\n",
       "      <td>30.0</td>\n",
       "      <td>22.5</td>\n",
       "    </tr>\n",
       "    <tr>\n",
       "      <th>F</th>\n",
       "      <td>36.0</td>\n",
       "      <td>28.0</td>\n",
       "    </tr>\n",
       "  </tbody>\n",
       "</table>\n",
       "</div>"
      ],
      "text/plain": [
       "   marijuana-frequency  marijuana-use\n",
       "B                 15.0            3.4\n",
       "C                 24.0            8.7\n",
       "D                 25.0           14.5\n",
       "E                 30.0           22.5\n",
       "F                 36.0           28.0"
      ]
     },
     "execution_count": 29,
     "metadata": {},
     "output_type": "execute_result"
    }
   ],
   "source": [
    "subset.iloc[:, [1,0]]"
   ]
  },
  {
   "cell_type": "code",
   "execution_count": 30,
   "metadata": {
    "nbpresent": {
     "id": "a9ef2740-4a11-4f8c-9d14-8656935ec3fd"
    }
   },
   "outputs": [
    {
     "data": {
      "text/html": [
       "<div>\n",
       "<style scoped>\n",
       "    .dataframe tbody tr th:only-of-type {\n",
       "        vertical-align: middle;\n",
       "    }\n",
       "\n",
       "    .dataframe tbody tr th {\n",
       "        vertical-align: top;\n",
       "    }\n",
       "\n",
       "    .dataframe thead th {\n",
       "        text-align: right;\n",
       "    }\n",
       "</style>\n",
       "<table border=\"1\" class=\"dataframe\">\n",
       "  <thead>\n",
       "    <tr style=\"text-align: right;\">\n",
       "      <th></th>\n",
       "      <th>marijuana-use</th>\n",
       "      <th>marijuana-frequency</th>\n",
       "    </tr>\n",
       "  </thead>\n",
       "  <tbody>\n",
       "    <tr>\n",
       "      <th>B</th>\n",
       "      <td>3.4</td>\n",
       "      <td>15.0</td>\n",
       "    </tr>\n",
       "    <tr>\n",
       "      <th>C</th>\n",
       "      <td>8.7</td>\n",
       "      <td>24.0</td>\n",
       "    </tr>\n",
       "    <tr>\n",
       "      <th>D</th>\n",
       "      <td>14.5</td>\n",
       "      <td>25.0</td>\n",
       "    </tr>\n",
       "    <tr>\n",
       "      <th>E</th>\n",
       "      <td>22.5</td>\n",
       "      <td>30.0</td>\n",
       "    </tr>\n",
       "    <tr>\n",
       "      <th>F</th>\n",
       "      <td>28.0</td>\n",
       "      <td>36.0</td>\n",
       "    </tr>\n",
       "  </tbody>\n",
       "</table>\n",
       "</div>"
      ],
      "text/plain": [
       "   marijuana-use  marijuana-frequency\n",
       "B            3.4                 15.0\n",
       "C            8.7                 24.0\n",
       "D           14.5                 25.0\n",
       "E           22.5                 30.0\n",
       "F           28.0                 36.0"
      ]
     },
     "execution_count": 30,
     "metadata": {},
     "output_type": "execute_result"
    }
   ],
   "source": [
    "subset"
   ]
  },
  {
   "cell_type": "markdown",
   "metadata": {},
   "source": [
    "While we created an index earlier, **we can also use a column to set an index.**"
   ]
  },
  {
   "cell_type": "code",
   "execution_count": 31,
   "metadata": {},
   "outputs": [
    {
     "data": {
      "text/html": [
       "<div>\n",
       "<style scoped>\n",
       "    .dataframe tbody tr th:only-of-type {\n",
       "        vertical-align: middle;\n",
       "    }\n",
       "\n",
       "    .dataframe tbody tr th {\n",
       "        vertical-align: top;\n",
       "    }\n",
       "\n",
       "    .dataframe thead th {\n",
       "        text-align: right;\n",
       "    }\n",
       "</style>\n",
       "<table border=\"1\" class=\"dataframe\">\n",
       "  <thead>\n",
       "    <tr style=\"text-align: right;\">\n",
       "      <th></th>\n",
       "      <th>age</th>\n",
       "      <th>n</th>\n",
       "      <th>alcohol-use</th>\n",
       "      <th>alcohol-frequency</th>\n",
       "      <th>marijuana-use</th>\n",
       "      <th>marijuana-frequency</th>\n",
       "      <th>cocaine-use</th>\n",
       "      <th>cocaine-frequency</th>\n",
       "      <th>crack-use</th>\n",
       "      <th>crack-frequency</th>\n",
       "      <th>...</th>\n",
       "      <th>oxycontin-use</th>\n",
       "      <th>oxycontin-frequency</th>\n",
       "      <th>tranquilizer-use</th>\n",
       "      <th>tranquilizer-frequency</th>\n",
       "      <th>stimulant-use</th>\n",
       "      <th>stimulant-frequency</th>\n",
       "      <th>meth-use</th>\n",
       "      <th>meth-frequency</th>\n",
       "      <th>sedative-use</th>\n",
       "      <th>sedative-frequency</th>\n",
       "    </tr>\n",
       "    <tr>\n",
       "      <th>age</th>\n",
       "      <th></th>\n",
       "      <th></th>\n",
       "      <th></th>\n",
       "      <th></th>\n",
       "      <th></th>\n",
       "      <th></th>\n",
       "      <th></th>\n",
       "      <th></th>\n",
       "      <th></th>\n",
       "      <th></th>\n",
       "      <th></th>\n",
       "      <th></th>\n",
       "      <th></th>\n",
       "      <th></th>\n",
       "      <th></th>\n",
       "      <th></th>\n",
       "      <th></th>\n",
       "      <th></th>\n",
       "      <th></th>\n",
       "      <th></th>\n",
       "      <th></th>\n",
       "    </tr>\n",
       "  </thead>\n",
       "  <tbody>\n",
       "    <tr>\n",
       "      <th>12</th>\n",
       "      <td>12</td>\n",
       "      <td>2798</td>\n",
       "      <td>3.9</td>\n",
       "      <td>3.0</td>\n",
       "      <td>1.1</td>\n",
       "      <td>4.0</td>\n",
       "      <td>0.1</td>\n",
       "      <td>5.0</td>\n",
       "      <td>0.0</td>\n",
       "      <td>-</td>\n",
       "      <td>...</td>\n",
       "      <td>0.1</td>\n",
       "      <td>24.5</td>\n",
       "      <td>0.2</td>\n",
       "      <td>52.0</td>\n",
       "      <td>0.2</td>\n",
       "      <td>2.0</td>\n",
       "      <td>0.0</td>\n",
       "      <td>-</td>\n",
       "      <td>0.2</td>\n",
       "      <td>13.0</td>\n",
       "    </tr>\n",
       "    <tr>\n",
       "      <th>13</th>\n",
       "      <td>13</td>\n",
       "      <td>2757</td>\n",
       "      <td>8.5</td>\n",
       "      <td>6.0</td>\n",
       "      <td>3.4</td>\n",
       "      <td>15.0</td>\n",
       "      <td>0.1</td>\n",
       "      <td>1.0</td>\n",
       "      <td>0.0</td>\n",
       "      <td>3.0</td>\n",
       "      <td>...</td>\n",
       "      <td>0.1</td>\n",
       "      <td>41.0</td>\n",
       "      <td>0.3</td>\n",
       "      <td>25.5</td>\n",
       "      <td>0.3</td>\n",
       "      <td>4.0</td>\n",
       "      <td>0.1</td>\n",
       "      <td>5.0</td>\n",
       "      <td>0.1</td>\n",
       "      <td>19.0</td>\n",
       "    </tr>\n",
       "    <tr>\n",
       "      <th>14</th>\n",
       "      <td>14</td>\n",
       "      <td>2792</td>\n",
       "      <td>18.1</td>\n",
       "      <td>5.0</td>\n",
       "      <td>8.7</td>\n",
       "      <td>24.0</td>\n",
       "      <td>0.1</td>\n",
       "      <td>5.5</td>\n",
       "      <td>0.0</td>\n",
       "      <td>-</td>\n",
       "      <td>...</td>\n",
       "      <td>0.4</td>\n",
       "      <td>4.5</td>\n",
       "      <td>0.9</td>\n",
       "      <td>5.0</td>\n",
       "      <td>0.8</td>\n",
       "      <td>12.0</td>\n",
       "      <td>0.1</td>\n",
       "      <td>24.0</td>\n",
       "      <td>0.2</td>\n",
       "      <td>16.5</td>\n",
       "    </tr>\n",
       "    <tr>\n",
       "      <th>15</th>\n",
       "      <td>15</td>\n",
       "      <td>2956</td>\n",
       "      <td>29.2</td>\n",
       "      <td>6.0</td>\n",
       "      <td>14.5</td>\n",
       "      <td>25.0</td>\n",
       "      <td>0.5</td>\n",
       "      <td>4.0</td>\n",
       "      <td>0.1</td>\n",
       "      <td>9.5</td>\n",
       "      <td>...</td>\n",
       "      <td>0.8</td>\n",
       "      <td>3.0</td>\n",
       "      <td>2.0</td>\n",
       "      <td>4.5</td>\n",
       "      <td>1.5</td>\n",
       "      <td>6.0</td>\n",
       "      <td>0.3</td>\n",
       "      <td>10.5</td>\n",
       "      <td>0.4</td>\n",
       "      <td>30.0</td>\n",
       "    </tr>\n",
       "    <tr>\n",
       "      <th>16</th>\n",
       "      <td>16</td>\n",
       "      <td>3058</td>\n",
       "      <td>40.1</td>\n",
       "      <td>10.0</td>\n",
       "      <td>22.5</td>\n",
       "      <td>30.0</td>\n",
       "      <td>1.0</td>\n",
       "      <td>7.0</td>\n",
       "      <td>0.0</td>\n",
       "      <td>1.0</td>\n",
       "      <td>...</td>\n",
       "      <td>1.1</td>\n",
       "      <td>4.0</td>\n",
       "      <td>2.4</td>\n",
       "      <td>11.0</td>\n",
       "      <td>1.8</td>\n",
       "      <td>9.5</td>\n",
       "      <td>0.3</td>\n",
       "      <td>36.0</td>\n",
       "      <td>0.2</td>\n",
       "      <td>3.0</td>\n",
       "    </tr>\n",
       "  </tbody>\n",
       "</table>\n",
       "<p>5 rows × 28 columns</p>\n",
       "</div>"
      ],
      "text/plain": [
       "    age     n  alcohol-use  alcohol-frequency  marijuana-use  \\\n",
       "age                                                            \n",
       "12   12  2798          3.9                3.0            1.1   \n",
       "13   13  2757          8.5                6.0            3.4   \n",
       "14   14  2792         18.1                5.0            8.7   \n",
       "15   15  2956         29.2                6.0           14.5   \n",
       "16   16  3058         40.1               10.0           22.5   \n",
       "\n",
       "     marijuana-frequency  cocaine-use cocaine-frequency  crack-use  \\\n",
       "age                                                                  \n",
       "12                   4.0          0.1               5.0        0.0   \n",
       "13                  15.0          0.1               1.0        0.0   \n",
       "14                  24.0          0.1               5.5        0.0   \n",
       "15                  25.0          0.5               4.0        0.1   \n",
       "16                  30.0          1.0               7.0        0.0   \n",
       "\n",
       "    crack-frequency  ...  oxycontin-use oxycontin-frequency  tranquilizer-use  \\\n",
       "age                  ...                                                        \n",
       "12                -  ...            0.1                24.5               0.2   \n",
       "13              3.0  ...            0.1                41.0               0.3   \n",
       "14                -  ...            0.4                 4.5               0.9   \n",
       "15              9.5  ...            0.8                 3.0               2.0   \n",
       "16              1.0  ...            1.1                 4.0               2.4   \n",
       "\n",
       "     tranquilizer-frequency  stimulant-use stimulant-frequency  meth-use  \\\n",
       "age                                                                        \n",
       "12                     52.0            0.2                 2.0       0.0   \n",
       "13                     25.5            0.3                 4.0       0.1   \n",
       "14                      5.0            0.8                12.0       0.1   \n",
       "15                      4.5            1.5                 6.0       0.3   \n",
       "16                     11.0            1.8                 9.5       0.3   \n",
       "\n",
       "     meth-frequency  sedative-use sedative-frequency  \n",
       "age                                                   \n",
       "12                -           0.2               13.0  \n",
       "13              5.0           0.1               19.0  \n",
       "14             24.0           0.2               16.5  \n",
       "15             10.5           0.4               30.0  \n",
       "16             36.0           0.2                3.0  \n",
       "\n",
       "[5 rows x 28 columns]"
      ]
     },
     "execution_count": 31,
     "metadata": {},
     "output_type": "execute_result"
    }
   ],
   "source": [
    "drug.index = drug['age'] #SALAM change index like you want put id is the index\n",
    "\n",
    "drug.head()"
   ]
  },
  {
   "cell_type": "markdown",
   "metadata": {},
   "source": [
    "Is age the best feature to use as an index?  \n",
    "\n",
    "If it isn't we can use the `df.reset_index()` to reset our index."
   ]
  },
  {
   "cell_type": "code",
   "execution_count": 32,
   "metadata": {},
   "outputs": [
    {
     "data": {
      "text/html": [
       "<div>\n",
       "<style scoped>\n",
       "    .dataframe tbody tr th:only-of-type {\n",
       "        vertical-align: middle;\n",
       "    }\n",
       "\n",
       "    .dataframe tbody tr th {\n",
       "        vertical-align: top;\n",
       "    }\n",
       "\n",
       "    .dataframe thead th {\n",
       "        text-align: right;\n",
       "    }\n",
       "</style>\n",
       "<table border=\"1\" class=\"dataframe\">\n",
       "  <thead>\n",
       "    <tr style=\"text-align: right;\">\n",
       "      <th></th>\n",
       "      <th>age</th>\n",
       "      <th>n</th>\n",
       "      <th>alcohol-use</th>\n",
       "      <th>alcohol-frequency</th>\n",
       "      <th>marijuana-use</th>\n",
       "      <th>marijuana-frequency</th>\n",
       "      <th>cocaine-use</th>\n",
       "      <th>cocaine-frequency</th>\n",
       "      <th>crack-use</th>\n",
       "      <th>crack-frequency</th>\n",
       "      <th>...</th>\n",
       "      <th>oxycontin-use</th>\n",
       "      <th>oxycontin-frequency</th>\n",
       "      <th>tranquilizer-use</th>\n",
       "      <th>tranquilizer-frequency</th>\n",
       "      <th>stimulant-use</th>\n",
       "      <th>stimulant-frequency</th>\n",
       "      <th>meth-use</th>\n",
       "      <th>meth-frequency</th>\n",
       "      <th>sedative-use</th>\n",
       "      <th>sedative-frequency</th>\n",
       "    </tr>\n",
       "  </thead>\n",
       "  <tbody>\n",
       "    <tr>\n",
       "      <th>0</th>\n",
       "      <td>12</td>\n",
       "      <td>2798</td>\n",
       "      <td>3.9</td>\n",
       "      <td>3.0</td>\n",
       "      <td>1.1</td>\n",
       "      <td>4.0</td>\n",
       "      <td>0.1</td>\n",
       "      <td>5.0</td>\n",
       "      <td>0.0</td>\n",
       "      <td>-</td>\n",
       "      <td>...</td>\n",
       "      <td>0.1</td>\n",
       "      <td>24.5</td>\n",
       "      <td>0.2</td>\n",
       "      <td>52.0</td>\n",
       "      <td>0.2</td>\n",
       "      <td>2.0</td>\n",
       "      <td>0.0</td>\n",
       "      <td>-</td>\n",
       "      <td>0.2</td>\n",
       "      <td>13.0</td>\n",
       "    </tr>\n",
       "    <tr>\n",
       "      <th>1</th>\n",
       "      <td>13</td>\n",
       "      <td>2757</td>\n",
       "      <td>8.5</td>\n",
       "      <td>6.0</td>\n",
       "      <td>3.4</td>\n",
       "      <td>15.0</td>\n",
       "      <td>0.1</td>\n",
       "      <td>1.0</td>\n",
       "      <td>0.0</td>\n",
       "      <td>3.0</td>\n",
       "      <td>...</td>\n",
       "      <td>0.1</td>\n",
       "      <td>41.0</td>\n",
       "      <td>0.3</td>\n",
       "      <td>25.5</td>\n",
       "      <td>0.3</td>\n",
       "      <td>4.0</td>\n",
       "      <td>0.1</td>\n",
       "      <td>5.0</td>\n",
       "      <td>0.1</td>\n",
       "      <td>19.0</td>\n",
       "    </tr>\n",
       "    <tr>\n",
       "      <th>2</th>\n",
       "      <td>14</td>\n",
       "      <td>2792</td>\n",
       "      <td>18.1</td>\n",
       "      <td>5.0</td>\n",
       "      <td>8.7</td>\n",
       "      <td>24.0</td>\n",
       "      <td>0.1</td>\n",
       "      <td>5.5</td>\n",
       "      <td>0.0</td>\n",
       "      <td>-</td>\n",
       "      <td>...</td>\n",
       "      <td>0.4</td>\n",
       "      <td>4.5</td>\n",
       "      <td>0.9</td>\n",
       "      <td>5.0</td>\n",
       "      <td>0.8</td>\n",
       "      <td>12.0</td>\n",
       "      <td>0.1</td>\n",
       "      <td>24.0</td>\n",
       "      <td>0.2</td>\n",
       "      <td>16.5</td>\n",
       "    </tr>\n",
       "    <tr>\n",
       "      <th>3</th>\n",
       "      <td>15</td>\n",
       "      <td>2956</td>\n",
       "      <td>29.2</td>\n",
       "      <td>6.0</td>\n",
       "      <td>14.5</td>\n",
       "      <td>25.0</td>\n",
       "      <td>0.5</td>\n",
       "      <td>4.0</td>\n",
       "      <td>0.1</td>\n",
       "      <td>9.5</td>\n",
       "      <td>...</td>\n",
       "      <td>0.8</td>\n",
       "      <td>3.0</td>\n",
       "      <td>2.0</td>\n",
       "      <td>4.5</td>\n",
       "      <td>1.5</td>\n",
       "      <td>6.0</td>\n",
       "      <td>0.3</td>\n",
       "      <td>10.5</td>\n",
       "      <td>0.4</td>\n",
       "      <td>30.0</td>\n",
       "    </tr>\n",
       "    <tr>\n",
       "      <th>4</th>\n",
       "      <td>16</td>\n",
       "      <td>3058</td>\n",
       "      <td>40.1</td>\n",
       "      <td>10.0</td>\n",
       "      <td>22.5</td>\n",
       "      <td>30.0</td>\n",
       "      <td>1.0</td>\n",
       "      <td>7.0</td>\n",
       "      <td>0.0</td>\n",
       "      <td>1.0</td>\n",
       "      <td>...</td>\n",
       "      <td>1.1</td>\n",
       "      <td>4.0</td>\n",
       "      <td>2.4</td>\n",
       "      <td>11.0</td>\n",
       "      <td>1.8</td>\n",
       "      <td>9.5</td>\n",
       "      <td>0.3</td>\n",
       "      <td>36.0</td>\n",
       "      <td>0.2</td>\n",
       "      <td>3.0</td>\n",
       "    </tr>\n",
       "  </tbody>\n",
       "</table>\n",
       "<p>5 rows × 28 columns</p>\n",
       "</div>"
      ],
      "text/plain": [
       "  age     n  alcohol-use  alcohol-frequency  marijuana-use  \\\n",
       "0  12  2798          3.9                3.0            1.1   \n",
       "1  13  2757          8.5                6.0            3.4   \n",
       "2  14  2792         18.1                5.0            8.7   \n",
       "3  15  2956         29.2                6.0           14.5   \n",
       "4  16  3058         40.1               10.0           22.5   \n",
       "\n",
       "   marijuana-frequency  cocaine-use cocaine-frequency  crack-use  \\\n",
       "0                  4.0          0.1               5.0        0.0   \n",
       "1                 15.0          0.1               1.0        0.0   \n",
       "2                 24.0          0.1               5.5        0.0   \n",
       "3                 25.0          0.5               4.0        0.1   \n",
       "4                 30.0          1.0               7.0        0.0   \n",
       "\n",
       "  crack-frequency  ...  oxycontin-use oxycontin-frequency  tranquilizer-use  \\\n",
       "0               -  ...            0.1                24.5               0.2   \n",
       "1             3.0  ...            0.1                41.0               0.3   \n",
       "2               -  ...            0.4                 4.5               0.9   \n",
       "3             9.5  ...            0.8                 3.0               2.0   \n",
       "4             1.0  ...            1.1                 4.0               2.4   \n",
       "\n",
       "   tranquilizer-frequency  stimulant-use stimulant-frequency  meth-use  \\\n",
       "0                    52.0            0.2                 2.0       0.0   \n",
       "1                    25.5            0.3                 4.0       0.1   \n",
       "2                     5.0            0.8                12.0       0.1   \n",
       "3                     4.5            1.5                 6.0       0.3   \n",
       "4                    11.0            1.8                 9.5       0.3   \n",
       "\n",
       "   meth-frequency  sedative-use sedative-frequency  \n",
       "0               -           0.2               13.0  \n",
       "1             5.0           0.1               19.0  \n",
       "2            24.0           0.2               16.5  \n",
       "3            10.5           0.4               30.0  \n",
       "4            36.0           0.2                3.0  \n",
       "\n",
       "[5 rows x 28 columns]"
      ]
     },
     "execution_count": 32,
     "metadata": {},
     "output_type": "execute_result"
    }
   ],
   "source": [
    "drug.reset_index(drop=True, inplace=True)\n",
    "drug.head()"
   ]
  },
  {
   "cell_type": "markdown",
   "metadata": {
    "nbpresent": {
     "id": "b7034391-7d6d-4f08-beca-147e18036001"
    },
    "slideshow": {
     "slide_type": "slide"
    }
   },
   "source": [
    "<a id='creating_dataframes'></a>\n",
    "\n",
    "### Creating DataFrames\n",
    "\n",
    "---\n",
    "\n",
    "The simplest way to create your own DataFrame without importing data from a file is to give the ```pd.DataFrame()``` instantiator a dictionary."
   ]
  },
  {
   "cell_type": "code",
   "execution_count": 33,
   "metadata": {
    "nbpresent": {
     "id": "c42d85ec-a9a6-4880-84c5-1b73ace2341b"
    }
   },
   "outputs": [],
   "source": [
    "mydata = pd.DataFrame({'Letters':['A','B','C'],\n",
    "                       'Integers':[1,2,3], \n",
    "                       'Floats':[2.2, 3.3, 4.4]})"
   ]
  },
  {
   "cell_type": "code",
   "execution_count": 34,
   "metadata": {
    "nbpresent": {
     "id": "7e00119c-0641-4eaf-9432-dc3dffc68669"
    }
   },
   "outputs": [
    {
     "data": {
      "text/html": [
       "<div>\n",
       "<style scoped>\n",
       "    .dataframe tbody tr th:only-of-type {\n",
       "        vertical-align: middle;\n",
       "    }\n",
       "\n",
       "    .dataframe tbody tr th {\n",
       "        vertical-align: top;\n",
       "    }\n",
       "\n",
       "    .dataframe thead th {\n",
       "        text-align: right;\n",
       "    }\n",
       "</style>\n",
       "<table border=\"1\" class=\"dataframe\">\n",
       "  <thead>\n",
       "    <tr style=\"text-align: right;\">\n",
       "      <th></th>\n",
       "      <th>Letters</th>\n",
       "      <th>Integers</th>\n",
       "      <th>Floats</th>\n",
       "    </tr>\n",
       "  </thead>\n",
       "  <tbody>\n",
       "    <tr>\n",
       "      <th>0</th>\n",
       "      <td>A</td>\n",
       "      <td>1</td>\n",
       "      <td>2.2</td>\n",
       "    </tr>\n",
       "    <tr>\n",
       "      <th>1</th>\n",
       "      <td>B</td>\n",
       "      <td>2</td>\n",
       "      <td>3.3</td>\n",
       "    </tr>\n",
       "    <tr>\n",
       "      <th>2</th>\n",
       "      <td>C</td>\n",
       "      <td>3</td>\n",
       "      <td>4.4</td>\n",
       "    </tr>\n",
       "  </tbody>\n",
       "</table>\n",
       "</div>"
      ],
      "text/plain": [
       "  Letters  Integers  Floats\n",
       "0       A         1     2.2\n",
       "1       B         2     3.3\n",
       "2       C         3     4.4"
      ]
     },
     "execution_count": 34,
     "metadata": {},
     "output_type": "execute_result"
    }
   ],
   "source": [
    "mydata"
   ]
  },
  {
   "cell_type": "markdown",
   "metadata": {
    "nbpresent": {
     "id": "61856902-23ac-482d-bf1e-791d84e2caad"
    },
    "slideshow": {
     "slide_type": "fragment"
    }
   },
   "source": [
    "As you might expect, the dictionary needs to have lists of values that are all the same length. The keys correspond to the names of the columns, and the values correspond to the data in the columns."
   ]
  },
  {
   "cell_type": "markdown",
   "metadata": {
    "nbpresent": {
     "id": "4286b323-71b5-4b3e-ad37-bf17b63f04e9"
    },
    "slideshow": {
     "slide_type": "slide"
    }
   },
   "source": [
    "<a id='dtypes'></a>\n",
    "\n",
    "### Examining Data Types\n",
    "\n",
    "---\n",
    "\n",
    "`pandas` comes with a useful property for looking solely at the data types of your DataFrame columns. Use ```.dtypes``` on your DataFrame:"
   ]
  },
  {
   "cell_type": "code",
   "execution_count": 35,
   "metadata": {
    "nbpresent": {
     "id": "14c76064-13e1-4f4c-a4a2-82ed0b5897e1"
    },
    "slideshow": {
     "slide_type": "-"
    }
   },
   "outputs": [
    {
     "data": {
      "text/plain": [
       "Letters      object\n",
       "Integers      int64\n",
       "Floats      float64\n",
       "dtype: object"
      ]
     },
     "execution_count": 35,
     "metadata": {},
     "output_type": "execute_result"
    }
   ],
   "source": [
    "mydata.dtypes"
   ]
  },
  {
   "cell_type": "markdown",
   "metadata": {
    "nbpresent": {
     "id": "5f2b8742-e66b-4b2c-987e-48075bf691c6"
    },
    "slideshow": {
     "slide_type": "fragment"
    }
   },
   "source": [
    "This will show you the data type of each column. Strings are stored as a type called \"object,\" as they are not guaranteed to take up a set amount of space (strings can be any length)."
   ]
  },
  {
   "cell_type": "markdown",
   "metadata": {
    "nbpresent": {
     "id": "12862adc-f2f7-4d44-8d6b-56415ba46aff"
    },
    "slideshow": {
     "slide_type": "slide"
    }
   },
   "source": [
    "<a id='renaming_assignment'></a>\n",
    "\n",
    "### Renaming and Assignment\n",
    "\n",
    "---\n",
    "\n",
    "`pandas` makes it easy to **change column names** and assign values to your DataFrame.\n",
    "\n",
    "Say, for example, we want to change the column name `Integers` to `int`:"
   ]
  },
  {
   "cell_type": "code",
   "execution_count": 36,
   "metadata": {
    "nbpresent": {
     "id": "d00b8c41-4221-45e1-a598-02fa2da5f703"
    }
   },
   "outputs": [
    {
     "name": "stdout",
     "output_type": "stream",
     "text": [
      "Index(['Letters', 'int', 'Floats'], dtype='object')\n"
     ]
    }
   ],
   "source": [
    "mydata.rename(columns={mydata.columns[1]:'int'}, inplace=True) # inplace = True updates mydata\n",
    "print(mydata.columns)"
   ]
  },
  {
   "cell_type": "code",
   "execution_count": 37,
   "metadata": {
    "nbpresent": {
     "id": "578ba013-df3e-4f28-b338-57d0742b928b"
    }
   },
   "outputs": [
    {
     "data": {
      "text/html": [
       "<div>\n",
       "<style scoped>\n",
       "    .dataframe tbody tr th:only-of-type {\n",
       "        vertical-align: middle;\n",
       "    }\n",
       "\n",
       "    .dataframe tbody tr th {\n",
       "        vertical-align: top;\n",
       "    }\n",
       "\n",
       "    .dataframe thead th {\n",
       "        text-align: right;\n",
       "    }\n",
       "</style>\n",
       "<table border=\"1\" class=\"dataframe\">\n",
       "  <thead>\n",
       "    <tr style=\"text-align: right;\">\n",
       "      <th></th>\n",
       "      <th>Letters</th>\n",
       "      <th>int</th>\n",
       "      <th>Floats</th>\n",
       "    </tr>\n",
       "  </thead>\n",
       "  <tbody>\n",
       "    <tr>\n",
       "      <th>0</th>\n",
       "      <td>A</td>\n",
       "      <td>1</td>\n",
       "      <td>2.2</td>\n",
       "    </tr>\n",
       "    <tr>\n",
       "      <th>1</th>\n",
       "      <td>B</td>\n",
       "      <td>2</td>\n",
       "      <td>3.3</td>\n",
       "    </tr>\n",
       "    <tr>\n",
       "      <th>2</th>\n",
       "      <td>C</td>\n",
       "      <td>3</td>\n",
       "      <td>4.4</td>\n",
       "    </tr>\n",
       "  </tbody>\n",
       "</table>\n",
       "</div>"
      ],
      "text/plain": [
       "  Letters  int  Floats\n",
       "0       A    1     2.2\n",
       "1       B    2     3.3\n",
       "2       C    3     4.4"
      ]
     },
     "execution_count": 37,
     "metadata": {},
     "output_type": "execute_result"
    }
   ],
   "source": [
    "mydata"
   ]
  },
  {
   "cell_type": "markdown",
   "metadata": {
    "nbpresent": {
     "id": "36b7b0d7-0cfc-4ded-ae1b-f8003a92bb30"
    },
    "slideshow": {
     "slide_type": "fragment"
    }
   },
   "source": [
    "If you want to change every column name, you can just assign a new list to the ```.columns``` property."
   ]
  },
  {
   "cell_type": "code",
   "execution_count": 38,
   "metadata": {
    "nbpresent": {
     "id": "d5070ee2-eecf-4709-b601-f28861d353c0"
    }
   },
   "outputs": [
    {
     "name": "stdout",
     "output_type": "stream",
     "text": [
      "   A  B    C\n",
      "0  A  1  2.2\n",
      "1  B  2  3.3\n",
      "2  C  3  4.4\n"
     ]
    }
   ],
   "source": [
    "mydata.columns = ['A','B','C']\n",
    "print(mydata.head())"
   ]
  },
  {
   "cell_type": "markdown",
   "metadata": {
    "nbpresent": {
     "id": "3d67b602-b799-4b15-850b-d214529a0914"
    },
    "slideshow": {
     "slide_type": "slide"
    }
   },
   "source": [
    "We can assign values using the indexing operations we've already learned.\n",
    "\n",
    "Let's change the newly renamed \"B\" column at row index 1 to be 100."
   ]
  },
  {
   "cell_type": "code",
   "execution_count": 39,
   "metadata": {},
   "outputs": [
    {
     "data": {
      "text/plain": [
       "2"
      ]
     },
     "execution_count": 39,
     "metadata": {},
     "output_type": "execute_result"
    }
   ],
   "source": [
    "mydata.loc[1, 'B'] # the current value at [1,'B'] is...."
   ]
  },
  {
   "cell_type": "code",
   "execution_count": 40,
   "metadata": {
    "nbpresent": {
     "id": "ae7deca4-3428-441f-aa5f-8bfe4177f741"
    }
   },
   "outputs": [
    {
     "name": "stdout",
     "output_type": "stream",
     "text": [
      "   A    B    C\n",
      "0  A    1  2.2\n",
      "1  B  100  3.3\n",
      "2  C    3  4.4\n"
     ]
    }
   ],
   "source": [
    "mydata.loc[1, 'B'] = 100 # changing the value to 100\n",
    "print(mydata.head())"
   ]
  },
  {
   "cell_type": "markdown",
   "metadata": {
    "nbpresent": {
     "id": "bea2b551-07a7-408b-9017-bf24c32e636c"
    },
    "slideshow": {
     "slide_type": "fragment"
    }
   },
   "source": [
    "Alternatively, we can assign multiple values at once with lists."
   ]
  },
  {
   "cell_type": "code",
   "execution_count": 41,
   "metadata": {
    "nbpresent": {
     "id": "c25c6bae-7399-4b43-98dd-4679147f756c"
    }
   },
   "outputs": [
    {
     "name": "stdout",
     "output_type": "stream",
     "text": [
      "   A    B    C\n",
      "0  0    1  2.2\n",
      "1  0  100  3.3\n",
      "2  0    3  4.4\n"
     ]
    }
   ],
   "source": [
    "mydata.loc[:, 'A'] = [0,0,0] # all rows for col 'A'\n",
    "print(mydata.head())"
   ]
  },
  {
   "cell_type": "code",
   "execution_count": 42,
   "metadata": {},
   "outputs": [
    {
     "name": "stdout",
     "output_type": "stream",
     "text": [
      "   A     B          C\n",
      "0  0 -1000  newstring\n",
      "1  0   100        3.3\n",
      "2  0     3        4.4\n"
     ]
    }
   ],
   "source": [
    "# let's try another example\n",
    "mydata.loc[0, ['B','C']] = [-1000, 'newstring']\n",
    "print(mydata.head())"
   ]
  },
  {
   "cell_type": "markdown",
   "metadata": {
    "nbpresent": {
     "id": "490dbfcd-2ae4-4034-b60e-b9b4e6411ad2"
    },
    "slideshow": {
     "slide_type": "slide"
    }
   },
   "source": [
    "<a id='basic_plotting'></a>\n",
    "\n",
    "### Basic Plotting Using DataFrames\n",
    "\n",
    "---\n",
    "\n",
    "DataFrames also come with some basic convenience functions for plotting data. First, import `matplotlib` and set it to run \"inline\" in your notebook."
   ]
  },
  {
   "cell_type": "code",
   "execution_count": 33,
   "metadata": {
    "nbpresent": {
     "id": "d1a06a70-a1e6-4b6c-9ee7-cc13127f26e5"
    }
   },
   "outputs": [],
   "source": [
    "import matplotlib.pyplot as plt\n",
    "\n",
    "%matplotlib inline"
   ]
  },
  {
   "cell_type": "markdown",
   "metadata": {
    "nbpresent": {
     "id": "fff80c48-a06e-43ca-b714-c811fd23650e"
    },
    "slideshow": {
     "slide_type": "slide"
    }
   },
   "source": [
    "Using our ```drug``` DataFrame once again, use the ```.plot()``` function to plot the **`age`** columns against the **`marijuana-use`** column."
   ]
  },
  {
   "cell_type": "code",
   "execution_count": 38,
   "metadata": {
    "nbpresent": {
     "id": "9578a9c1-8f36-4851-a498-6814bcdcc8a8"
    }
   },
   "outputs": [
    {
     "data": {
      "text/plain": [
       "<matplotlib.axes._subplots.AxesSubplot at 0x11f9a3f60>"
      ]
     },
     "execution_count": 38,
     "metadata": {},
     "output_type": "execute_result"
    },
    {
     "data": {
      "image/png": "[encoded data removed]",
      "text/plain": [
       "<Figure size 432x288 with 1 Axes>"
      ]
     },
     "metadata": {
      "needs_background": "light"
     },
     "output_type": "display_data"
    }
   ],
   "source": [
    "drug.plot(x='age', y='marijuana-use')\n",
    "#plt.show() # we don't need to write show because we used %matplotlib inline \n",
    "#if we don't use %matplotlib inline then we must use plt.show() everytime"
   ]
  },
  {
   "cell_type": "markdown",
   "metadata": {
    "nbpresent": {
     "id": "72cc9674-6fd5-4f4c-abc8-a17dbdb4ab1d"
    },
    "slideshow": {
     "slide_type": "slide"
    }
   },
   "source": [
    "The ```.hist()``` function will create a histogram for a column's values."
   ]
  },
  {
   "cell_type": "code",
   "execution_count": 45,
   "metadata": {
    "nbpresent": {
     "id": "f52830de-3357-4add-97eb-63bbfc5b1322"
    }
   },
   "outputs": [
    {
     "data": {
      "text/plain": [
       "array([[<matplotlib.axes._subplots.AxesSubplot object at 0x122cbcbe0>]],\n",
       "      dtype=object)"
      ]
     },
     "execution_count": 45,
     "metadata": {},
     "output_type": "execute_result"
    },
    {
     "data": {
      "image/png": "[encoded data removed]",
      "text/plain": [
       "<Figure size 432x288 with 1 Axes>"
      ]
     },
     "metadata": {
      "needs_background": "light"
     },
     "output_type": "display_data"
    }
   ],
   "source": [
    "drug.hist('marijuana-use')"
   ]
  },
  {
   "cell_type": "markdown",
   "metadata": {
    "nbpresent": {
     "id": "5c69fcba-b6ce-461a-9c46-3caa19061490"
    },
    "slideshow": {
     "slide_type": "slide"
    }
   },
   "source": [
    "<a id='filtering'></a>\n",
    "\n",
    "### Filtering Logic\n",
    "\n",
    "---\n",
    "\n",
    "One of the most powerful features of DataFrames is the ability to use logical commands to filter data.\n",
    "\n",
    "Subset the ```drug``` data for only the rows in which `marijuana-use` is greater than 20."
   ]
  },
  {
   "cell_type": "code",
   "execution_count": 40,
   "metadata": {},
   "outputs": [
    {
     "data": {
      "text/plain": [
       "0     False\n",
       "1     False\n",
       "2     False\n",
       "3     False\n",
       "4      True\n",
       "5      True\n",
       "6      True\n",
       "7      True\n",
       "8      True\n",
       "9      True\n",
       "10     True\n",
       "11     True\n",
       "12     True\n",
       "13    False\n",
       "14    False\n",
       "15    False\n",
       "16    False\n",
       "Name: marijuana-use, dtype: bool"
      ]
     },
     "execution_count": 40,
     "metadata": {},
     "output_type": "execute_result"
    }
   ],
   "source": [
    "cond = drug['marijuana-use'] > 20\n",
    "cond"
   ]
  },
  {
   "cell_type": "code",
   "execution_count": 41,
   "metadata": {
    "nbpresent": {
     "id": "36249690-74cb-4ace-8f49-ad32fc259194"
    },
    "slideshow": {
     "slide_type": "fragment"
    }
   },
   "outputs": [
    {
     "data": {
      "text/html": [
       "<div>\n",
       "<style scoped>\n",
       "    .dataframe tbody tr th:only-of-type {\n",
       "        vertical-align: middle;\n",
       "    }\n",
       "\n",
       "    .dataframe tbody tr th {\n",
       "        vertical-align: top;\n",
       "    }\n",
       "\n",
       "    .dataframe thead th {\n",
       "        text-align: right;\n",
       "    }\n",
       "</style>\n",
       "<table border=\"1\" class=\"dataframe\">\n",
       "  <thead>\n",
       "    <tr style=\"text-align: right;\">\n",
       "      <th></th>\n",
       "      <th>age</th>\n",
       "      <th>n</th>\n",
       "      <th>alcohol-use</th>\n",
       "      <th>alcohol-frequency</th>\n",
       "      <th>marijuana-use</th>\n",
       "      <th>marijuana-frequency</th>\n",
       "      <th>cocaine-use</th>\n",
       "      <th>cocaine-frequency</th>\n",
       "      <th>crack-use</th>\n",
       "      <th>crack-frequency</th>\n",
       "      <th>...</th>\n",
       "      <th>oxycontin-use</th>\n",
       "      <th>oxycontin-frequency</th>\n",
       "      <th>tranquilizer-use</th>\n",
       "      <th>tranquilizer-frequency</th>\n",
       "      <th>stimulant-use</th>\n",
       "      <th>stimulant-frequency</th>\n",
       "      <th>meth-use</th>\n",
       "      <th>meth-frequency</th>\n",
       "      <th>sedative-use</th>\n",
       "      <th>sedative-frequency</th>\n",
       "    </tr>\n",
       "  </thead>\n",
       "  <tbody>\n",
       "    <tr>\n",
       "      <th>4</th>\n",
       "      <td>16</td>\n",
       "      <td>3058</td>\n",
       "      <td>40.1</td>\n",
       "      <td>10.0</td>\n",
       "      <td>22.5</td>\n",
       "      <td>30.0</td>\n",
       "      <td>1.0</td>\n",
       "      <td>7.0</td>\n",
       "      <td>0.0</td>\n",
       "      <td>1.0</td>\n",
       "      <td>...</td>\n",
       "      <td>1.1</td>\n",
       "      <td>4.0</td>\n",
       "      <td>2.4</td>\n",
       "      <td>11.0</td>\n",
       "      <td>1.8</td>\n",
       "      <td>9.5</td>\n",
       "      <td>0.3</td>\n",
       "      <td>36.0</td>\n",
       "      <td>0.2</td>\n",
       "      <td>3.0</td>\n",
       "    </tr>\n",
       "    <tr>\n",
       "      <th>5</th>\n",
       "      <td>17</td>\n",
       "      <td>3038</td>\n",
       "      <td>49.3</td>\n",
       "      <td>13.0</td>\n",
       "      <td>28.0</td>\n",
       "      <td>36.0</td>\n",
       "      <td>2.0</td>\n",
       "      <td>5.0</td>\n",
       "      <td>0.1</td>\n",
       "      <td>21.0</td>\n",
       "      <td>...</td>\n",
       "      <td>1.4</td>\n",
       "      <td>6.0</td>\n",
       "      <td>3.5</td>\n",
       "      <td>7.0</td>\n",
       "      <td>2.8</td>\n",
       "      <td>9.0</td>\n",
       "      <td>0.6</td>\n",
       "      <td>48.0</td>\n",
       "      <td>0.5</td>\n",
       "      <td>6.5</td>\n",
       "    </tr>\n",
       "    <tr>\n",
       "      <th>6</th>\n",
       "      <td>18</td>\n",
       "      <td>2469</td>\n",
       "      <td>58.7</td>\n",
       "      <td>24.0</td>\n",
       "      <td>33.7</td>\n",
       "      <td>52.0</td>\n",
       "      <td>3.2</td>\n",
       "      <td>5.0</td>\n",
       "      <td>0.4</td>\n",
       "      <td>10.0</td>\n",
       "      <td>...</td>\n",
       "      <td>1.7</td>\n",
       "      <td>7.0</td>\n",
       "      <td>4.9</td>\n",
       "      <td>12.0</td>\n",
       "      <td>3.0</td>\n",
       "      <td>8.0</td>\n",
       "      <td>0.5</td>\n",
       "      <td>12.0</td>\n",
       "      <td>0.4</td>\n",
       "      <td>10.0</td>\n",
       "    </tr>\n",
       "    <tr>\n",
       "      <th>7</th>\n",
       "      <td>19</td>\n",
       "      <td>2223</td>\n",
       "      <td>64.6</td>\n",
       "      <td>36.0</td>\n",
       "      <td>33.4</td>\n",
       "      <td>60.0</td>\n",
       "      <td>4.1</td>\n",
       "      <td>5.5</td>\n",
       "      <td>0.5</td>\n",
       "      <td>2.0</td>\n",
       "      <td>...</td>\n",
       "      <td>1.5</td>\n",
       "      <td>7.5</td>\n",
       "      <td>4.2</td>\n",
       "      <td>4.5</td>\n",
       "      <td>3.3</td>\n",
       "      <td>6.0</td>\n",
       "      <td>0.4</td>\n",
       "      <td>105.0</td>\n",
       "      <td>0.3</td>\n",
       "      <td>6.0</td>\n",
       "    </tr>\n",
       "    <tr>\n",
       "      <th>8</th>\n",
       "      <td>20</td>\n",
       "      <td>2271</td>\n",
       "      <td>69.7</td>\n",
       "      <td>48.0</td>\n",
       "      <td>34.0</td>\n",
       "      <td>60.0</td>\n",
       "      <td>4.9</td>\n",
       "      <td>8.0</td>\n",
       "      <td>0.6</td>\n",
       "      <td>5.0</td>\n",
       "      <td>...</td>\n",
       "      <td>1.7</td>\n",
       "      <td>12.0</td>\n",
       "      <td>5.4</td>\n",
       "      <td>10.0</td>\n",
       "      <td>4.0</td>\n",
       "      <td>12.0</td>\n",
       "      <td>0.9</td>\n",
       "      <td>12.0</td>\n",
       "      <td>0.5</td>\n",
       "      <td>4.0</td>\n",
       "    </tr>\n",
       "    <tr>\n",
       "      <th>9</th>\n",
       "      <td>21</td>\n",
       "      <td>2354</td>\n",
       "      <td>83.2</td>\n",
       "      <td>52.0</td>\n",
       "      <td>33.0</td>\n",
       "      <td>52.0</td>\n",
       "      <td>4.8</td>\n",
       "      <td>5.0</td>\n",
       "      <td>0.5</td>\n",
       "      <td>17.0</td>\n",
       "      <td>...</td>\n",
       "      <td>1.3</td>\n",
       "      <td>13.5</td>\n",
       "      <td>3.9</td>\n",
       "      <td>7.0</td>\n",
       "      <td>4.1</td>\n",
       "      <td>10.0</td>\n",
       "      <td>0.6</td>\n",
       "      <td>2.0</td>\n",
       "      <td>0.3</td>\n",
       "      <td>9.0</td>\n",
       "    </tr>\n",
       "    <tr>\n",
       "      <th>10</th>\n",
       "      <td>22-23</td>\n",
       "      <td>4707</td>\n",
       "      <td>84.2</td>\n",
       "      <td>52.0</td>\n",
       "      <td>28.4</td>\n",
       "      <td>52.0</td>\n",
       "      <td>4.5</td>\n",
       "      <td>5.0</td>\n",
       "      <td>0.5</td>\n",
       "      <td>5.0</td>\n",
       "      <td>...</td>\n",
       "      <td>1.7</td>\n",
       "      <td>17.5</td>\n",
       "      <td>4.4</td>\n",
       "      <td>12.0</td>\n",
       "      <td>3.6</td>\n",
       "      <td>10.0</td>\n",
       "      <td>0.6</td>\n",
       "      <td>46.0</td>\n",
       "      <td>0.2</td>\n",
       "      <td>52.0</td>\n",
       "    </tr>\n",
       "    <tr>\n",
       "      <th>11</th>\n",
       "      <td>24-25</td>\n",
       "      <td>4591</td>\n",
       "      <td>83.1</td>\n",
       "      <td>52.0</td>\n",
       "      <td>24.9</td>\n",
       "      <td>60.0</td>\n",
       "      <td>4.0</td>\n",
       "      <td>6.0</td>\n",
       "      <td>0.5</td>\n",
       "      <td>6.0</td>\n",
       "      <td>...</td>\n",
       "      <td>1.3</td>\n",
       "      <td>20.0</td>\n",
       "      <td>4.3</td>\n",
       "      <td>10.0</td>\n",
       "      <td>2.6</td>\n",
       "      <td>10.0</td>\n",
       "      <td>0.7</td>\n",
       "      <td>21.0</td>\n",
       "      <td>0.2</td>\n",
       "      <td>17.5</td>\n",
       "    </tr>\n",
       "    <tr>\n",
       "      <th>12</th>\n",
       "      <td>26-29</td>\n",
       "      <td>2628</td>\n",
       "      <td>80.7</td>\n",
       "      <td>52.0</td>\n",
       "      <td>20.8</td>\n",
       "      <td>52.0</td>\n",
       "      <td>3.2</td>\n",
       "      <td>5.0</td>\n",
       "      <td>0.4</td>\n",
       "      <td>6.0</td>\n",
       "      <td>...</td>\n",
       "      <td>1.2</td>\n",
       "      <td>13.5</td>\n",
       "      <td>4.2</td>\n",
       "      <td>10.0</td>\n",
       "      <td>2.3</td>\n",
       "      <td>7.0</td>\n",
       "      <td>0.6</td>\n",
       "      <td>30.0</td>\n",
       "      <td>0.4</td>\n",
       "      <td>4.0</td>\n",
       "    </tr>\n",
       "  </tbody>\n",
       "</table>\n",
       "<p>9 rows × 28 columns</p>\n",
       "</div>"
      ],
      "text/plain": [
       "      age     n  alcohol-use  alcohol-frequency  marijuana-use  \\\n",
       "4      16  3058         40.1               10.0           22.5   \n",
       "5      17  3038         49.3               13.0           28.0   \n",
       "6      18  2469         58.7               24.0           33.7   \n",
       "7      19  2223         64.6               36.0           33.4   \n",
       "8      20  2271         69.7               48.0           34.0   \n",
       "9      21  2354         83.2               52.0           33.0   \n",
       "10  22-23  4707         84.2               52.0           28.4   \n",
       "11  24-25  4591         83.1               52.0           24.9   \n",
       "12  26-29  2628         80.7               52.0           20.8   \n",
       "\n",
       "    marijuana-frequency  cocaine-use cocaine-frequency  crack-use  \\\n",
       "4                  30.0          1.0               7.0        0.0   \n",
       "5                  36.0          2.0               5.0        0.1   \n",
       "6                  52.0          3.2               5.0        0.4   \n",
       "7                  60.0          4.1               5.5        0.5   \n",
       "8                  60.0          4.9               8.0        0.6   \n",
       "9                  52.0          4.8               5.0        0.5   \n",
       "10                 52.0          4.5               5.0        0.5   \n",
       "11                 60.0          4.0               6.0        0.5   \n",
       "12                 52.0          3.2               5.0        0.4   \n",
       "\n",
       "   crack-frequency  ...  oxycontin-use oxycontin-frequency  tranquilizer-use  \\\n",
       "4              1.0  ...            1.1                 4.0               2.4   \n",
       "5             21.0  ...            1.4                 6.0               3.5   \n",
       "6             10.0  ...            1.7                 7.0               4.9   \n",
       "7              2.0  ...            1.5                 7.5               4.2   \n",
       "8              5.0  ...            1.7                12.0               5.4   \n",
       "9             17.0  ...            1.3                13.5               3.9   \n",
       "10             5.0  ...            1.7                17.5               4.4   \n",
       "11             6.0  ...            1.3                20.0               4.3   \n",
       "12             6.0  ...            1.2                13.5               4.2   \n",
       "\n",
       "    tranquilizer-frequency  stimulant-use stimulant-frequency  meth-use  \\\n",
       "4                     11.0            1.8                 9.5       0.3   \n",
       "5                      7.0            2.8                 9.0       0.6   \n",
       "6                     12.0            3.0                 8.0       0.5   \n",
       "7                      4.5            3.3                 6.0       0.4   \n",
       "8                     10.0            4.0                12.0       0.9   \n",
       "9                      7.0            4.1                10.0       0.6   \n",
       "10                    12.0            3.6                10.0       0.6   \n",
       "11                    10.0            2.6                10.0       0.7   \n",
       "12                    10.0            2.3                 7.0       0.6   \n",
       "\n",
       "    meth-frequency  sedative-use sedative-frequency  \n",
       "4             36.0           0.2                3.0  \n",
       "5             48.0           0.5                6.5  \n",
       "6             12.0           0.4               10.0  \n",
       "7            105.0           0.3                6.0  \n",
       "8             12.0           0.5                4.0  \n",
       "9              2.0           0.3                9.0  \n",
       "10            46.0           0.2               52.0  \n",
       "11            21.0           0.2               17.5  \n",
       "12            30.0           0.4                4.0  \n",
       "\n",
       "[9 rows x 28 columns]"
      ]
     },
     "execution_count": 41,
     "metadata": {},
     "output_type": "execute_result"
    }
   ],
   "source": [
    "drug[drug['marijuana-use'] > 20]\n",
    "#drug[cond]"
   ]
  },
  {
   "cell_type": "markdown",
   "metadata": {
    "nbpresent": {
     "id": "c3556d0f-27ad-4e34-b711-d6b6082d3c80"
    },
    "slideshow": {
     "slide_type": "slide"
    }
   },
   "source": [
    "The ampersand sign can be used to subset where multiple conditions need to be met for each row. \n",
    "\n",
    "Subset the data for `marijuana-use` greater than 20 like before, but now, also include where the n is greater than 4,000."
   ]
  },
  {
   "cell_type": "code",
   "execution_count": 44,
   "metadata": {
    "nbpresent": {
     "id": "735e4207-e303-4226-914f-0f4f581c9f08"
    },
    "scrolled": false
   },
   "outputs": [
    {
     "data": {
      "text/html": [
       "<div>\n",
       "<style scoped>\n",
       "    .dataframe tbody tr th:only-of-type {\n",
       "        vertical-align: middle;\n",
       "    }\n",
       "\n",
       "    .dataframe tbody tr th {\n",
       "        vertical-align: top;\n",
       "    }\n",
       "\n",
       "    .dataframe thead th {\n",
       "        text-align: right;\n",
       "    }\n",
       "</style>\n",
       "<table border=\"1\" class=\"dataframe\">\n",
       "  <thead>\n",
       "    <tr style=\"text-align: right;\">\n",
       "      <th></th>\n",
       "      <th>age</th>\n",
       "      <th>n</th>\n",
       "      <th>alcohol-use</th>\n",
       "      <th>alcohol-frequency</th>\n",
       "      <th>marijuana-use</th>\n",
       "      <th>marijuana-frequency</th>\n",
       "      <th>cocaine-use</th>\n",
       "      <th>cocaine-frequency</th>\n",
       "      <th>crack-use</th>\n",
       "      <th>crack-frequency</th>\n",
       "      <th>...</th>\n",
       "      <th>oxycontin-use</th>\n",
       "      <th>oxycontin-frequency</th>\n",
       "      <th>tranquilizer-use</th>\n",
       "      <th>tranquilizer-frequency</th>\n",
       "      <th>stimulant-use</th>\n",
       "      <th>stimulant-frequency</th>\n",
       "      <th>meth-use</th>\n",
       "      <th>meth-frequency</th>\n",
       "      <th>sedative-use</th>\n",
       "      <th>sedative-frequency</th>\n",
       "    </tr>\n",
       "  </thead>\n",
       "  <tbody>\n",
       "    <tr>\n",
       "      <th>10</th>\n",
       "      <td>22-23</td>\n",
       "      <td>4707</td>\n",
       "      <td>84.2</td>\n",
       "      <td>52.0</td>\n",
       "      <td>28.4</td>\n",
       "      <td>52.0</td>\n",
       "      <td>4.5</td>\n",
       "      <td>5.0</td>\n",
       "      <td>0.5</td>\n",
       "      <td>5.0</td>\n",
       "      <td>...</td>\n",
       "      <td>1.7</td>\n",
       "      <td>17.5</td>\n",
       "      <td>4.4</td>\n",
       "      <td>12.0</td>\n",
       "      <td>3.6</td>\n",
       "      <td>10.0</td>\n",
       "      <td>0.6</td>\n",
       "      <td>46.0</td>\n",
       "      <td>0.2</td>\n",
       "      <td>52.0</td>\n",
       "    </tr>\n",
       "    <tr>\n",
       "      <th>11</th>\n",
       "      <td>24-25</td>\n",
       "      <td>4591</td>\n",
       "      <td>83.1</td>\n",
       "      <td>52.0</td>\n",
       "      <td>24.9</td>\n",
       "      <td>60.0</td>\n",
       "      <td>4.0</td>\n",
       "      <td>6.0</td>\n",
       "      <td>0.5</td>\n",
       "      <td>6.0</td>\n",
       "      <td>...</td>\n",
       "      <td>1.3</td>\n",
       "      <td>20.0</td>\n",
       "      <td>4.3</td>\n",
       "      <td>10.0</td>\n",
       "      <td>2.6</td>\n",
       "      <td>10.0</td>\n",
       "      <td>0.7</td>\n",
       "      <td>21.0</td>\n",
       "      <td>0.2</td>\n",
       "      <td>17.5</td>\n",
       "    </tr>\n",
       "  </tbody>\n",
       "</table>\n",
       "<p>2 rows × 28 columns</p>\n",
       "</div>"
      ],
      "text/plain": [
       "      age     n  alcohol-use  alcohol-frequency  marijuana-use  \\\n",
       "10  22-23  4707         84.2               52.0           28.4   \n",
       "11  24-25  4591         83.1               52.0           24.9   \n",
       "\n",
       "    marijuana-frequency  cocaine-use cocaine-frequency  crack-use  \\\n",
       "10                 52.0          4.5               5.0        0.5   \n",
       "11                 60.0          4.0               6.0        0.5   \n",
       "\n",
       "   crack-frequency  ...  oxycontin-use oxycontin-frequency  tranquilizer-use  \\\n",
       "10             5.0  ...            1.7                17.5               4.4   \n",
       "11             6.0  ...            1.3                20.0               4.3   \n",
       "\n",
       "    tranquilizer-frequency  stimulant-use stimulant-frequency  meth-use  \\\n",
       "10                    12.0            3.6                10.0       0.6   \n",
       "11                    10.0            2.6                10.0       0.7   \n",
       "\n",
       "    meth-frequency  sedative-use sedative-frequency  \n",
       "10            46.0           0.2               52.0  \n",
       "11            21.0           0.2               17.5  \n",
       "\n",
       "[2 rows x 28 columns]"
      ]
     },
     "execution_count": 44,
     "metadata": {},
     "output_type": "execute_result"
    }
   ],
   "source": [
    "drug[(drug['marijuana-use'] > 20) & (drug.n > 4000)]"
   ]
  },
  {
   "cell_type": "markdown",
   "metadata": {},
   "source": [
    "Alternative code for the above one liner!"
   ]
  },
  {
   "cell_type": "code",
   "execution_count": 49,
   "metadata": {},
   "outputs": [],
   "source": [
    "cond1 = drug['marijuana-use'] > 20\n",
    "cond2 = drug.n > 4000"
   ]
  },
  {
   "cell_type": "code",
   "execution_count": 50,
   "metadata": {},
   "outputs": [
    {
     "data": {
      "text/html": [
       "<div>\n",
       "<style scoped>\n",
       "    .dataframe tbody tr th:only-of-type {\n",
       "        vertical-align: middle;\n",
       "    }\n",
       "\n",
       "    .dataframe tbody tr th {\n",
       "        vertical-align: top;\n",
       "    }\n",
       "\n",
       "    .dataframe thead th {\n",
       "        text-align: right;\n",
       "    }\n",
       "</style>\n",
       "<table border=\"1\" class=\"dataframe\">\n",
       "  <thead>\n",
       "    <tr style=\"text-align: right;\">\n",
       "      <th></th>\n",
       "      <th>age</th>\n",
       "      <th>n</th>\n",
       "      <th>alcohol-use</th>\n",
       "      <th>alcohol-frequency</th>\n",
       "      <th>marijuana-use</th>\n",
       "      <th>marijuana-frequency</th>\n",
       "      <th>cocaine-use</th>\n",
       "      <th>cocaine-frequency</th>\n",
       "      <th>crack-use</th>\n",
       "      <th>crack-frequency</th>\n",
       "      <th>...</th>\n",
       "      <th>oxycontin-use</th>\n",
       "      <th>oxycontin-frequency</th>\n",
       "      <th>tranquilizer-use</th>\n",
       "      <th>tranquilizer-frequency</th>\n",
       "      <th>stimulant-use</th>\n",
       "      <th>stimulant-frequency</th>\n",
       "      <th>meth-use</th>\n",
       "      <th>meth-frequency</th>\n",
       "      <th>sedative-use</th>\n",
       "      <th>sedative-frequency</th>\n",
       "    </tr>\n",
       "  </thead>\n",
       "  <tbody>\n",
       "    <tr>\n",
       "      <th>10</th>\n",
       "      <td>22-23</td>\n",
       "      <td>4707</td>\n",
       "      <td>84.2</td>\n",
       "      <td>52.0</td>\n",
       "      <td>28.4</td>\n",
       "      <td>52.0</td>\n",
       "      <td>4.5</td>\n",
       "      <td>5.0</td>\n",
       "      <td>0.5</td>\n",
       "      <td>5.0</td>\n",
       "      <td>...</td>\n",
       "      <td>1.7</td>\n",
       "      <td>17.5</td>\n",
       "      <td>4.4</td>\n",
       "      <td>12.0</td>\n",
       "      <td>3.6</td>\n",
       "      <td>10.0</td>\n",
       "      <td>0.6</td>\n",
       "      <td>46.0</td>\n",
       "      <td>0.2</td>\n",
       "      <td>52.0</td>\n",
       "    </tr>\n",
       "    <tr>\n",
       "      <th>11</th>\n",
       "      <td>24-25</td>\n",
       "      <td>4591</td>\n",
       "      <td>83.1</td>\n",
       "      <td>52.0</td>\n",
       "      <td>24.9</td>\n",
       "      <td>60.0</td>\n",
       "      <td>4.0</td>\n",
       "      <td>6.0</td>\n",
       "      <td>0.5</td>\n",
       "      <td>6.0</td>\n",
       "      <td>...</td>\n",
       "      <td>1.3</td>\n",
       "      <td>20.0</td>\n",
       "      <td>4.3</td>\n",
       "      <td>10.0</td>\n",
       "      <td>2.6</td>\n",
       "      <td>10.0</td>\n",
       "      <td>0.7</td>\n",
       "      <td>21.0</td>\n",
       "      <td>0.2</td>\n",
       "      <td>17.5</td>\n",
       "    </tr>\n",
       "  </tbody>\n",
       "</table>\n",
       "<p>2 rows × 28 columns</p>\n",
       "</div>"
      ],
      "text/plain": [
       "      age     n  alcohol-use  alcohol-frequency  marijuana-use  \\\n",
       "10  22-23  4707         84.2               52.0           28.4   \n",
       "11  24-25  4591         83.1               52.0           24.9   \n",
       "\n",
       "    marijuana-frequency  cocaine-use cocaine-frequency  crack-use  \\\n",
       "10                 52.0          4.5               5.0        0.5   \n",
       "11                 60.0          4.0               6.0        0.5   \n",
       "\n",
       "   crack-frequency  ...  oxycontin-use oxycontin-frequency  tranquilizer-use  \\\n",
       "10             5.0  ...            1.7                17.5               4.4   \n",
       "11             6.0  ...            1.3                20.0               4.3   \n",
       "\n",
       "    tranquilizer-frequency  stimulant-use stimulant-frequency  meth-use  \\\n",
       "10                    12.0            3.6                10.0       0.6   \n",
       "11                    10.0            2.6                10.0       0.7   \n",
       "\n",
       "    meth-frequency  sedative-use sedative-frequency  \n",
       "10            46.0           0.2               52.0  \n",
       "11            21.0           0.2               17.5  \n",
       "\n",
       "[2 rows x 28 columns]"
      ]
     },
     "execution_count": 50,
     "metadata": {},
     "output_type": "execute_result"
    }
   ],
   "source": [
    "drug[cond1 & cond2]"
   ]
  },
  {
   "cell_type": "markdown",
   "metadata": {
    "slideshow": {
     "slide_type": "slide"
    }
   },
   "source": [
    "## Independent Practice\n",
    "\n",
    "With our drug dataset already loaded, let's explore our dataset a bit more thoroughly to gain some familiarity with beginning exploratory analysis."
   ]
  },
  {
   "cell_type": "code",
   "execution_count": 51,
   "metadata": {},
   "outputs": [],
   "source": [
    "drug = pd.read_csv('drug-use-by-age.csv')"
   ]
  },
  {
   "cell_type": "markdown",
   "metadata": {},
   "source": [
    "### 1.  Identify which variable distributions are skewed left or right."
   ]
  },
  {
   "cell_type": "code",
   "execution_count": 52,
   "metadata": {},
   "outputs": [],
   "source": [
    "import matplotlib.pyplot as plt\n",
    "%matplotlib inline"
   ]
  },
  {
   "cell_type": "code",
   "execution_count": 46,
   "metadata": {
    "scrolled": false
   },
   "outputs": [
    {
     "data": {
      "image/png": "[encoded data removed]",
      "text/plain": [
       "<Figure size 1440x2880 with 21 Axes>"
      ]
     },
     "metadata": {
      "needs_background": "light"
     },
     "output_type": "display_data"
    }
   ],
   "source": [
    "drug.plot(subplots=True, figsize=(20,40)) # try subplots = False\n",
    "plt.show() "
   ]
  },
  {
   "cell_type": "markdown",
   "metadata": {
    "slideshow": {
     "slide_type": "-"
    }
   },
   "source": [
    "### 2(a). Select only data for \"marijuana-frequency\" when \"age\" is \"30-34\"."
   ]
  },
  {
   "cell_type": "code",
   "execution_count": 54,
   "metadata": {},
   "outputs": [
    {
     "data": {
      "text/html": [
       "<div>\n",
       "<style scoped>\n",
       "    .dataframe tbody tr th:only-of-type {\n",
       "        vertical-align: middle;\n",
       "    }\n",
       "\n",
       "    .dataframe tbody tr th {\n",
       "        vertical-align: top;\n",
       "    }\n",
       "\n",
       "    .dataframe thead th {\n",
       "        text-align: right;\n",
       "    }\n",
       "</style>\n",
       "<table border=\"1\" class=\"dataframe\">\n",
       "  <thead>\n",
       "    <tr style=\"text-align: right;\">\n",
       "      <th></th>\n",
       "      <th>age</th>\n",
       "      <th>marijuana-frequency</th>\n",
       "    </tr>\n",
       "  </thead>\n",
       "  <tbody>\n",
       "    <tr>\n",
       "      <th>13</th>\n",
       "      <td>30-34</td>\n",
       "      <td>72.0</td>\n",
       "    </tr>\n",
       "  </tbody>\n",
       "</table>\n",
       "</div>"
      ],
      "text/plain": [
       "      age  marijuana-frequency\n",
       "13  30-34                 72.0"
      ]
     },
     "execution_count": 54,
     "metadata": {},
     "output_type": "execute_result"
    }
   ],
   "source": [
    "mask = (drug['age']==\"30-34\")\n",
    "drug[mask][['age','marijuana-frequency']]"
   ]
  },
  {
   "cell_type": "markdown",
   "metadata": {},
   "source": [
    "### 2(b). Can you select a range of values for age?  Why or why not?\n",
    "ie:  age > 17 but < 21"
   ]
  },
  {
   "cell_type": "code",
   "execution_count": 55,
   "metadata": {},
   "outputs": [
    {
     "data": {
      "text/plain": [
       "str"
      ]
     },
     "execution_count": 55,
     "metadata": {},
     "output_type": "execute_result"
    }
   ],
   "source": [
    "type(drug['age'][0])"
   ]
  },
  {
   "cell_type": "markdown",
   "metadata": {},
   "source": [
    "### 3. Select only rows with index 5-10, for variables / columns \"crack-use\" and \"crack-frequency\""
   ]
  },
  {
   "cell_type": "code",
   "execution_count": 56,
   "metadata": {},
   "outputs": [
    {
     "data": {
      "text/plain": [
       "5     21.0\n",
       "6     10.0\n",
       "7      2.0\n",
       "8      5.0\n",
       "9     17.0\n",
       "10     5.0\n",
       "Name: crack-frequency, dtype: object"
      ]
     },
     "execution_count": 56,
     "metadata": {},
     "output_type": "execute_result"
    }
   ],
   "source": [
    "drug.loc[5:10,\"crack-frequency\"]"
   ]
  },
  {
   "cell_type": "markdown",
   "metadata": {},
   "source": [
    "### 4. Select the columns by numeric offset 2-5, rows with numeric index 3-7"
   ]
  },
  {
   "cell_type": "code",
   "execution_count": 57,
   "metadata": {},
   "outputs": [
    {
     "data": {
      "text/html": [
       "<div>\n",
       "<style scoped>\n",
       "    .dataframe tbody tr th:only-of-type {\n",
       "        vertical-align: middle;\n",
       "    }\n",
       "\n",
       "    .dataframe tbody tr th {\n",
       "        vertical-align: top;\n",
       "    }\n",
       "\n",
       "    .dataframe thead th {\n",
       "        text-align: right;\n",
       "    }\n",
       "</style>\n",
       "<table border=\"1\" class=\"dataframe\">\n",
       "  <thead>\n",
       "    <tr style=\"text-align: right;\">\n",
       "      <th></th>\n",
       "      <th>alcohol-use</th>\n",
       "      <th>alcohol-frequency</th>\n",
       "      <th>marijuana-use</th>\n",
       "    </tr>\n",
       "  </thead>\n",
       "  <tbody>\n",
       "    <tr>\n",
       "      <th>3</th>\n",
       "      <td>29.2</td>\n",
       "      <td>6.0</td>\n",
       "      <td>14.5</td>\n",
       "    </tr>\n",
       "    <tr>\n",
       "      <th>4</th>\n",
       "      <td>40.1</td>\n",
       "      <td>10.0</td>\n",
       "      <td>22.5</td>\n",
       "    </tr>\n",
       "    <tr>\n",
       "      <th>5</th>\n",
       "      <td>49.3</td>\n",
       "      <td>13.0</td>\n",
       "      <td>28.0</td>\n",
       "    </tr>\n",
       "    <tr>\n",
       "      <th>6</th>\n",
       "      <td>58.7</td>\n",
       "      <td>24.0</td>\n",
       "      <td>33.7</td>\n",
       "    </tr>\n",
       "  </tbody>\n",
       "</table>\n",
       "</div>"
      ],
      "text/plain": [
       "   alcohol-use  alcohol-frequency  marijuana-use\n",
       "3         29.2                6.0           14.5\n",
       "4         40.1               10.0           22.5\n",
       "5         49.3               13.0           28.0\n",
       "6         58.7               24.0           33.7"
      ]
     },
     "execution_count": 57,
     "metadata": {},
     "output_type": "execute_result"
    }
   ],
   "source": [
    "drug.iloc[3:7,2:5]"
   ]
  },
  {
   "cell_type": "markdown",
   "metadata": {},
   "source": [
    "### 5. Select a subset of data using 3 masked conditions.\n",
    "\n",
    "ie: \"variable\" > 20 and \"variable 2\" != 23 and \"variable\" > -2<br>\n",
    "You can try on these cols `'alcohol-use','alcohol-frequency', 'cocaine-use'`. Or your own choice! "
   ]
  },
  {
   "cell_type": "code",
   "execution_count": 58,
   "metadata": {
    "scrolled": true
   },
   "outputs": [],
   "source": [
    "#drug.describe()"
   ]
  },
  {
   "cell_type": "code",
   "execution_count": 59,
   "metadata": {},
   "outputs": [],
   "source": [
    "col = drug.columns\n",
    "mask = (drug['alcohol-use']>20) & (drug['alcohol-frequency']!=23) & (drug['cocaine-use']>-2)"
   ]
  },
  {
   "cell_type": "code",
   "execution_count": 60,
   "metadata": {},
   "outputs": [
    {
     "data": {
      "text/html": [
       "<div>\n",
       "<style scoped>\n",
       "    .dataframe tbody tr th:only-of-type {\n",
       "        vertical-align: middle;\n",
       "    }\n",
       "\n",
       "    .dataframe tbody tr th {\n",
       "        vertical-align: top;\n",
       "    }\n",
       "\n",
       "    .dataframe thead th {\n",
       "        text-align: right;\n",
       "    }\n",
       "</style>\n",
       "<table border=\"1\" class=\"dataframe\">\n",
       "  <thead>\n",
       "    <tr style=\"text-align: right;\">\n",
       "      <th></th>\n",
       "      <th>age</th>\n",
       "      <th>n</th>\n",
       "      <th>alcohol-use</th>\n",
       "      <th>alcohol-frequency</th>\n",
       "      <th>marijuana-use</th>\n",
       "      <th>marijuana-frequency</th>\n",
       "      <th>cocaine-use</th>\n",
       "      <th>cocaine-frequency</th>\n",
       "      <th>crack-use</th>\n",
       "      <th>crack-frequency</th>\n",
       "      <th>...</th>\n",
       "      <th>oxycontin-use</th>\n",
       "      <th>oxycontin-frequency</th>\n",
       "      <th>tranquilizer-use</th>\n",
       "      <th>tranquilizer-frequency</th>\n",
       "      <th>stimulant-use</th>\n",
       "      <th>stimulant-frequency</th>\n",
       "      <th>meth-use</th>\n",
       "      <th>meth-frequency</th>\n",
       "      <th>sedative-use</th>\n",
       "      <th>sedative-frequency</th>\n",
       "    </tr>\n",
       "  </thead>\n",
       "  <tbody>\n",
       "    <tr>\n",
       "      <th>3</th>\n",
       "      <td>15</td>\n",
       "      <td>2956</td>\n",
       "      <td>29.2</td>\n",
       "      <td>6.0</td>\n",
       "      <td>14.5</td>\n",
       "      <td>25.0</td>\n",
       "      <td>0.5</td>\n",
       "      <td>4.0</td>\n",
       "      <td>0.1</td>\n",
       "      <td>9.5</td>\n",
       "      <td>...</td>\n",
       "      <td>0.8</td>\n",
       "      <td>3.0</td>\n",
       "      <td>2.0</td>\n",
       "      <td>4.5</td>\n",
       "      <td>1.5</td>\n",
       "      <td>6.0</td>\n",
       "      <td>0.3</td>\n",
       "      <td>10.5</td>\n",
       "      <td>0.4</td>\n",
       "      <td>30.0</td>\n",
       "    </tr>\n",
       "    <tr>\n",
       "      <th>4</th>\n",
       "      <td>16</td>\n",
       "      <td>3058</td>\n",
       "      <td>40.1</td>\n",
       "      <td>10.0</td>\n",
       "      <td>22.5</td>\n",
       "      <td>30.0</td>\n",
       "      <td>1.0</td>\n",
       "      <td>7.0</td>\n",
       "      <td>0.0</td>\n",
       "      <td>1.0</td>\n",
       "      <td>...</td>\n",
       "      <td>1.1</td>\n",
       "      <td>4.0</td>\n",
       "      <td>2.4</td>\n",
       "      <td>11.0</td>\n",
       "      <td>1.8</td>\n",
       "      <td>9.5</td>\n",
       "      <td>0.3</td>\n",
       "      <td>36.0</td>\n",
       "      <td>0.2</td>\n",
       "      <td>3.0</td>\n",
       "    </tr>\n",
       "    <tr>\n",
       "      <th>5</th>\n",
       "      <td>17</td>\n",
       "      <td>3038</td>\n",
       "      <td>49.3</td>\n",
       "      <td>13.0</td>\n",
       "      <td>28.0</td>\n",
       "      <td>36.0</td>\n",
       "      <td>2.0</td>\n",
       "      <td>5.0</td>\n",
       "      <td>0.1</td>\n",
       "      <td>21.0</td>\n",
       "      <td>...</td>\n",
       "      <td>1.4</td>\n",
       "      <td>6.0</td>\n",
       "      <td>3.5</td>\n",
       "      <td>7.0</td>\n",
       "      <td>2.8</td>\n",
       "      <td>9.0</td>\n",
       "      <td>0.6</td>\n",
       "      <td>48.0</td>\n",
       "      <td>0.5</td>\n",
       "      <td>6.5</td>\n",
       "    </tr>\n",
       "    <tr>\n",
       "      <th>6</th>\n",
       "      <td>18</td>\n",
       "      <td>2469</td>\n",
       "      <td>58.7</td>\n",
       "      <td>24.0</td>\n",
       "      <td>33.7</td>\n",
       "      <td>52.0</td>\n",
       "      <td>3.2</td>\n",
       "      <td>5.0</td>\n",
       "      <td>0.4</td>\n",
       "      <td>10.0</td>\n",
       "      <td>...</td>\n",
       "      <td>1.7</td>\n",
       "      <td>7.0</td>\n",
       "      <td>4.9</td>\n",
       "      <td>12.0</td>\n",
       "      <td>3.0</td>\n",
       "      <td>8.0</td>\n",
       "      <td>0.5</td>\n",
       "      <td>12.0</td>\n",
       "      <td>0.4</td>\n",
       "      <td>10.0</td>\n",
       "    </tr>\n",
       "    <tr>\n",
       "      <th>7</th>\n",
       "      <td>19</td>\n",
       "      <td>2223</td>\n",
       "      <td>64.6</td>\n",
       "      <td>36.0</td>\n",
       "      <td>33.4</td>\n",
       "      <td>60.0</td>\n",
       "      <td>4.1</td>\n",
       "      <td>5.5</td>\n",
       "      <td>0.5</td>\n",
       "      <td>2.0</td>\n",
       "      <td>...</td>\n",
       "      <td>1.5</td>\n",
       "      <td>7.5</td>\n",
       "      <td>4.2</td>\n",
       "      <td>4.5</td>\n",
       "      <td>3.3</td>\n",
       "      <td>6.0</td>\n",
       "      <td>0.4</td>\n",
       "      <td>105.0</td>\n",
       "      <td>0.3</td>\n",
       "      <td>6.0</td>\n",
       "    </tr>\n",
       "    <tr>\n",
       "      <th>8</th>\n",
       "      <td>20</td>\n",
       "      <td>2271</td>\n",
       "      <td>69.7</td>\n",
       "      <td>48.0</td>\n",
       "      <td>34.0</td>\n",
       "      <td>60.0</td>\n",
       "      <td>4.9</td>\n",
       "      <td>8.0</td>\n",
       "      <td>0.6</td>\n",
       "      <td>5.0</td>\n",
       "      <td>...</td>\n",
       "      <td>1.7</td>\n",
       "      <td>12.0</td>\n",
       "      <td>5.4</td>\n",
       "      <td>10.0</td>\n",
       "      <td>4.0</td>\n",
       "      <td>12.0</td>\n",
       "      <td>0.9</td>\n",
       "      <td>12.0</td>\n",
       "      <td>0.5</td>\n",
       "      <td>4.0</td>\n",
       "    </tr>\n",
       "    <tr>\n",
       "      <th>9</th>\n",
       "      <td>21</td>\n",
       "      <td>2354</td>\n",
       "      <td>83.2</td>\n",
       "      <td>52.0</td>\n",
       "      <td>33.0</td>\n",
       "      <td>52.0</td>\n",
       "      <td>4.8</td>\n",
       "      <td>5.0</td>\n",
       "      <td>0.5</td>\n",
       "      <td>17.0</td>\n",
       "      <td>...</td>\n",
       "      <td>1.3</td>\n",
       "      <td>13.5</td>\n",
       "      <td>3.9</td>\n",
       "      <td>7.0</td>\n",
       "      <td>4.1</td>\n",
       "      <td>10.0</td>\n",
       "      <td>0.6</td>\n",
       "      <td>2.0</td>\n",
       "      <td>0.3</td>\n",
       "      <td>9.0</td>\n",
       "    </tr>\n",
       "    <tr>\n",
       "      <th>10</th>\n",
       "      <td>22-23</td>\n",
       "      <td>4707</td>\n",
       "      <td>84.2</td>\n",
       "      <td>52.0</td>\n",
       "      <td>28.4</td>\n",
       "      <td>52.0</td>\n",
       "      <td>4.5</td>\n",
       "      <td>5.0</td>\n",
       "      <td>0.5</td>\n",
       "      <td>5.0</td>\n",
       "      <td>...</td>\n",
       "      <td>1.7</td>\n",
       "      <td>17.5</td>\n",
       "      <td>4.4</td>\n",
       "      <td>12.0</td>\n",
       "      <td>3.6</td>\n",
       "      <td>10.0</td>\n",
       "      <td>0.6</td>\n",
       "      <td>46.0</td>\n",
       "      <td>0.2</td>\n",
       "      <td>52.0</td>\n",
       "    </tr>\n",
       "    <tr>\n",
       "      <th>11</th>\n",
       "      <td>24-25</td>\n",
       "      <td>4591</td>\n",
       "      <td>83.1</td>\n",
       "      <td>52.0</td>\n",
       "      <td>24.9</td>\n",
       "      <td>60.0</td>\n",
       "      <td>4.0</td>\n",
       "      <td>6.0</td>\n",
       "      <td>0.5</td>\n",
       "      <td>6.0</td>\n",
       "      <td>...</td>\n",
       "      <td>1.3</td>\n",
       "      <td>20.0</td>\n",
       "      <td>4.3</td>\n",
       "      <td>10.0</td>\n",
       "      <td>2.6</td>\n",
       "      <td>10.0</td>\n",
       "      <td>0.7</td>\n",
       "      <td>21.0</td>\n",
       "      <td>0.2</td>\n",
       "      <td>17.5</td>\n",
       "    </tr>\n",
       "    <tr>\n",
       "      <th>12</th>\n",
       "      <td>26-29</td>\n",
       "      <td>2628</td>\n",
       "      <td>80.7</td>\n",
       "      <td>52.0</td>\n",
       "      <td>20.8</td>\n",
       "      <td>52.0</td>\n",
       "      <td>3.2</td>\n",
       "      <td>5.0</td>\n",
       "      <td>0.4</td>\n",
       "      <td>6.0</td>\n",
       "      <td>...</td>\n",
       "      <td>1.2</td>\n",
       "      <td>13.5</td>\n",
       "      <td>4.2</td>\n",
       "      <td>10.0</td>\n",
       "      <td>2.3</td>\n",
       "      <td>7.0</td>\n",
       "      <td>0.6</td>\n",
       "      <td>30.0</td>\n",
       "      <td>0.4</td>\n",
       "      <td>4.0</td>\n",
       "    </tr>\n",
       "    <tr>\n",
       "      <th>13</th>\n",
       "      <td>30-34</td>\n",
       "      <td>2864</td>\n",
       "      <td>77.5</td>\n",
       "      <td>52.0</td>\n",
       "      <td>16.4</td>\n",
       "      <td>72.0</td>\n",
       "      <td>2.1</td>\n",
       "      <td>8.0</td>\n",
       "      <td>0.5</td>\n",
       "      <td>15.0</td>\n",
       "      <td>...</td>\n",
       "      <td>0.9</td>\n",
       "      <td>46.0</td>\n",
       "      <td>3.6</td>\n",
       "      <td>8.0</td>\n",
       "      <td>1.4</td>\n",
       "      <td>12.0</td>\n",
       "      <td>0.4</td>\n",
       "      <td>54.0</td>\n",
       "      <td>0.4</td>\n",
       "      <td>10.0</td>\n",
       "    </tr>\n",
       "    <tr>\n",
       "      <th>14</th>\n",
       "      <td>35-49</td>\n",
       "      <td>7391</td>\n",
       "      <td>75.0</td>\n",
       "      <td>52.0</td>\n",
       "      <td>10.4</td>\n",
       "      <td>48.0</td>\n",
       "      <td>1.5</td>\n",
       "      <td>15.0</td>\n",
       "      <td>0.5</td>\n",
       "      <td>48.0</td>\n",
       "      <td>...</td>\n",
       "      <td>0.3</td>\n",
       "      <td>12.0</td>\n",
       "      <td>1.9</td>\n",
       "      <td>6.0</td>\n",
       "      <td>0.6</td>\n",
       "      <td>24.0</td>\n",
       "      <td>0.2</td>\n",
       "      <td>104.0</td>\n",
       "      <td>0.3</td>\n",
       "      <td>10.0</td>\n",
       "    </tr>\n",
       "    <tr>\n",
       "      <th>15</th>\n",
       "      <td>50-64</td>\n",
       "      <td>3923</td>\n",
       "      <td>67.2</td>\n",
       "      <td>52.0</td>\n",
       "      <td>7.3</td>\n",
       "      <td>52.0</td>\n",
       "      <td>0.9</td>\n",
       "      <td>36.0</td>\n",
       "      <td>0.4</td>\n",
       "      <td>62.0</td>\n",
       "      <td>...</td>\n",
       "      <td>0.4</td>\n",
       "      <td>5.0</td>\n",
       "      <td>1.4</td>\n",
       "      <td>10.0</td>\n",
       "      <td>0.3</td>\n",
       "      <td>24.0</td>\n",
       "      <td>0.2</td>\n",
       "      <td>30.0</td>\n",
       "      <td>0.2</td>\n",
       "      <td>104.0</td>\n",
       "    </tr>\n",
       "    <tr>\n",
       "      <th>16</th>\n",
       "      <td>65+</td>\n",
       "      <td>2448</td>\n",
       "      <td>49.3</td>\n",
       "      <td>52.0</td>\n",
       "      <td>1.2</td>\n",
       "      <td>36.0</td>\n",
       "      <td>0.0</td>\n",
       "      <td>-</td>\n",
       "      <td>0.0</td>\n",
       "      <td>-</td>\n",
       "      <td>...</td>\n",
       "      <td>0.0</td>\n",
       "      <td>-</td>\n",
       "      <td>0.2</td>\n",
       "      <td>5.0</td>\n",
       "      <td>0.0</td>\n",
       "      <td>364.0</td>\n",
       "      <td>0.0</td>\n",
       "      <td>-</td>\n",
       "      <td>0.0</td>\n",
       "      <td>15.0</td>\n",
       "    </tr>\n",
       "  </tbody>\n",
       "</table>\n",
       "<p>14 rows × 28 columns</p>\n",
       "</div>"
      ],
      "text/plain": [
       "      age     n  alcohol-use  alcohol-frequency  marijuana-use  \\\n",
       "3      15  2956         29.2                6.0           14.5   \n",
       "4      16  3058         40.1               10.0           22.5   \n",
       "5      17  3038         49.3               13.0           28.0   \n",
       "6      18  2469         58.7               24.0           33.7   \n",
       "7      19  2223         64.6               36.0           33.4   \n",
       "8      20  2271         69.7               48.0           34.0   \n",
       "9      21  2354         83.2               52.0           33.0   \n",
       "10  22-23  4707         84.2               52.0           28.4   \n",
       "11  24-25  4591         83.1               52.0           24.9   \n",
       "12  26-29  2628         80.7               52.0           20.8   \n",
       "13  30-34  2864         77.5               52.0           16.4   \n",
       "14  35-49  7391         75.0               52.0           10.4   \n",
       "15  50-64  3923         67.2               52.0            7.3   \n",
       "16    65+  2448         49.3               52.0            1.2   \n",
       "\n",
       "    marijuana-frequency  cocaine-use cocaine-frequency  crack-use  \\\n",
       "3                  25.0          0.5               4.0        0.1   \n",
       "4                  30.0          1.0               7.0        0.0   \n",
       "5                  36.0          2.0               5.0        0.1   \n",
       "6                  52.0          3.2               5.0        0.4   \n",
       "7                  60.0          4.1               5.5        0.5   \n",
       "8                  60.0          4.9               8.0        0.6   \n",
       "9                  52.0          4.8               5.0        0.5   \n",
       "10                 52.0          4.5               5.0        0.5   \n",
       "11                 60.0          4.0               6.0        0.5   \n",
       "12                 52.0          3.2               5.0        0.4   \n",
       "13                 72.0          2.1               8.0        0.5   \n",
       "14                 48.0          1.5              15.0        0.5   \n",
       "15                 52.0          0.9              36.0        0.4   \n",
       "16                 36.0          0.0                 -        0.0   \n",
       "\n",
       "   crack-frequency  ...  oxycontin-use oxycontin-frequency  tranquilizer-use  \\\n",
       "3              9.5  ...            0.8                 3.0               2.0   \n",
       "4              1.0  ...            1.1                 4.0               2.4   \n",
       "5             21.0  ...            1.4                 6.0               3.5   \n",
       "6             10.0  ...            1.7                 7.0               4.9   \n",
       "7              2.0  ...            1.5                 7.5               4.2   \n",
       "8              5.0  ...            1.7                12.0               5.4   \n",
       "9             17.0  ...            1.3                13.5               3.9   \n",
       "10             5.0  ...            1.7                17.5               4.4   \n",
       "11             6.0  ...            1.3                20.0               4.3   \n",
       "12             6.0  ...            1.2                13.5               4.2   \n",
       "13            15.0  ...            0.9                46.0               3.6   \n",
       "14            48.0  ...            0.3                12.0               1.9   \n",
       "15            62.0  ...            0.4                 5.0               1.4   \n",
       "16               -  ...            0.0                   -               0.2   \n",
       "\n",
       "    tranquilizer-frequency  stimulant-use stimulant-frequency  meth-use  \\\n",
       "3                      4.5            1.5                 6.0       0.3   \n",
       "4                     11.0            1.8                 9.5       0.3   \n",
       "5                      7.0            2.8                 9.0       0.6   \n",
       "6                     12.0            3.0                 8.0       0.5   \n",
       "7                      4.5            3.3                 6.0       0.4   \n",
       "8                     10.0            4.0                12.0       0.9   \n",
       "9                      7.0            4.1                10.0       0.6   \n",
       "10                    12.0            3.6                10.0       0.6   \n",
       "11                    10.0            2.6                10.0       0.7   \n",
       "12                    10.0            2.3                 7.0       0.6   \n",
       "13                     8.0            1.4                12.0       0.4   \n",
       "14                     6.0            0.6                24.0       0.2   \n",
       "15                    10.0            0.3                24.0       0.2   \n",
       "16                     5.0            0.0               364.0       0.0   \n",
       "\n",
       "    meth-frequency  sedative-use sedative-frequency  \n",
       "3             10.5           0.4               30.0  \n",
       "4             36.0           0.2                3.0  \n",
       "5             48.0           0.5                6.5  \n",
       "6             12.0           0.4               10.0  \n",
       "7            105.0           0.3                6.0  \n",
       "8             12.0           0.5                4.0  \n",
       "9              2.0           0.3                9.0  \n",
       "10            46.0           0.2               52.0  \n",
       "11            21.0           0.2               17.5  \n",
       "12            30.0           0.4                4.0  \n",
       "13            54.0           0.4               10.0  \n",
       "14           104.0           0.3               10.0  \n",
       "15            30.0           0.2              104.0  \n",
       "16               -           0.0               15.0  \n",
       "\n",
       "[14 rows x 28 columns]"
      ]
     },
     "execution_count": 60,
     "metadata": {},
     "output_type": "execute_result"
    }
   ],
   "source": [
    "drug[mask]"
   ]
  },
  {
   "cell_type": "markdown",
   "metadata": {
    "slideshow": {
     "slide_type": "slide"
    }
   },
   "source": [
    "<a id='review'></a>\n",
    "\n",
    "### Review    (SALAM try to answer)\n",
    "\n",
    "---\n",
    "\n",
    " - What should we do with a data set when we first acquire it?\n",
    " - What's important to consider when first looking at a data set? \n",
    " - What are some common problems we can run into with new data?\n",
    " - What are some common operations we can run with DataFrames?\n",
    " - How do we slice? Index? Filter?"
   ]
  },
  {
   "cell_type": "code",
   "execution_count": null,
   "metadata": {},
   "outputs": [],
   "source": []
  }
 ],
 "metadata": {
  "anaconda-cloud": {},
  "kernelspec": {
   "display_name": "Python 3",
   "language": "python",
   "name": "python3"
  },
  "language_info": {
   "codemirror_mode": {
    "name": "ipython",
    "version": 3
   },
   "file_extension": ".py",
   "mimetype": "text/x-python",
   "name": "python",
   "nbconvert_exporter": "python",
   "pygments_lexer": "ipython3",
   "version": "3.7.3"
  },
  "nbpresent": {
   "slides": {
    "5d802dcc-eba2-49cc-b8a7-4ba12c601026": {
     "id": "5d802dcc-eba2-49cc-b8a7-4ba12c601026",
     "prev": null,
     "regions": {
      "19d2ea1f-046e-4733-8563-5001186e649c": {
       "attrs": {
        "height": 1,
        "width": 1,
        "x": 0,
        "y": 0
       },
       "content": {
        "cell": "3433c1f4-195d-4a6b-8ad6-961d54c4c96d",
        "part": "source"
       },
       "id": "19d2ea1f-046e-4733-8563-5001186e649c"
      }
     },
     "theme": null
    },
    "b84d227e-3775-4693-a414-689ea9c77c6f": {
     "id": "b84d227e-3775-4693-a414-689ea9c77c6f",
     "prev": "c9e607c1-dc97-4a52-a24b-c5fa7fec789f",
     "regions": {
      "f05b4e9e-0831-49cc-8a61-40c615d0aed6": {
       "attrs": {
        "height": 1,
        "width": 1,
        "x": 0,
        "y": 0
       },
       "content": {
        "cell": "e9917673-4eb8-403d-95ba-3068360f3dcd",
        "part": "source"
       },
       "id": "f05b4e9e-0831-49cc-8a61-40c615d0aed6"
      }
     }
    },
    "c9e607c1-dc97-4a52-a24b-c5fa7fec789f": {
     "id": "c9e607c1-dc97-4a52-a24b-c5fa7fec789f",
     "prev": "5d802dcc-eba2-49cc-b8a7-4ba12c601026",
     "regions": {
      "be473921-0ea3-42d1-9fd2-6b9257a8966d": {
       "attrs": {
        "height": 1,
        "width": 1,
        "x": 0,
        "y": 0
       },
       "id": "be473921-0ea3-42d1-9fd2-6b9257a8966d"
      }
     }
    }
   },
   "themes": {
    "default": "5fe298e2-cc87-47e9-b12c-6f4471f17350",
    "theme": {
     "5fe298e2-cc87-47e9-b12c-6f4471f17350": {
      "id": "5fe298e2-cc87-47e9-b12c-6f4471f17350",
      "palette": {
       "19cc588f-0593-49c9-9f4b-e4d7cc113b1c": {
        "id": "19cc588f-0593-49c9-9f4b-e4d7cc113b1c",
        "rgb": [
         252,
         252,
         252
        ]
       },
       "31af15d2-7e15-44c5-ab5e-e04b16a89eff": {
        "id": "31af15d2-7e15-44c5-ab5e-e04b16a89eff",
        "rgb": [
         68,
         68,
         68
        ]
       },
       "50f92c45-a630-455b-aec3-788680ec7410": {
        "id": "50f92c45-a630-455b-aec3-788680ec7410",
        "rgb": [
         155,
         177,
         192
        ]
       },
       "c5cc3653-2ee1-402a-aba2-7caae1da4f6c": {
        "id": "c5cc3653-2ee1-402a-aba2-7caae1da4f6c",
        "rgb": [
         43,
         126,
         184
        ]
       },
       "efa7f048-9acb-414c-8b04-a26811511a21": {
        "id": "efa7f048-9acb-414c-8b04-a26811511a21",
        "rgb": [
         25.118061674008803,
         73.60176211453744,
         107.4819383259912
        ]
       }
      },
      "rules": {
       "blockquote": {
        "color": "50f92c45-a630-455b-aec3-788680ec7410"
       },
       "code": {
        "font-family": "Anonymous Pro"
       },
       "h1": {
        "color": "c5cc3653-2ee1-402a-aba2-7caae1da4f6c",
        "font-family": "Lato",
        "font-size": 8
       },
       "h2": {
        "color": "c5cc3653-2ee1-402a-aba2-7caae1da4f6c",
        "font-family": "Lato",
        "font-size": 6
       },
       "h3": {
        "color": "50f92c45-a630-455b-aec3-788680ec7410",
        "font-family": "Lato",
        "font-size": 5.5
       },
       "h4": {
        "color": "c5cc3653-2ee1-402a-aba2-7caae1da4f6c",
        "font-family": "Lato",
        "font-size": 5
       },
       "h5": {
        "font-family": "Lato"
       },
       "h6": {
        "font-family": "Lato"
       },
       "h7": {
        "font-family": "Lato"
       },
       "pre": {
        "font-family": "Anonymous Pro",
        "font-size": 4
       }
      },
      "text-base": {
       "font-family": "Merriweather",
       "font-size": 4
      }
     }
    }
   }
  },
  "toc": {
   "nav_menu": {},
   "number_sections": false,
   "sideBar": true,
   "skip_h1_title": false,
   "title_cell": "Table of Contents",
   "title_sidebar": "Contents",
   "toc_cell": false,
   "toc_position": {},
   "toc_section_display": true,
   "toc_window_display": false
  },
  "varInspector": {
   "cols": {
    "lenName": 16,
    "lenType": 16,
    "lenVar": 40
   },
   "kernels_config": {
    "python": {
     "delete_cmd_postfix": "",
     "delete_cmd_prefix": "del ",
     "library": "var_list.py",
     "varRefreshCmd": "print(var_dic_list())"
    },
    "r": {
     "delete_cmd_postfix": ") ",
     "delete_cmd_prefix": "rm(",
     "library": "var_list.r",
     "varRefreshCmd": "cat(var_dic_list()) "
    }
   },
   "types_to_exclude": [
    "module",
    "function",
    "builtin_function_or_method",
    "instance",
    "_Feature"
   ],
   "window_display": false
  }
 },
 "nbformat": 4,
 "nbformat_minor": 1
}
